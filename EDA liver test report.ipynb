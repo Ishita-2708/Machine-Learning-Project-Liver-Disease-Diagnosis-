{
 "cells": [
  {
   "cell_type": "code",
   "execution_count": 1,
   "id": "f171e25d",
   "metadata": {},
   "outputs": [],
   "source": [
    "import numpy as np\n",
    "import pandas as pd\n",
    "import matplotlib.pyplot as plt\n",
    "import seaborn as sns\n",
    "import warnings\n",
    "warnings.filterwarnings('ignore')"
   ]
  },
  {
   "cell_type": "code",
   "execution_count": 2,
   "id": "daaa5478",
   "metadata": {},
   "outputs": [],
   "source": [
    "data =pd.read_csv('C:/Users/ishit/Desktop/Indian Liver Patient Dataset (ILPD).csv')"
   ]
  },
  {
   "cell_type": "code",
   "execution_count": 3,
   "id": "05cec4d1",
   "metadata": {},
   "outputs": [
    {
     "data": {
      "text/html": [
       "<div>\n",
       "<style scoped>\n",
       "    .dataframe tbody tr th:only-of-type {\n",
       "        vertical-align: middle;\n",
       "    }\n",
       "\n",
       "    .dataframe tbody tr th {\n",
       "        vertical-align: top;\n",
       "    }\n",
       "\n",
       "    .dataframe thead th {\n",
       "        text-align: right;\n",
       "    }\n",
       "</style>\n",
       "<table border=\"1\" class=\"dataframe\">\n",
       "  <thead>\n",
       "    <tr style=\"text-align: right;\">\n",
       "      <th></th>\n",
       "      <th>age</th>\n",
       "      <th>gender</th>\n",
       "      <th>tot_bilirubin</th>\n",
       "      <th>direct_bilirubin</th>\n",
       "      <th>tot_proteins</th>\n",
       "      <th>albumin</th>\n",
       "      <th>ag_ratio</th>\n",
       "      <th>sgpt</th>\n",
       "      <th>sgot</th>\n",
       "      <th>alkphos</th>\n",
       "      <th>is_patient</th>\n",
       "    </tr>\n",
       "  </thead>\n",
       "  <tbody>\n",
       "    <tr>\n",
       "      <th>0</th>\n",
       "      <td>65</td>\n",
       "      <td>Female</td>\n",
       "      <td>0.7</td>\n",
       "      <td>0.1</td>\n",
       "      <td>187</td>\n",
       "      <td>16</td>\n",
       "      <td>18</td>\n",
       "      <td>6.8</td>\n",
       "      <td>3.3</td>\n",
       "      <td>0.90</td>\n",
       "      <td>1</td>\n",
       "    </tr>\n",
       "    <tr>\n",
       "      <th>1</th>\n",
       "      <td>62</td>\n",
       "      <td>Male</td>\n",
       "      <td>10.9</td>\n",
       "      <td>5.5</td>\n",
       "      <td>699</td>\n",
       "      <td>64</td>\n",
       "      <td>100</td>\n",
       "      <td>7.5</td>\n",
       "      <td>3.2</td>\n",
       "      <td>0.74</td>\n",
       "      <td>1</td>\n",
       "    </tr>\n",
       "    <tr>\n",
       "      <th>2</th>\n",
       "      <td>62</td>\n",
       "      <td>Male</td>\n",
       "      <td>7.3</td>\n",
       "      <td>4.1</td>\n",
       "      <td>490</td>\n",
       "      <td>60</td>\n",
       "      <td>68</td>\n",
       "      <td>7.0</td>\n",
       "      <td>3.3</td>\n",
       "      <td>0.89</td>\n",
       "      <td>1</td>\n",
       "    </tr>\n",
       "    <tr>\n",
       "      <th>3</th>\n",
       "      <td>58</td>\n",
       "      <td>Male</td>\n",
       "      <td>1.0</td>\n",
       "      <td>0.4</td>\n",
       "      <td>182</td>\n",
       "      <td>14</td>\n",
       "      <td>20</td>\n",
       "      <td>6.8</td>\n",
       "      <td>3.4</td>\n",
       "      <td>1.00</td>\n",
       "      <td>1</td>\n",
       "    </tr>\n",
       "    <tr>\n",
       "      <th>4</th>\n",
       "      <td>72</td>\n",
       "      <td>Male</td>\n",
       "      <td>3.9</td>\n",
       "      <td>2.0</td>\n",
       "      <td>195</td>\n",
       "      <td>27</td>\n",
       "      <td>59</td>\n",
       "      <td>7.3</td>\n",
       "      <td>2.4</td>\n",
       "      <td>0.40</td>\n",
       "      <td>1</td>\n",
       "    </tr>\n",
       "    <tr>\n",
       "      <th>...</th>\n",
       "      <td>...</td>\n",
       "      <td>...</td>\n",
       "      <td>...</td>\n",
       "      <td>...</td>\n",
       "      <td>...</td>\n",
       "      <td>...</td>\n",
       "      <td>...</td>\n",
       "      <td>...</td>\n",
       "      <td>...</td>\n",
       "      <td>...</td>\n",
       "      <td>...</td>\n",
       "    </tr>\n",
       "    <tr>\n",
       "      <th>578</th>\n",
       "      <td>60</td>\n",
       "      <td>Male</td>\n",
       "      <td>0.5</td>\n",
       "      <td>0.1</td>\n",
       "      <td>500</td>\n",
       "      <td>20</td>\n",
       "      <td>34</td>\n",
       "      <td>5.9</td>\n",
       "      <td>1.6</td>\n",
       "      <td>0.37</td>\n",
       "      <td>2</td>\n",
       "    </tr>\n",
       "    <tr>\n",
       "      <th>579</th>\n",
       "      <td>40</td>\n",
       "      <td>Male</td>\n",
       "      <td>0.6</td>\n",
       "      <td>0.1</td>\n",
       "      <td>98</td>\n",
       "      <td>35</td>\n",
       "      <td>31</td>\n",
       "      <td>6.0</td>\n",
       "      <td>3.2</td>\n",
       "      <td>1.10</td>\n",
       "      <td>1</td>\n",
       "    </tr>\n",
       "    <tr>\n",
       "      <th>580</th>\n",
       "      <td>52</td>\n",
       "      <td>Male</td>\n",
       "      <td>0.8</td>\n",
       "      <td>0.2</td>\n",
       "      <td>245</td>\n",
       "      <td>48</td>\n",
       "      <td>49</td>\n",
       "      <td>6.4</td>\n",
       "      <td>3.2</td>\n",
       "      <td>1.00</td>\n",
       "      <td>1</td>\n",
       "    </tr>\n",
       "    <tr>\n",
       "      <th>581</th>\n",
       "      <td>31</td>\n",
       "      <td>Male</td>\n",
       "      <td>1.3</td>\n",
       "      <td>0.5</td>\n",
       "      <td>184</td>\n",
       "      <td>29</td>\n",
       "      <td>32</td>\n",
       "      <td>6.8</td>\n",
       "      <td>3.4</td>\n",
       "      <td>1.00</td>\n",
       "      <td>1</td>\n",
       "    </tr>\n",
       "    <tr>\n",
       "      <th>582</th>\n",
       "      <td>38</td>\n",
       "      <td>Male</td>\n",
       "      <td>1.0</td>\n",
       "      <td>0.3</td>\n",
       "      <td>216</td>\n",
       "      <td>21</td>\n",
       "      <td>24</td>\n",
       "      <td>7.3</td>\n",
       "      <td>4.4</td>\n",
       "      <td>1.50</td>\n",
       "      <td>2</td>\n",
       "    </tr>\n",
       "  </tbody>\n",
       "</table>\n",
       "<p>583 rows × 11 columns</p>\n",
       "</div>"
      ],
      "text/plain": [
       "     age  gender  tot_bilirubin  direct_bilirubin  tot_proteins  albumin  \\\n",
       "0     65  Female            0.7               0.1           187       16   \n",
       "1     62    Male           10.9               5.5           699       64   \n",
       "2     62    Male            7.3               4.1           490       60   \n",
       "3     58    Male            1.0               0.4           182       14   \n",
       "4     72    Male            3.9               2.0           195       27   \n",
       "..   ...     ...            ...               ...           ...      ...   \n",
       "578   60    Male            0.5               0.1           500       20   \n",
       "579   40    Male            0.6               0.1            98       35   \n",
       "580   52    Male            0.8               0.2           245       48   \n",
       "581   31    Male            1.3               0.5           184       29   \n",
       "582   38    Male            1.0               0.3           216       21   \n",
       "\n",
       "     ag_ratio  sgpt  sgot  alkphos  is_patient  \n",
       "0          18   6.8   3.3     0.90           1  \n",
       "1         100   7.5   3.2     0.74           1  \n",
       "2          68   7.0   3.3     0.89           1  \n",
       "3          20   6.8   3.4     1.00           1  \n",
       "4          59   7.3   2.4     0.40           1  \n",
       "..        ...   ...   ...      ...         ...  \n",
       "578        34   5.9   1.6     0.37           2  \n",
       "579        31   6.0   3.2     1.10           1  \n",
       "580        49   6.4   3.2     1.00           1  \n",
       "581        32   6.8   3.4     1.00           1  \n",
       "582        24   7.3   4.4     1.50           2  \n",
       "\n",
       "[583 rows x 11 columns]"
      ]
     },
     "execution_count": 3,
     "metadata": {},
     "output_type": "execute_result"
    }
   ],
   "source": [
    "data"
   ]
  },
  {
   "cell_type": "code",
   "execution_count": 4,
   "id": "6bcc25e8",
   "metadata": {},
   "outputs": [],
   "source": [
    "# Explore the data set"
   ]
  },
  {
   "cell_type": "code",
   "execution_count": 5,
   "id": "a9ceef1a",
   "metadata": {},
   "outputs": [
    {
     "name": "stdout",
     "output_type": "stream",
     "text": [
      "<class 'pandas.core.frame.DataFrame'>\n",
      "RangeIndex: 583 entries, 0 to 582\n",
      "Data columns (total 11 columns):\n",
      " #   Column            Non-Null Count  Dtype  \n",
      "---  ------            --------------  -----  \n",
      " 0   age               583 non-null    int64  \n",
      " 1   gender            583 non-null    object \n",
      " 2   tot_bilirubin     583 non-null    float64\n",
      " 3   direct_bilirubin  583 non-null    float64\n",
      " 4   tot_proteins      583 non-null    int64  \n",
      " 5   albumin           583 non-null    int64  \n",
      " 6   ag_ratio          583 non-null    int64  \n",
      " 7   sgpt              583 non-null    float64\n",
      " 8   sgot              583 non-null    float64\n",
      " 9   alkphos           579 non-null    float64\n",
      " 10  is_patient        583 non-null    int64  \n",
      "dtypes: float64(5), int64(5), object(1)\n",
      "memory usage: 50.2+ KB\n"
     ]
    }
   ],
   "source": [
    "data.info()"
   ]
  },
  {
   "cell_type": "code",
   "execution_count": 6,
   "id": "4bfa0c49",
   "metadata": {},
   "outputs": [],
   "source": [
    "# we have missing values in alkphos"
   ]
  },
  {
   "cell_type": "code",
   "execution_count": 7,
   "id": "f541437f",
   "metadata": {},
   "outputs": [],
   "source": [
    "data = data.dropna()"
   ]
  },
  {
   "cell_type": "code",
   "execution_count": 8,
   "id": "6ddf8e58",
   "metadata": {},
   "outputs": [
    {
     "name": "stdout",
     "output_type": "stream",
     "text": [
      "<class 'pandas.core.frame.DataFrame'>\n",
      "Int64Index: 579 entries, 0 to 582\n",
      "Data columns (total 11 columns):\n",
      " #   Column            Non-Null Count  Dtype  \n",
      "---  ------            --------------  -----  \n",
      " 0   age               579 non-null    int64  \n",
      " 1   gender            579 non-null    object \n",
      " 2   tot_bilirubin     579 non-null    float64\n",
      " 3   direct_bilirubin  579 non-null    float64\n",
      " 4   tot_proteins      579 non-null    int64  \n",
      " 5   albumin           579 non-null    int64  \n",
      " 6   ag_ratio          579 non-null    int64  \n",
      " 7   sgpt              579 non-null    float64\n",
      " 8   sgot              579 non-null    float64\n",
      " 9   alkphos           579 non-null    float64\n",
      " 10  is_patient        579 non-null    int64  \n",
      "dtypes: float64(5), int64(5), object(1)\n",
      "memory usage: 54.3+ KB\n"
     ]
    }
   ],
   "source": [
    "data.info()"
   ]
  },
  {
   "cell_type": "code",
   "execution_count": 9,
   "id": "f1ab6478",
   "metadata": {},
   "outputs": [],
   "source": [
    "# some tranformation"
   ]
  },
  {
   "cell_type": "code",
   "execution_count": 10,
   "id": "d529d1a3",
   "metadata": {},
   "outputs": [],
   "source": [
    "data['gender']=data['gender'].apply(lambda x:1 if x=='Male'else 0)"
   ]
  },
  {
   "cell_type": "code",
   "execution_count": 11,
   "id": "247f6682",
   "metadata": {},
   "outputs": [],
   "source": [
    "data['is_patient'].replace(2,0,inplace=True)"
   ]
  },
  {
   "cell_type": "code",
   "execution_count": 12,
   "id": "e7167e23",
   "metadata": {},
   "outputs": [],
   "source": [
    "data.drop(columns=['tot_bilirubin','direct_bilirubin','sgpt','sgot','alkphos'],inplace=True)"
   ]
  },
  {
   "cell_type": "code",
   "execution_count": 13,
   "id": "fdecb286",
   "metadata": {},
   "outputs": [
    {
     "data": {
      "text/html": [
       "<div>\n",
       "<style scoped>\n",
       "    .dataframe tbody tr th:only-of-type {\n",
       "        vertical-align: middle;\n",
       "    }\n",
       "\n",
       "    .dataframe tbody tr th {\n",
       "        vertical-align: top;\n",
       "    }\n",
       "\n",
       "    .dataframe thead th {\n",
       "        text-align: right;\n",
       "    }\n",
       "</style>\n",
       "<table border=\"1\" class=\"dataframe\">\n",
       "  <thead>\n",
       "    <tr style=\"text-align: right;\">\n",
       "      <th></th>\n",
       "      <th>age</th>\n",
       "      <th>gender</th>\n",
       "      <th>tot_proteins</th>\n",
       "      <th>albumin</th>\n",
       "      <th>ag_ratio</th>\n",
       "      <th>is_patient</th>\n",
       "    </tr>\n",
       "  </thead>\n",
       "  <tbody>\n",
       "    <tr>\n",
       "      <th>0</th>\n",
       "      <td>65</td>\n",
       "      <td>0</td>\n",
       "      <td>187</td>\n",
       "      <td>16</td>\n",
       "      <td>18</td>\n",
       "      <td>1</td>\n",
       "    </tr>\n",
       "    <tr>\n",
       "      <th>1</th>\n",
       "      <td>62</td>\n",
       "      <td>1</td>\n",
       "      <td>699</td>\n",
       "      <td>64</td>\n",
       "      <td>100</td>\n",
       "      <td>1</td>\n",
       "    </tr>\n",
       "    <tr>\n",
       "      <th>2</th>\n",
       "      <td>62</td>\n",
       "      <td>1</td>\n",
       "      <td>490</td>\n",
       "      <td>60</td>\n",
       "      <td>68</td>\n",
       "      <td>1</td>\n",
       "    </tr>\n",
       "    <tr>\n",
       "      <th>3</th>\n",
       "      <td>58</td>\n",
       "      <td>1</td>\n",
       "      <td>182</td>\n",
       "      <td>14</td>\n",
       "      <td>20</td>\n",
       "      <td>1</td>\n",
       "    </tr>\n",
       "    <tr>\n",
       "      <th>4</th>\n",
       "      <td>72</td>\n",
       "      <td>1</td>\n",
       "      <td>195</td>\n",
       "      <td>27</td>\n",
       "      <td>59</td>\n",
       "      <td>1</td>\n",
       "    </tr>\n",
       "    <tr>\n",
       "      <th>...</th>\n",
       "      <td>...</td>\n",
       "      <td>...</td>\n",
       "      <td>...</td>\n",
       "      <td>...</td>\n",
       "      <td>...</td>\n",
       "      <td>...</td>\n",
       "    </tr>\n",
       "    <tr>\n",
       "      <th>578</th>\n",
       "      <td>60</td>\n",
       "      <td>1</td>\n",
       "      <td>500</td>\n",
       "      <td>20</td>\n",
       "      <td>34</td>\n",
       "      <td>0</td>\n",
       "    </tr>\n",
       "    <tr>\n",
       "      <th>579</th>\n",
       "      <td>40</td>\n",
       "      <td>1</td>\n",
       "      <td>98</td>\n",
       "      <td>35</td>\n",
       "      <td>31</td>\n",
       "      <td>1</td>\n",
       "    </tr>\n",
       "    <tr>\n",
       "      <th>580</th>\n",
       "      <td>52</td>\n",
       "      <td>1</td>\n",
       "      <td>245</td>\n",
       "      <td>48</td>\n",
       "      <td>49</td>\n",
       "      <td>1</td>\n",
       "    </tr>\n",
       "    <tr>\n",
       "      <th>581</th>\n",
       "      <td>31</td>\n",
       "      <td>1</td>\n",
       "      <td>184</td>\n",
       "      <td>29</td>\n",
       "      <td>32</td>\n",
       "      <td>1</td>\n",
       "    </tr>\n",
       "    <tr>\n",
       "      <th>582</th>\n",
       "      <td>38</td>\n",
       "      <td>1</td>\n",
       "      <td>216</td>\n",
       "      <td>21</td>\n",
       "      <td>24</td>\n",
       "      <td>0</td>\n",
       "    </tr>\n",
       "  </tbody>\n",
       "</table>\n",
       "<p>579 rows × 6 columns</p>\n",
       "</div>"
      ],
      "text/plain": [
       "     age  gender  tot_proteins  albumin  ag_ratio  is_patient\n",
       "0     65       0           187       16        18           1\n",
       "1     62       1           699       64       100           1\n",
       "2     62       1           490       60        68           1\n",
       "3     58       1           182       14        20           1\n",
       "4     72       1           195       27        59           1\n",
       "..   ...     ...           ...      ...       ...         ...\n",
       "578   60       1           500       20        34           0\n",
       "579   40       1            98       35        31           1\n",
       "580   52       1           245       48        49           1\n",
       "581   31       1           184       29        32           1\n",
       "582   38       1           216       21        24           0\n",
       "\n",
       "[579 rows x 6 columns]"
      ]
     },
     "execution_count": 13,
     "metadata": {},
     "output_type": "execute_result"
    }
   ],
   "source": [
    "data"
   ]
  },
  {
   "cell_type": "code",
   "execution_count": 14,
   "id": "9e3871fc",
   "metadata": {},
   "outputs": [],
   "source": [
    "# 1-------> person having liver disease\n",
    "# 0-------> person not having liver disease"
   ]
  },
  {
   "cell_type": "code",
   "execution_count": 15,
   "id": "e654ac91",
   "metadata": {},
   "outputs": [
    {
     "data": {
      "text/plain": [
       "<Figure size 1800x576 with 0 Axes>"
      ]
     },
     "execution_count": 15,
     "metadata": {},
     "output_type": "execute_result"
    },
    {
     "data": {
      "image/png": "[encoded data removed]",
      "text/plain": [
       "<Figure size 432x288 with 2 Axes>"
      ]
     },
     "metadata": {
      "needs_background": "light"
     },
     "output_type": "display_data"
    },
    {
     "data": {
      "text/plain": [
       "<Figure size 1800x576 with 0 Axes>"
      ]
     },
     "metadata": {},
     "output_type": "display_data"
    }
   ],
   "source": [
    "sns.heatmap(data.corr(),annot=True,cmap='RdBu')\n",
    "plt.figure(figsize=(25,8))"
   ]
  },
  {
   "cell_type": "markdown",
   "id": "9985e8a9",
   "metadata": {},
   "source": [
    "## Data analysis on person having liver disease"
   ]
  },
  {
   "cell_type": "code",
   "execution_count": 16,
   "id": "b30bc887",
   "metadata": {},
   "outputs": [
    {
     "data": {
      "image/png": "[encoded data removed]",
      "text/plain": [
       "<Figure size 432x288 with 1 Axes>"
      ]
     },
     "metadata": {
      "needs_background": "light"
     },
     "output_type": "display_data"
    }
   ],
   "source": [
    "sns.countplot(data['gender'],hue=data['is_patient'])\n",
    "plt.show()"
   ]
  },
  {
   "cell_type": "code",
   "execution_count": 17,
   "id": "42dbf341",
   "metadata": {},
   "outputs": [],
   "source": [
    "# the above graph shows that male "
   ]
  },
  {
   "cell_type": "code",
   "execution_count": 18,
   "id": "4d7a7e6f",
   "metadata": {},
   "outputs": [],
   "source": [
    "data_gender = data.groupby(by=['gender','is_patient'])['is_patient'].count()"
   ]
  },
  {
   "cell_type": "code",
   "execution_count": 19,
   "id": "8642b7b2",
   "metadata": {},
   "outputs": [
    {
     "name": "stdout",
     "output_type": "stream",
     "text": [
      "Female_patient : 65.00 % \n",
      "Male_patient : 73.58 % \n"
     ]
    }
   ],
   "source": [
    "print('Female_patient : %.2f %% '%(data_gender[0][1]/(data_gender[0][0]+data_gender[0][1])*100))\n",
    "print('Male_patient : %.2f %% '%(data_gender[1][1]/(data_gender[1][0]+data_gender[1][1])*100))"
   ]
  },
  {
   "cell_type": "code",
   "execution_count": 20,
   "id": "25471621",
   "metadata": {},
   "outputs": [
    {
     "data": {
      "text/plain": [
       "array([65, 62, 58, 72, 46, 26, 29, 17, 55, 57, 64, 74, 61, 25, 38, 33, 40,\n",
       "       51, 63, 34, 20, 84, 52, 30, 48, 47, 45, 42, 50, 85, 35, 21, 32, 31,\n",
       "       54, 37, 66, 60, 19, 75, 68, 70, 49, 14, 13, 18, 39, 27, 36, 24, 28,\n",
       "       53, 15, 56, 44, 41,  7, 22,  8,  6,  4, 43, 23, 12, 69, 16, 78, 11,\n",
       "       73, 67, 10, 90], dtype=int64)"
      ]
     },
     "execution_count": 20,
     "metadata": {},
     "output_type": "execute_result"
    }
   ],
   "source": [
    "data['age'].unique()"
   ]
  },
  {
   "cell_type": "code",
   "execution_count": 21,
   "id": "adc6d769",
   "metadata": {},
   "outputs": [],
   "source": [
    "def age_category(age):\n",
    "    if age>=4 and age<=12:\n",
    "        return('child')\n",
    "    elif age<=13 and age<=17:\n",
    "        return('adoloscent')\n",
    "    elif age>=18 and age<=50:\n",
    "        return('adult')\n",
    "    else:\n",
    "        return('elderly')"
   ]
  },
  {
   "cell_type": "code",
   "execution_count": 22,
   "id": "908e6656",
   "metadata": {},
   "outputs": [],
   "source": [
    "data['AgeCategory'] = data['age'].apply(age_category)"
   ]
  },
  {
   "cell_type": "code",
   "execution_count": 23,
   "id": "a1debfd2",
   "metadata": {},
   "outputs": [
    {
     "data": {
      "text/html": [
       "<div>\n",
       "<style scoped>\n",
       "    .dataframe tbody tr th:only-of-type {\n",
       "        vertical-align: middle;\n",
       "    }\n",
       "\n",
       "    .dataframe tbody tr th {\n",
       "        vertical-align: top;\n",
       "    }\n",
       "\n",
       "    .dataframe thead th {\n",
       "        text-align: right;\n",
       "    }\n",
       "</style>\n",
       "<table border=\"1\" class=\"dataframe\">\n",
       "  <thead>\n",
       "    <tr style=\"text-align: right;\">\n",
       "      <th></th>\n",
       "      <th>age</th>\n",
       "      <th>gender</th>\n",
       "      <th>tot_proteins</th>\n",
       "      <th>albumin</th>\n",
       "      <th>ag_ratio</th>\n",
       "      <th>is_patient</th>\n",
       "      <th>AgeCategory</th>\n",
       "    </tr>\n",
       "  </thead>\n",
       "  <tbody>\n",
       "    <tr>\n",
       "      <th>0</th>\n",
       "      <td>65</td>\n",
       "      <td>0</td>\n",
       "      <td>187</td>\n",
       "      <td>16</td>\n",
       "      <td>18</td>\n",
       "      <td>1</td>\n",
       "      <td>elderly</td>\n",
       "    </tr>\n",
       "    <tr>\n",
       "      <th>1</th>\n",
       "      <td>62</td>\n",
       "      <td>1</td>\n",
       "      <td>699</td>\n",
       "      <td>64</td>\n",
       "      <td>100</td>\n",
       "      <td>1</td>\n",
       "      <td>elderly</td>\n",
       "    </tr>\n",
       "    <tr>\n",
       "      <th>2</th>\n",
       "      <td>62</td>\n",
       "      <td>1</td>\n",
       "      <td>490</td>\n",
       "      <td>60</td>\n",
       "      <td>68</td>\n",
       "      <td>1</td>\n",
       "      <td>elderly</td>\n",
       "    </tr>\n",
       "    <tr>\n",
       "      <th>3</th>\n",
       "      <td>58</td>\n",
       "      <td>1</td>\n",
       "      <td>182</td>\n",
       "      <td>14</td>\n",
       "      <td>20</td>\n",
       "      <td>1</td>\n",
       "      <td>elderly</td>\n",
       "    </tr>\n",
       "    <tr>\n",
       "      <th>4</th>\n",
       "      <td>72</td>\n",
       "      <td>1</td>\n",
       "      <td>195</td>\n",
       "      <td>27</td>\n",
       "      <td>59</td>\n",
       "      <td>1</td>\n",
       "      <td>elderly</td>\n",
       "    </tr>\n",
       "    <tr>\n",
       "      <th>...</th>\n",
       "      <td>...</td>\n",
       "      <td>...</td>\n",
       "      <td>...</td>\n",
       "      <td>...</td>\n",
       "      <td>...</td>\n",
       "      <td>...</td>\n",
       "      <td>...</td>\n",
       "    </tr>\n",
       "    <tr>\n",
       "      <th>578</th>\n",
       "      <td>60</td>\n",
       "      <td>1</td>\n",
       "      <td>500</td>\n",
       "      <td>20</td>\n",
       "      <td>34</td>\n",
       "      <td>0</td>\n",
       "      <td>elderly</td>\n",
       "    </tr>\n",
       "    <tr>\n",
       "      <th>579</th>\n",
       "      <td>40</td>\n",
       "      <td>1</td>\n",
       "      <td>98</td>\n",
       "      <td>35</td>\n",
       "      <td>31</td>\n",
       "      <td>1</td>\n",
       "      <td>adult</td>\n",
       "    </tr>\n",
       "    <tr>\n",
       "      <th>580</th>\n",
       "      <td>52</td>\n",
       "      <td>1</td>\n",
       "      <td>245</td>\n",
       "      <td>48</td>\n",
       "      <td>49</td>\n",
       "      <td>1</td>\n",
       "      <td>elderly</td>\n",
       "    </tr>\n",
       "    <tr>\n",
       "      <th>581</th>\n",
       "      <td>31</td>\n",
       "      <td>1</td>\n",
       "      <td>184</td>\n",
       "      <td>29</td>\n",
       "      <td>32</td>\n",
       "      <td>1</td>\n",
       "      <td>adult</td>\n",
       "    </tr>\n",
       "    <tr>\n",
       "      <th>582</th>\n",
       "      <td>38</td>\n",
       "      <td>1</td>\n",
       "      <td>216</td>\n",
       "      <td>21</td>\n",
       "      <td>24</td>\n",
       "      <td>0</td>\n",
       "      <td>adult</td>\n",
       "    </tr>\n",
       "  </tbody>\n",
       "</table>\n",
       "<p>579 rows × 7 columns</p>\n",
       "</div>"
      ],
      "text/plain": [
       "     age  gender  tot_proteins  albumin  ag_ratio  is_patient AgeCategory\n",
       "0     65       0           187       16        18           1     elderly\n",
       "1     62       1           699       64       100           1     elderly\n",
       "2     62       1           490       60        68           1     elderly\n",
       "3     58       1           182       14        20           1     elderly\n",
       "4     72       1           195       27        59           1     elderly\n",
       "..   ...     ...           ...      ...       ...         ...         ...\n",
       "578   60       1           500       20        34           0     elderly\n",
       "579   40       1            98       35        31           1       adult\n",
       "580   52       1           245       48        49           1     elderly\n",
       "581   31       1           184       29        32           1       adult\n",
       "582   38       1           216       21        24           0       adult\n",
       "\n",
       "[579 rows x 7 columns]"
      ]
     },
     "execution_count": 23,
     "metadata": {},
     "output_type": "execute_result"
    }
   ],
   "source": [
    "data"
   ]
  },
  {
   "cell_type": "code",
   "execution_count": 24,
   "id": "87bea78a",
   "metadata": {},
   "outputs": [
    {
     "data": {
      "text/plain": [
       "<AxesSubplot:xlabel='AgeCategory', ylabel='count'>"
      ]
     },
     "execution_count": 24,
     "metadata": {},
     "output_type": "execute_result"
    },
    {
     "data": {
      "image/png": "[encoded data removed]",
      "text/plain": [
       "<Figure size 432x288 with 1 Axes>"
      ]
     },
     "metadata": {
      "needs_background": "light"
     },
     "output_type": "display_data"
    }
   ],
   "source": [
    "sns.countplot(data['AgeCategory'],hue=data['is_patient'])"
   ]
  },
  {
   "cell_type": "code",
   "execution_count": 25,
   "id": "628ce806",
   "metadata": {},
   "outputs": [
    {
     "data": {
      "text/html": [
       "<div>\n",
       "<style scoped>\n",
       "    .dataframe tbody tr th:only-of-type {\n",
       "        vertical-align: middle;\n",
       "    }\n",
       "\n",
       "    .dataframe tbody tr th {\n",
       "        vertical-align: top;\n",
       "    }\n",
       "\n",
       "    .dataframe thead th {\n",
       "        text-align: right;\n",
       "    }\n",
       "</style>\n",
       "<table border=\"1\" class=\"dataframe\">\n",
       "  <thead>\n",
       "    <tr style=\"text-align: right;\">\n",
       "      <th>is_patient</th>\n",
       "      <th>0</th>\n",
       "      <th>1</th>\n",
       "    </tr>\n",
       "    <tr>\n",
       "      <th>AgeCategory</th>\n",
       "      <th></th>\n",
       "      <th></th>\n",
       "    </tr>\n",
       "  </thead>\n",
       "  <tbody>\n",
       "    <tr>\n",
       "      <th>adoloscent</th>\n",
       "      <td>1</td>\n",
       "      <td>3</td>\n",
       "    </tr>\n",
       "    <tr>\n",
       "      <th>adult</th>\n",
       "      <td>103</td>\n",
       "      <td>245</td>\n",
       "    </tr>\n",
       "    <tr>\n",
       "      <th>child</th>\n",
       "      <td>6</td>\n",
       "      <td>4</td>\n",
       "    </tr>\n",
       "    <tr>\n",
       "      <th>elderly</th>\n",
       "      <td>55</td>\n",
       "      <td>162</td>\n",
       "    </tr>\n",
       "  </tbody>\n",
       "</table>\n",
       "</div>"
      ],
      "text/plain": [
       "is_patient     0    1\n",
       "AgeCategory          \n",
       "adoloscent     1    3\n",
       "adult        103  245\n",
       "child          6    4\n",
       "elderly       55  162"
      ]
     },
     "execution_count": 25,
     "metadata": {},
     "output_type": "execute_result"
    }
   ],
   "source": [
    "pd.crosstab(data['AgeCategory'],data['is_patient'])"
   ]
  },
  {
   "cell_type": "markdown",
   "id": "486620a1",
   "metadata": {},
   "source": [
    "## Detecting and Treating the outlier"
   ]
  },
  {
   "cell_type": "code",
   "execution_count": 26,
   "id": "2bb7179a",
   "metadata": {},
   "outputs": [
    {
     "data": {
      "text/plain": [
       "<AxesSubplot:xlabel='age'>"
      ]
     },
     "execution_count": 26,
     "metadata": {},
     "output_type": "execute_result"
    },
    {
     "data": {
      "image/png": "[encoded data removed]",
      "text/plain": [
       "<Figure size 432x288 with 1 Axes>"
      ]
     },
     "metadata": {
      "needs_background": "light"
     },
     "output_type": "display_data"
    }
   ],
   "source": [
    "sns.boxplot(data['age'])"
   ]
  },
  {
   "cell_type": "code",
   "execution_count": 27,
   "id": "ebac68a8",
   "metadata": {},
   "outputs": [
    {
     "data": {
      "text/plain": [
       "<AxesSubplot:xlabel='albumin'>"
      ]
     },
     "execution_count": 27,
     "metadata": {},
     "output_type": "execute_result"
    },
    {
     "data": {
      "image/png": "[encoded data removed]",
      "text/plain": [
       "<Figure size 432x288 with 1 Axes>"
      ]
     },
     "metadata": {
      "needs_background": "light"
     },
     "output_type": "display_data"
    }
   ],
   "source": [
    "sns.boxplot(data['albumin'])"
   ]
  },
  {
   "cell_type": "code",
   "execution_count": 28,
   "id": "35873082",
   "metadata": {},
   "outputs": [
    {
     "data": {
      "text/html": [
       "<div>\n",
       "<style scoped>\n",
       "    .dataframe tbody tr th:only-of-type {\n",
       "        vertical-align: middle;\n",
       "    }\n",
       "\n",
       "    .dataframe tbody tr th {\n",
       "        vertical-align: top;\n",
       "    }\n",
       "\n",
       "    .dataframe thead th {\n",
       "        text-align: right;\n",
       "    }\n",
       "</style>\n",
       "<table border=\"1\" class=\"dataframe\">\n",
       "  <thead>\n",
       "    <tr style=\"text-align: right;\">\n",
       "      <th></th>\n",
       "      <th>age</th>\n",
       "      <th>gender</th>\n",
       "      <th>tot_proteins</th>\n",
       "      <th>albumin</th>\n",
       "      <th>ag_ratio</th>\n",
       "      <th>is_patient</th>\n",
       "      <th>AgeCategory</th>\n",
       "    </tr>\n",
       "  </thead>\n",
       "  <tbody>\n",
       "    <tr>\n",
       "      <th>27</th>\n",
       "      <td>34</td>\n",
       "      <td>1</td>\n",
       "      <td>240</td>\n",
       "      <td>1680</td>\n",
       "      <td>850</td>\n",
       "      <td>1</td>\n",
       "      <td>adult</td>\n",
       "    </tr>\n",
       "    <tr>\n",
       "      <th>47</th>\n",
       "      <td>40</td>\n",
       "      <td>1</td>\n",
       "      <td>230</td>\n",
       "      <td>1630</td>\n",
       "      <td>960</td>\n",
       "      <td>1</td>\n",
       "      <td>adult</td>\n",
       "    </tr>\n",
       "    <tr>\n",
       "      <th>117</th>\n",
       "      <td>32</td>\n",
       "      <td>1</td>\n",
       "      <td>194</td>\n",
       "      <td>2000</td>\n",
       "      <td>2946</td>\n",
       "      <td>1</td>\n",
       "      <td>adult</td>\n",
       "    </tr>\n",
       "    <tr>\n",
       "      <th>118</th>\n",
       "      <td>32</td>\n",
       "      <td>1</td>\n",
       "      <td>280</td>\n",
       "      <td>1350</td>\n",
       "      <td>1600</td>\n",
       "      <td>1</td>\n",
       "      <td>adult</td>\n",
       "    </tr>\n",
       "    <tr>\n",
       "      <th>119</th>\n",
       "      <td>32</td>\n",
       "      <td>1</td>\n",
       "      <td>298</td>\n",
       "      <td>1250</td>\n",
       "      <td>1050</td>\n",
       "      <td>1</td>\n",
       "      <td>adult</td>\n",
       "    </tr>\n",
       "    <tr>\n",
       "      <th>135</th>\n",
       "      <td>66</td>\n",
       "      <td>1</td>\n",
       "      <td>1110</td>\n",
       "      <td>1250</td>\n",
       "      <td>4929</td>\n",
       "      <td>1</td>\n",
       "      <td>elderly</td>\n",
       "    </tr>\n",
       "  </tbody>\n",
       "</table>\n",
       "</div>"
      ],
      "text/plain": [
       "     age  gender  tot_proteins  albumin  ag_ratio  is_patient AgeCategory\n",
       "27    34       1           240     1680       850           1       adult\n",
       "47    40       1           230     1630       960           1       adult\n",
       "117   32       1           194     2000      2946           1       adult\n",
       "118   32       1           280     1350      1600           1       adult\n",
       "119   32       1           298     1250      1050           1       adult\n",
       "135   66       1          1110     1250      4929           1     elderly"
      ]
     },
     "execution_count": 28,
     "metadata": {},
     "output_type": "execute_result"
    }
   ],
   "source": [
    "data[data['albumin']>1000]"
   ]
  },
  {
   "cell_type": "code",
   "execution_count": 32,
   "id": "4ffc5fb1",
   "metadata": {},
   "outputs": [],
   "source": [
    "ul=np.percentile(data['albumin'],95)\n",
    "data['albumin']=np.where(data['albumin']>ul,ul,data['albumin'])\n"
   ]
  },
  {
   "cell_type": "code",
   "execution_count": 33,
   "id": "89a2a438",
   "metadata": {},
   "outputs": [
    {
     "data": {
      "text/plain": [
       "<AxesSubplot:xlabel='ag_ratio'>"
      ]
     },
     "execution_count": 33,
     "metadata": {},
     "output_type": "execute_result"
    },
    {
     "data": {
      "image/png": "[encoded data removed]",
      "text/plain": [
       "<Figure size 432x288 with 1 Axes>"
      ]
     },
     "metadata": {
      "needs_background": "light"
     },
     "output_type": "display_data"
    }
   ],
   "source": [
    "sns.boxplot(data['ag_ratio'])"
   ]
  },
  {
   "cell_type": "code",
   "execution_count": 34,
   "id": "15535341",
   "metadata": {},
   "outputs": [
    {
     "data": {
      "text/html": [
       "<div>\n",
       "<style scoped>\n",
       "    .dataframe tbody tr th:only-of-type {\n",
       "        vertical-align: middle;\n",
       "    }\n",
       "\n",
       "    .dataframe tbody tr th {\n",
       "        vertical-align: top;\n",
       "    }\n",
       "\n",
       "    .dataframe thead th {\n",
       "        text-align: right;\n",
       "    }\n",
       "</style>\n",
       "<table border=\"1\" class=\"dataframe\">\n",
       "  <thead>\n",
       "    <tr style=\"text-align: right;\">\n",
       "      <th></th>\n",
       "      <th>age</th>\n",
       "      <th>gender</th>\n",
       "      <th>tot_proteins</th>\n",
       "      <th>albumin</th>\n",
       "      <th>ag_ratio</th>\n",
       "      <th>is_patient</th>\n",
       "      <th>AgeCategory</th>\n",
       "    </tr>\n",
       "  </thead>\n",
       "  <tbody>\n",
       "    <tr>\n",
       "      <th>117</th>\n",
       "      <td>32</td>\n",
       "      <td>1</td>\n",
       "      <td>194</td>\n",
       "      <td>232.1</td>\n",
       "      <td>2946</td>\n",
       "      <td>1</td>\n",
       "      <td>adult</td>\n",
       "    </tr>\n",
       "    <tr>\n",
       "      <th>118</th>\n",
       "      <td>32</td>\n",
       "      <td>1</td>\n",
       "      <td>280</td>\n",
       "      <td>232.1</td>\n",
       "      <td>1600</td>\n",
       "      <td>1</td>\n",
       "      <td>adult</td>\n",
       "    </tr>\n",
       "    <tr>\n",
       "      <th>119</th>\n",
       "      <td>32</td>\n",
       "      <td>1</td>\n",
       "      <td>298</td>\n",
       "      <td>232.1</td>\n",
       "      <td>1050</td>\n",
       "      <td>1</td>\n",
       "      <td>adult</td>\n",
       "    </tr>\n",
       "    <tr>\n",
       "      <th>135</th>\n",
       "      <td>66</td>\n",
       "      <td>1</td>\n",
       "      <td>1110</td>\n",
       "      <td>232.1</td>\n",
       "      <td>4929</td>\n",
       "      <td>1</td>\n",
       "      <td>elderly</td>\n",
       "    </tr>\n",
       "    <tr>\n",
       "      <th>199</th>\n",
       "      <td>7</td>\n",
       "      <td>0</td>\n",
       "      <td>1420</td>\n",
       "      <td>232.1</td>\n",
       "      <td>1050</td>\n",
       "      <td>1</td>\n",
       "      <td>child</td>\n",
       "    </tr>\n",
       "    <tr>\n",
       "      <th>207</th>\n",
       "      <td>40</td>\n",
       "      <td>1</td>\n",
       "      <td>350</td>\n",
       "      <td>232.1</td>\n",
       "      <td>1500</td>\n",
       "      <td>1</td>\n",
       "      <td>adult</td>\n",
       "    </tr>\n",
       "  </tbody>\n",
       "</table>\n",
       "</div>"
      ],
      "text/plain": [
       "     age  gender  tot_proteins  albumin  ag_ratio  is_patient AgeCategory\n",
       "117   32       1           194    232.1      2946           1       adult\n",
       "118   32       1           280    232.1      1600           1       adult\n",
       "119   32       1           298    232.1      1050           1       adult\n",
       "135   66       1          1110    232.1      4929           1     elderly\n",
       "199    7       0          1420    232.1      1050           1       child\n",
       "207   40       1           350    232.1      1500           1       adult"
      ]
     },
     "execution_count": 34,
     "metadata": {},
     "output_type": "execute_result"
    }
   ],
   "source": [
    "data[data['ag_ratio']>1000]"
   ]
  },
  {
   "cell_type": "code",
   "execution_count": 35,
   "id": "6320e466",
   "metadata": {},
   "outputs": [],
   "source": [
    "ul=np.percentile(data['ag_ratio'],95)\n",
    "data['ag_ratio']=np.where(data['ag_ratio']>ul,ul,data['ag_ratio'])\n"
   ]
  },
  {
   "cell_type": "code",
   "execution_count": 36,
   "id": "387e61fa",
   "metadata": {},
   "outputs": [
    {
     "data": {
      "text/plain": [
       "<AxesSubplot:xlabel='tot_proteins'>"
      ]
     },
     "execution_count": 36,
     "metadata": {},
     "output_type": "execute_result"
    },
    {
     "data": {
      "image/png": "[encoded data removed]",
      "text/plain": [
       "<Figure size 432x288 with 1 Axes>"
      ]
     },
     "metadata": {
      "needs_background": "light"
     },
     "output_type": "display_data"
    }
   ],
   "source": [
    "sns.boxplot(data['tot_proteins'])"
   ]
  },
  {
   "cell_type": "code",
   "execution_count": 37,
   "id": "99395146",
   "metadata": {},
   "outputs": [
    {
     "data": {
      "text/html": [
       "<div>\n",
       "<style scoped>\n",
       "    .dataframe tbody tr th:only-of-type {\n",
       "        vertical-align: middle;\n",
       "    }\n",
       "\n",
       "    .dataframe tbody tr th {\n",
       "        vertical-align: top;\n",
       "    }\n",
       "\n",
       "    .dataframe thead th {\n",
       "        text-align: right;\n",
       "    }\n",
       "</style>\n",
       "<table border=\"1\" class=\"dataframe\">\n",
       "  <thead>\n",
       "    <tr style=\"text-align: right;\">\n",
       "      <th></th>\n",
       "      <th>age</th>\n",
       "      <th>gender</th>\n",
       "      <th>tot_proteins</th>\n",
       "      <th>albumin</th>\n",
       "      <th>ag_ratio</th>\n",
       "      <th>is_patient</th>\n",
       "      <th>AgeCategory</th>\n",
       "    </tr>\n",
       "  </thead>\n",
       "  <tbody>\n",
       "    <tr>\n",
       "      <th>77</th>\n",
       "      <td>68</td>\n",
       "      <td>0</td>\n",
       "      <td>1620</td>\n",
       "      <td>95.0</td>\n",
       "      <td>127.0</td>\n",
       "      <td>1</td>\n",
       "      <td>elderly</td>\n",
       "    </tr>\n",
       "    <tr>\n",
       "      <th>115</th>\n",
       "      <td>50</td>\n",
       "      <td>1</td>\n",
       "      <td>1580</td>\n",
       "      <td>88.0</td>\n",
       "      <td>64.0</td>\n",
       "      <td>0</td>\n",
       "      <td>adult</td>\n",
       "    </tr>\n",
       "    <tr>\n",
       "      <th>116</th>\n",
       "      <td>48</td>\n",
       "      <td>1</td>\n",
       "      <td>1630</td>\n",
       "      <td>74.0</td>\n",
       "      <td>149.0</td>\n",
       "      <td>1</td>\n",
       "      <td>adult</td>\n",
       "    </tr>\n",
       "    <tr>\n",
       "      <th>128</th>\n",
       "      <td>58</td>\n",
       "      <td>0</td>\n",
       "      <td>1896</td>\n",
       "      <td>61.0</td>\n",
       "      <td>83.0</td>\n",
       "      <td>1</td>\n",
       "      <td>elderly</td>\n",
       "    </tr>\n",
       "    <tr>\n",
       "      <th>233</th>\n",
       "      <td>33</td>\n",
       "      <td>1</td>\n",
       "      <td>2110</td>\n",
       "      <td>48.0</td>\n",
       "      <td>89.0</td>\n",
       "      <td>1</td>\n",
       "      <td>adult</td>\n",
       "    </tr>\n",
       "    <tr>\n",
       "      <th>429</th>\n",
       "      <td>73</td>\n",
       "      <td>1</td>\n",
       "      <td>1750</td>\n",
       "      <td>102.0</td>\n",
       "      <td>141.0</td>\n",
       "      <td>1</td>\n",
       "      <td>elderly</td>\n",
       "    </tr>\n",
       "    <tr>\n",
       "      <th>447</th>\n",
       "      <td>45</td>\n",
       "      <td>0</td>\n",
       "      <td>1550</td>\n",
       "      <td>232.1</td>\n",
       "      <td>401.4</td>\n",
       "      <td>1</td>\n",
       "      <td>adult</td>\n",
       "    </tr>\n",
       "  </tbody>\n",
       "</table>\n",
       "</div>"
      ],
      "text/plain": [
       "     age  gender  tot_proteins  albumin  ag_ratio  is_patient AgeCategory\n",
       "77    68       0          1620     95.0     127.0           1     elderly\n",
       "115   50       1          1580     88.0      64.0           0       adult\n",
       "116   48       1          1630     74.0     149.0           1       adult\n",
       "128   58       0          1896     61.0      83.0           1     elderly\n",
       "233   33       1          2110     48.0      89.0           1       adult\n",
       "429   73       1          1750    102.0     141.0           1     elderly\n",
       "447   45       0          1550    232.1     401.4           1       adult"
      ]
     },
     "execution_count": 37,
     "metadata": {},
     "output_type": "execute_result"
    }
   ],
   "source": [
    "data[data['tot_proteins']>1500]"
   ]
  },
  {
   "cell_type": "code",
   "execution_count": 38,
   "id": "d6722706",
   "metadata": {},
   "outputs": [
    {
     "data": {
      "text/plain": [
       "701.0000000000005"
      ]
     },
     "execution_count": 38,
     "metadata": {},
     "output_type": "execute_result"
    }
   ],
   "source": [
    "# we will cap the outlier to 95th percentile\n",
    "np.percentile(data['tot_proteins'],95)"
   ]
  },
  {
   "cell_type": "code",
   "execution_count": 39,
   "id": "61f30d16",
   "metadata": {},
   "outputs": [],
   "source": [
    "ul = np.percentile(data['tot_proteins'],95)"
   ]
  },
  {
   "cell_type": "code",
   "execution_count": 40,
   "id": "d678c33c",
   "metadata": {},
   "outputs": [],
   "source": [
    "data['tot_proteins']=np.where(data['tot_proteins']>ul,ul,data['tot_proteins'])"
   ]
  },
  {
   "cell_type": "code",
   "execution_count": 41,
   "id": "93be38a8",
   "metadata": {},
   "outputs": [
    {
     "data": {
      "text/html": [
       "<div>\n",
       "<style scoped>\n",
       "    .dataframe tbody tr th:only-of-type {\n",
       "        vertical-align: middle;\n",
       "    }\n",
       "\n",
       "    .dataframe tbody tr th {\n",
       "        vertical-align: top;\n",
       "    }\n",
       "\n",
       "    .dataframe thead th {\n",
       "        text-align: right;\n",
       "    }\n",
       "</style>\n",
       "<table border=\"1\" class=\"dataframe\">\n",
       "  <thead>\n",
       "    <tr style=\"text-align: right;\">\n",
       "      <th></th>\n",
       "      <th>age</th>\n",
       "      <th>gender</th>\n",
       "      <th>tot_proteins</th>\n",
       "      <th>albumin</th>\n",
       "      <th>ag_ratio</th>\n",
       "      <th>is_patient</th>\n",
       "      <th>AgeCategory</th>\n",
       "    </tr>\n",
       "  </thead>\n",
       "  <tbody>\n",
       "    <tr>\n",
       "      <th>0</th>\n",
       "      <td>65</td>\n",
       "      <td>0</td>\n",
       "      <td>187.0</td>\n",
       "      <td>16.0</td>\n",
       "      <td>18.0</td>\n",
       "      <td>1</td>\n",
       "      <td>elderly</td>\n",
       "    </tr>\n",
       "    <tr>\n",
       "      <th>1</th>\n",
       "      <td>62</td>\n",
       "      <td>1</td>\n",
       "      <td>699.0</td>\n",
       "      <td>64.0</td>\n",
       "      <td>100.0</td>\n",
       "      <td>1</td>\n",
       "      <td>elderly</td>\n",
       "    </tr>\n",
       "    <tr>\n",
       "      <th>2</th>\n",
       "      <td>62</td>\n",
       "      <td>1</td>\n",
       "      <td>490.0</td>\n",
       "      <td>60.0</td>\n",
       "      <td>68.0</td>\n",
       "      <td>1</td>\n",
       "      <td>elderly</td>\n",
       "    </tr>\n",
       "    <tr>\n",
       "      <th>3</th>\n",
       "      <td>58</td>\n",
       "      <td>1</td>\n",
       "      <td>182.0</td>\n",
       "      <td>14.0</td>\n",
       "      <td>20.0</td>\n",
       "      <td>1</td>\n",
       "      <td>elderly</td>\n",
       "    </tr>\n",
       "    <tr>\n",
       "      <th>4</th>\n",
       "      <td>72</td>\n",
       "      <td>1</td>\n",
       "      <td>195.0</td>\n",
       "      <td>27.0</td>\n",
       "      <td>59.0</td>\n",
       "      <td>1</td>\n",
       "      <td>elderly</td>\n",
       "    </tr>\n",
       "  </tbody>\n",
       "</table>\n",
       "</div>"
      ],
      "text/plain": [
       "   age  gender  tot_proteins  albumin  ag_ratio  is_patient AgeCategory\n",
       "0   65       0         187.0     16.0      18.0           1     elderly\n",
       "1   62       1         699.0     64.0     100.0           1     elderly\n",
       "2   62       1         490.0     60.0      68.0           1     elderly\n",
       "3   58       1         182.0     14.0      20.0           1     elderly\n",
       "4   72       1         195.0     27.0      59.0           1     elderly"
      ]
     },
     "execution_count": 41,
     "metadata": {},
     "output_type": "execute_result"
    }
   ],
   "source": [
    "data.head()"
   ]
  },
  {
   "cell_type": "code",
   "execution_count": 42,
   "id": "ebf6178a",
   "metadata": {},
   "outputs": [],
   "source": [
    "data.drop(columns=['AgeCategory'],inplace=True)"
   ]
  },
  {
   "cell_type": "markdown",
   "id": "5b38df8d",
   "metadata": {},
   "source": [
    "## Feature Engineering"
   ]
  },
  {
   "cell_type": "code",
   "execution_count": 43,
   "id": "2da680ba",
   "metadata": {},
   "outputs": [],
   "source": [
    "from sklearn.preprocessing import StandardScaler"
   ]
  },
  {
   "cell_type": "code",
   "execution_count": 44,
   "id": "474a230d",
   "metadata": {},
   "outputs": [],
   "source": [
    "sc = StandardScaler()"
   ]
  },
  {
   "cell_type": "code",
   "execution_count": 45,
   "id": "4f54ca2a",
   "metadata": {},
   "outputs": [],
   "source": [
    "data_s = sc.fit_transform(data)"
   ]
  },
  {
   "cell_type": "code",
   "execution_count": 46,
   "id": "ab4120ac",
   "metadata": {},
   "outputs": [
    {
     "data": {
      "text/plain": [
       "array([[ 1.24740264, -1.77079482, -0.54191997, -0.73044726, -0.64698282,\n",
       "         0.63130874],\n",
       "       [ 1.06230624,  0.56471817,  2.84348678,  0.11788851,  0.18908002,\n",
       "         0.63130874],\n",
       "       [ 1.06230624,  0.56471817,  1.46155316,  0.04719387, -0.13718841,\n",
       "         0.63130874],\n",
       "       ...,\n",
       "       [ 0.44531827,  0.56471817, -0.15841686, -0.16489008, -0.33091029,\n",
       "         0.63130874],\n",
       "       [-0.85035649,  0.56471817, -0.56175634, -0.50068965, -0.50424039,\n",
       "         0.63130874],\n",
       "       [-0.4184649 ,  0.56471817, -0.35016842, -0.64207895, -0.58580749,\n",
       "        -1.58401102]])"
      ]
     },
     "execution_count": 46,
     "metadata": {},
     "output_type": "execute_result"
    }
   ],
   "source": [
    "data_s"
   ]
  },
  {
   "cell_type": "code",
   "execution_count": 47,
   "id": "8cd24547",
   "metadata": {},
   "outputs": [
    {
     "data": {
      "text/html": [
       "<div>\n",
       "<style scoped>\n",
       "    .dataframe tbody tr th:only-of-type {\n",
       "        vertical-align: middle;\n",
       "    }\n",
       "\n",
       "    .dataframe tbody tr th {\n",
       "        vertical-align: top;\n",
       "    }\n",
       "\n",
       "    .dataframe thead th {\n",
       "        text-align: right;\n",
       "    }\n",
       "</style>\n",
       "<table border=\"1\" class=\"dataframe\">\n",
       "  <thead>\n",
       "    <tr style=\"text-align: right;\">\n",
       "      <th></th>\n",
       "      <th>age</th>\n",
       "      <th>gender</th>\n",
       "      <th>tot_proteins</th>\n",
       "      <th>albumin</th>\n",
       "      <th>ag_ratio</th>\n",
       "      <th>is_patient</th>\n",
       "    </tr>\n",
       "  </thead>\n",
       "  <tbody>\n",
       "    <tr>\n",
       "      <th>0</th>\n",
       "      <td>1.247403</td>\n",
       "      <td>-1.770795</td>\n",
       "      <td>-0.541920</td>\n",
       "      <td>-0.730447</td>\n",
       "      <td>-0.646983</td>\n",
       "      <td>0.631309</td>\n",
       "    </tr>\n",
       "    <tr>\n",
       "      <th>1</th>\n",
       "      <td>1.062306</td>\n",
       "      <td>0.564718</td>\n",
       "      <td>2.843487</td>\n",
       "      <td>0.117889</td>\n",
       "      <td>0.189080</td>\n",
       "      <td>0.631309</td>\n",
       "    </tr>\n",
       "    <tr>\n",
       "      <th>2</th>\n",
       "      <td>1.062306</td>\n",
       "      <td>0.564718</td>\n",
       "      <td>1.461553</td>\n",
       "      <td>0.047194</td>\n",
       "      <td>-0.137188</td>\n",
       "      <td>0.631309</td>\n",
       "    </tr>\n",
       "    <tr>\n",
       "      <th>3</th>\n",
       "      <td>0.815511</td>\n",
       "      <td>0.564718</td>\n",
       "      <td>-0.574981</td>\n",
       "      <td>-0.765795</td>\n",
       "      <td>-0.626591</td>\n",
       "      <td>0.631309</td>\n",
       "    </tr>\n",
       "    <tr>\n",
       "      <th>4</th>\n",
       "      <td>1.679294</td>\n",
       "      <td>0.564718</td>\n",
       "      <td>-0.489023</td>\n",
       "      <td>-0.536037</td>\n",
       "      <td>-0.228951</td>\n",
       "      <td>0.631309</td>\n",
       "    </tr>\n",
       "    <tr>\n",
       "      <th>...</th>\n",
       "      <td>...</td>\n",
       "      <td>...</td>\n",
       "      <td>...</td>\n",
       "      <td>...</td>\n",
       "      <td>...</td>\n",
       "      <td>...</td>\n",
       "    </tr>\n",
       "    <tr>\n",
       "      <th>574</th>\n",
       "      <td>0.938909</td>\n",
       "      <td>0.564718</td>\n",
       "      <td>1.527674</td>\n",
       "      <td>-0.659753</td>\n",
       "      <td>-0.483849</td>\n",
       "      <td>-1.584011</td>\n",
       "    </tr>\n",
       "    <tr>\n",
       "      <th>575</th>\n",
       "      <td>-0.295067</td>\n",
       "      <td>0.564718</td>\n",
       "      <td>-1.130399</td>\n",
       "      <td>-0.394648</td>\n",
       "      <td>-0.514436</td>\n",
       "      <td>0.631309</td>\n",
       "    </tr>\n",
       "    <tr>\n",
       "      <th>576</th>\n",
       "      <td>0.445318</td>\n",
       "      <td>0.564718</td>\n",
       "      <td>-0.158417</td>\n",
       "      <td>-0.164890</td>\n",
       "      <td>-0.330910</td>\n",
       "      <td>0.631309</td>\n",
       "    </tr>\n",
       "    <tr>\n",
       "      <th>577</th>\n",
       "      <td>-0.850356</td>\n",
       "      <td>0.564718</td>\n",
       "      <td>-0.561756</td>\n",
       "      <td>-0.500690</td>\n",
       "      <td>-0.504240</td>\n",
       "      <td>0.631309</td>\n",
       "    </tr>\n",
       "    <tr>\n",
       "      <th>578</th>\n",
       "      <td>-0.418465</td>\n",
       "      <td>0.564718</td>\n",
       "      <td>-0.350168</td>\n",
       "      <td>-0.642079</td>\n",
       "      <td>-0.585807</td>\n",
       "      <td>-1.584011</td>\n",
       "    </tr>\n",
       "  </tbody>\n",
       "</table>\n",
       "<p>579 rows × 6 columns</p>\n",
       "</div>"
      ],
      "text/plain": [
       "          age    gender  tot_proteins   albumin  ag_ratio  is_patient\n",
       "0    1.247403 -1.770795     -0.541920 -0.730447 -0.646983    0.631309\n",
       "1    1.062306  0.564718      2.843487  0.117889  0.189080    0.631309\n",
       "2    1.062306  0.564718      1.461553  0.047194 -0.137188    0.631309\n",
       "3    0.815511  0.564718     -0.574981 -0.765795 -0.626591    0.631309\n",
       "4    1.679294  0.564718     -0.489023 -0.536037 -0.228951    0.631309\n",
       "..        ...       ...           ...       ...       ...         ...\n",
       "574  0.938909  0.564718      1.527674 -0.659753 -0.483849   -1.584011\n",
       "575 -0.295067  0.564718     -1.130399 -0.394648 -0.514436    0.631309\n",
       "576  0.445318  0.564718     -0.158417 -0.164890 -0.330910    0.631309\n",
       "577 -0.850356  0.564718     -0.561756 -0.500690 -0.504240    0.631309\n",
       "578 -0.418465  0.564718     -0.350168 -0.642079 -0.585807   -1.584011\n",
       "\n",
       "[579 rows x 6 columns]"
      ]
     },
     "execution_count": 47,
     "metadata": {},
     "output_type": "execute_result"
    }
   ],
   "source": [
    "pd.DataFrame(data_s,columns=data.columns)"
   ]
  },
  {
   "cell_type": "markdown",
   "id": "5f49162f",
   "metadata": {},
   "source": [
    "## Train Test Split"
   ]
  },
  {
   "cell_type": "code",
   "execution_count": 48,
   "id": "e4a74f22",
   "metadata": {},
   "outputs": [],
   "source": [
    "y= data['is_patient']\n",
    "x=data.drop(columns=['is_patient'])"
   ]
  },
  {
   "cell_type": "code",
   "execution_count": 49,
   "id": "52650dbc",
   "metadata": {},
   "outputs": [
    {
     "data": {
      "text/plain": [
       "0      1\n",
       "1      1\n",
       "2      1\n",
       "3      1\n",
       "4      1\n",
       "      ..\n",
       "578    0\n",
       "579    1\n",
       "580    1\n",
       "581    1\n",
       "582    0\n",
       "Name: is_patient, Length: 579, dtype: int64"
      ]
     },
     "execution_count": 49,
     "metadata": {},
     "output_type": "execute_result"
    }
   ],
   "source": [
    "y"
   ]
  },
  {
   "cell_type": "code",
   "execution_count": 50,
   "id": "7306063d",
   "metadata": {},
   "outputs": [
    {
     "data": {
      "text/html": [
       "<div>\n",
       "<style scoped>\n",
       "    .dataframe tbody tr th:only-of-type {\n",
       "        vertical-align: middle;\n",
       "    }\n",
       "\n",
       "    .dataframe tbody tr th {\n",
       "        vertical-align: top;\n",
       "    }\n",
       "\n",
       "    .dataframe thead th {\n",
       "        text-align: right;\n",
       "    }\n",
       "</style>\n",
       "<table border=\"1\" class=\"dataframe\">\n",
       "  <thead>\n",
       "    <tr style=\"text-align: right;\">\n",
       "      <th></th>\n",
       "      <th>age</th>\n",
       "      <th>gender</th>\n",
       "      <th>tot_proteins</th>\n",
       "      <th>albumin</th>\n",
       "      <th>ag_ratio</th>\n",
       "    </tr>\n",
       "  </thead>\n",
       "  <tbody>\n",
       "    <tr>\n",
       "      <th>0</th>\n",
       "      <td>65</td>\n",
       "      <td>0</td>\n",
       "      <td>187.0</td>\n",
       "      <td>16.0</td>\n",
       "      <td>18.0</td>\n",
       "    </tr>\n",
       "    <tr>\n",
       "      <th>1</th>\n",
       "      <td>62</td>\n",
       "      <td>1</td>\n",
       "      <td>699.0</td>\n",
       "      <td>64.0</td>\n",
       "      <td>100.0</td>\n",
       "    </tr>\n",
       "    <tr>\n",
       "      <th>2</th>\n",
       "      <td>62</td>\n",
       "      <td>1</td>\n",
       "      <td>490.0</td>\n",
       "      <td>60.0</td>\n",
       "      <td>68.0</td>\n",
       "    </tr>\n",
       "    <tr>\n",
       "      <th>3</th>\n",
       "      <td>58</td>\n",
       "      <td>1</td>\n",
       "      <td>182.0</td>\n",
       "      <td>14.0</td>\n",
       "      <td>20.0</td>\n",
       "    </tr>\n",
       "    <tr>\n",
       "      <th>4</th>\n",
       "      <td>72</td>\n",
       "      <td>1</td>\n",
       "      <td>195.0</td>\n",
       "      <td>27.0</td>\n",
       "      <td>59.0</td>\n",
       "    </tr>\n",
       "    <tr>\n",
       "      <th>...</th>\n",
       "      <td>...</td>\n",
       "      <td>...</td>\n",
       "      <td>...</td>\n",
       "      <td>...</td>\n",
       "      <td>...</td>\n",
       "    </tr>\n",
       "    <tr>\n",
       "      <th>578</th>\n",
       "      <td>60</td>\n",
       "      <td>1</td>\n",
       "      <td>500.0</td>\n",
       "      <td>20.0</td>\n",
       "      <td>34.0</td>\n",
       "    </tr>\n",
       "    <tr>\n",
       "      <th>579</th>\n",
       "      <td>40</td>\n",
       "      <td>1</td>\n",
       "      <td>98.0</td>\n",
       "      <td>35.0</td>\n",
       "      <td>31.0</td>\n",
       "    </tr>\n",
       "    <tr>\n",
       "      <th>580</th>\n",
       "      <td>52</td>\n",
       "      <td>1</td>\n",
       "      <td>245.0</td>\n",
       "      <td>48.0</td>\n",
       "      <td>49.0</td>\n",
       "    </tr>\n",
       "    <tr>\n",
       "      <th>581</th>\n",
       "      <td>31</td>\n",
       "      <td>1</td>\n",
       "      <td>184.0</td>\n",
       "      <td>29.0</td>\n",
       "      <td>32.0</td>\n",
       "    </tr>\n",
       "    <tr>\n",
       "      <th>582</th>\n",
       "      <td>38</td>\n",
       "      <td>1</td>\n",
       "      <td>216.0</td>\n",
       "      <td>21.0</td>\n",
       "      <td>24.0</td>\n",
       "    </tr>\n",
       "  </tbody>\n",
       "</table>\n",
       "<p>579 rows × 5 columns</p>\n",
       "</div>"
      ],
      "text/plain": [
       "     age  gender  tot_proteins  albumin  ag_ratio\n",
       "0     65       0         187.0     16.0      18.0\n",
       "1     62       1         699.0     64.0     100.0\n",
       "2     62       1         490.0     60.0      68.0\n",
       "3     58       1         182.0     14.0      20.0\n",
       "4     72       1         195.0     27.0      59.0\n",
       "..   ...     ...           ...      ...       ...\n",
       "578   60       1         500.0     20.0      34.0\n",
       "579   40       1          98.0     35.0      31.0\n",
       "580   52       1         245.0     48.0      49.0\n",
       "581   31       1         184.0     29.0      32.0\n",
       "582   38       1         216.0     21.0      24.0\n",
       "\n",
       "[579 rows x 5 columns]"
      ]
     },
     "execution_count": 50,
     "metadata": {},
     "output_type": "execute_result"
    }
   ],
   "source": [
    "x"
   ]
  },
  {
   "cell_type": "code",
   "execution_count": 51,
   "id": "720700b8",
   "metadata": {},
   "outputs": [],
   "source": [
    "from sklearn.model_selection import train_test_split"
   ]
  },
  {
   "cell_type": "code",
   "execution_count": 52,
   "id": "c99c14ed",
   "metadata": {},
   "outputs": [],
   "source": [
    "x_train,x_test,y_train,y_test = train_test_split(x,y,stratify=y,train_size=0.8,random_state=2)"
   ]
  },
  {
   "cell_type": "code",
   "execution_count": 53,
   "id": "9618ea73",
   "metadata": {},
   "outputs": [
    {
     "name": "stdout",
     "output_type": "stream",
     "text": [
      "(463, 5) (463,)\n",
      "(116, 5) (116,)\n"
     ]
    }
   ],
   "source": [
    "print(x_train.shape,y_train.shape)\n",
    "print(x_test.shape,y_test.shape)"
   ]
  },
  {
   "cell_type": "markdown",
   "id": "0940d4d3",
   "metadata": {},
   "source": [
    "## Logistic Regression Model"
   ]
  },
  {
   "cell_type": "code",
   "execution_count": 54,
   "id": "487a293b",
   "metadata": {},
   "outputs": [],
   "source": [
    "from sklearn.linear_model import LogisticRegression"
   ]
  },
  {
   "cell_type": "code",
   "execution_count": 55,
   "id": "29b779c4",
   "metadata": {},
   "outputs": [],
   "source": [
    "model_lr = LogisticRegression()"
   ]
  },
  {
   "cell_type": "code",
   "execution_count": 56,
   "id": "53e8b9c9",
   "metadata": {},
   "outputs": [
    {
     "data": {
      "text/html": [
       "<style>#sk-container-id-1 {color: black;background-color: white;}#sk-container-id-1 pre{padding: 0;}#sk-container-id-1 div.sk-toggleable {background-color: white;}#sk-container-id-1 label.sk-toggleable__label {cursor: pointer;display: block;width: 100%;margin-bottom: 0;padding: 0.3em;box-sizing: border-box;text-align: center;}#sk-container-id-1 label.sk-toggleable__label-arrow:before {content: \"▸\";float: left;margin-right: 0.25em;color: #696969;}#sk-container-id-1 label.sk-toggleable__label-arrow:hover:before {color: black;}#sk-container-id-1 div.sk-estimator:hover label.sk-toggleable__label-arrow:before {color: black;}#sk-container-id-1 div.sk-toggleable__content {max-height: 0;max-width: 0;overflow: hidden;text-align: left;background-color: #f0f8ff;}#sk-container-id-1 div.sk-toggleable__content pre {margin: 0.2em;color: black;border-radius: 0.25em;background-color: #f0f8ff;}#sk-container-id-1 input.sk-toggleable__control:checked~div.sk-toggleable__content {max-height: 200px;max-width: 100%;overflow: auto;}#sk-container-id-1 input.sk-toggleable__control:checked~label.sk-toggleable__label-arrow:before {content: \"▾\";}#sk-container-id-1 div.sk-estimator input.sk-toggleable__control:checked~label.sk-toggleable__label {background-color: #d4ebff;}#sk-container-id-1 div.sk-label input.sk-toggleable__control:checked~label.sk-toggleable__label {background-color: #d4ebff;}#sk-container-id-1 input.sk-hidden--visually {border: 0;clip: rect(1px 1px 1px 1px);clip: rect(1px, 1px, 1px, 1px);height: 1px;margin: -1px;overflow: hidden;padding: 0;position: absolute;width: 1px;}#sk-container-id-1 div.sk-estimator {font-family: monospace;background-color: #f0f8ff;border: 1px dotted black;border-radius: 0.25em;box-sizing: border-box;margin-bottom: 0.5em;}#sk-container-id-1 div.sk-estimator:hover {background-color: #d4ebff;}#sk-container-id-1 div.sk-parallel-item::after {content: \"\";width: 100%;border-bottom: 1px solid gray;flex-grow: 1;}#sk-container-id-1 div.sk-label:hover label.sk-toggleable__label {background-color: #d4ebff;}#sk-container-id-1 div.sk-serial::before {content: \"\";position: absolute;border-left: 1px solid gray;box-sizing: border-box;top: 0;bottom: 0;left: 50%;z-index: 0;}#sk-container-id-1 div.sk-serial {display: flex;flex-direction: column;align-items: center;background-color: white;padding-right: 0.2em;padding-left: 0.2em;position: relative;}#sk-container-id-1 div.sk-item {position: relative;z-index: 1;}#sk-container-id-1 div.sk-parallel {display: flex;align-items: stretch;justify-content: center;background-color: white;position: relative;}#sk-container-id-1 div.sk-item::before, #sk-container-id-1 div.sk-parallel-item::before {content: \"\";position: absolute;border-left: 1px solid gray;box-sizing: border-box;top: 0;bottom: 0;left: 50%;z-index: -1;}#sk-container-id-1 div.sk-parallel-item {display: flex;flex-direction: column;z-index: 1;position: relative;background-color: white;}#sk-container-id-1 div.sk-parallel-item:first-child::after {align-self: flex-end;width: 50%;}#sk-container-id-1 div.sk-parallel-item:last-child::after {align-self: flex-start;width: 50%;}#sk-container-id-1 div.sk-parallel-item:only-child::after {width: 0;}#sk-container-id-1 div.sk-dashed-wrapped {border: 1px dashed gray;margin: 0 0.4em 0.5em 0.4em;box-sizing: border-box;padding-bottom: 0.4em;background-color: white;}#sk-container-id-1 div.sk-label label {font-family: monospace;font-weight: bold;display: inline-block;line-height: 1.2em;}#sk-container-id-1 div.sk-label-container {text-align: center;}#sk-container-id-1 div.sk-container {/* jupyter's `normalize.less` sets `[hidden] { display: none; }` but bootstrap.min.css set `[hidden] { display: none !important; }` so we also need the `!important` here to be able to override the default hidden behavior on the sphinx rendered scikit-learn.org. See: https://github.com/scikit-learn/scikit-learn/issues/21755 */display: inline-block !important;position: relative;}#sk-container-id-1 div.sk-text-repr-fallback {display: none;}</style><div id=\"sk-container-id-1\" class=\"sk-top-container\"><div class=\"sk-text-repr-fallback\"><pre>LogisticRegression()</pre><b>In a Jupyter environment, please rerun this cell to show the HTML representation or trust the notebook. <br />On GitHub, the HTML representation is unable to render, please try loading this page with nbviewer.org.</b></div><div class=\"sk-container\" hidden><div class=\"sk-item\"><div class=\"sk-estimator sk-toggleable\"><input class=\"sk-toggleable__control sk-hidden--visually\" id=\"sk-estimator-id-1\" type=\"checkbox\" checked><label for=\"sk-estimator-id-1\" class=\"sk-toggleable__label sk-toggleable__label-arrow\">LogisticRegression</label><div class=\"sk-toggleable__content\"><pre>LogisticRegression()</pre></div></div></div></div></div>"
      ],
      "text/plain": [
       "LogisticRegression()"
      ]
     },
     "execution_count": 56,
     "metadata": {},
     "output_type": "execute_result"
    }
   ],
   "source": [
    "model_lr.fit(x_train,y_train)"
   ]
  },
  {
   "cell_type": "code",
   "execution_count": 57,
   "id": "5dbddcf5",
   "metadata": {},
   "outputs": [],
   "source": [
    "y_pred = model_lr.predict(x_test)"
   ]
  },
  {
   "cell_type": "code",
   "execution_count": 58,
   "id": "f9d7ab51",
   "metadata": {},
   "outputs": [
    {
     "data": {
      "text/html": [
       "<div>\n",
       "<style scoped>\n",
       "    .dataframe tbody tr th:only-of-type {\n",
       "        vertical-align: middle;\n",
       "    }\n",
       "\n",
       "    .dataframe tbody tr th {\n",
       "        vertical-align: top;\n",
       "    }\n",
       "\n",
       "    .dataframe thead th {\n",
       "        text-align: right;\n",
       "    }\n",
       "</style>\n",
       "<table border=\"1\" class=\"dataframe\">\n",
       "  <thead>\n",
       "    <tr style=\"text-align: right;\">\n",
       "      <th></th>\n",
       "      <th>Actual Y</th>\n",
       "      <th>Predicted Y</th>\n",
       "    </tr>\n",
       "  </thead>\n",
       "  <tbody>\n",
       "    <tr>\n",
       "      <th>111</th>\n",
       "      <td>1</td>\n",
       "      <td>1</td>\n",
       "    </tr>\n",
       "    <tr>\n",
       "      <th>4</th>\n",
       "      <td>1</td>\n",
       "      <td>1</td>\n",
       "    </tr>\n",
       "    <tr>\n",
       "      <th>408</th>\n",
       "      <td>1</td>\n",
       "      <td>1</td>\n",
       "    </tr>\n",
       "    <tr>\n",
       "      <th>577</th>\n",
       "      <td>1</td>\n",
       "      <td>1</td>\n",
       "    </tr>\n",
       "    <tr>\n",
       "      <th>155</th>\n",
       "      <td>1</td>\n",
       "      <td>1</td>\n",
       "    </tr>\n",
       "    <tr>\n",
       "      <th>136</th>\n",
       "      <td>1</td>\n",
       "      <td>1</td>\n",
       "    </tr>\n",
       "    <tr>\n",
       "      <th>32</th>\n",
       "      <td>0</td>\n",
       "      <td>1</td>\n",
       "    </tr>\n",
       "    <tr>\n",
       "      <th>125</th>\n",
       "      <td>0</td>\n",
       "      <td>1</td>\n",
       "    </tr>\n",
       "    <tr>\n",
       "      <th>501</th>\n",
       "      <td>1</td>\n",
       "      <td>1</td>\n",
       "    </tr>\n",
       "    <tr>\n",
       "      <th>94</th>\n",
       "      <td>1</td>\n",
       "      <td>1</td>\n",
       "    </tr>\n",
       "    <tr>\n",
       "      <th>250</th>\n",
       "      <td>1</td>\n",
       "      <td>1</td>\n",
       "    </tr>\n",
       "    <tr>\n",
       "      <th>302</th>\n",
       "      <td>1</td>\n",
       "      <td>1</td>\n",
       "    </tr>\n",
       "    <tr>\n",
       "      <th>305</th>\n",
       "      <td>0</td>\n",
       "      <td>1</td>\n",
       "    </tr>\n",
       "    <tr>\n",
       "      <th>203</th>\n",
       "      <td>0</td>\n",
       "      <td>0</td>\n",
       "    </tr>\n",
       "    <tr>\n",
       "      <th>551</th>\n",
       "      <td>0</td>\n",
       "      <td>0</td>\n",
       "    </tr>\n",
       "    <tr>\n",
       "      <th>369</th>\n",
       "      <td>1</td>\n",
       "      <td>1</td>\n",
       "    </tr>\n",
       "    <tr>\n",
       "      <th>222</th>\n",
       "      <td>1</td>\n",
       "      <td>1</td>\n",
       "    </tr>\n",
       "    <tr>\n",
       "      <th>322</th>\n",
       "      <td>1</td>\n",
       "      <td>1</td>\n",
       "    </tr>\n",
       "    <tr>\n",
       "      <th>62</th>\n",
       "      <td>1</td>\n",
       "      <td>1</td>\n",
       "    </tr>\n",
       "    <tr>\n",
       "      <th>146</th>\n",
       "      <td>1</td>\n",
       "      <td>1</td>\n",
       "    </tr>\n",
       "  </tbody>\n",
       "</table>\n",
       "</div>"
      ],
      "text/plain": [
       "     Actual Y  Predicted Y\n",
       "111         1            1\n",
       "4           1            1\n",
       "408         1            1\n",
       "577         1            1\n",
       "155         1            1\n",
       "136         1            1\n",
       "32          0            1\n",
       "125         0            1\n",
       "501         1            1\n",
       "94          1            1\n",
       "250         1            1\n",
       "302         1            1\n",
       "305         0            1\n",
       "203         0            0\n",
       "551         0            0\n",
       "369         1            1\n",
       "222         1            1\n",
       "322         1            1\n",
       "62          1            1\n",
       "146         1            1"
      ]
     },
     "execution_count": 58,
     "metadata": {},
     "output_type": "execute_result"
    }
   ],
   "source": [
    "pd.DataFrame({'Actual Y':y_test,'Predicted Y':y_pred}).head(20)"
   ]
  },
  {
   "cell_type": "markdown",
   "id": "22ba764c",
   "metadata": {},
   "source": [
    "## Validation"
   ]
  },
  {
   "cell_type": "code",
   "execution_count": 59,
   "id": "5aab9179",
   "metadata": {},
   "outputs": [],
   "source": [
    "from sklearn.metrics import accuracy_score,recall_score,f1_score,log_loss,confusion_matrix,precision_score"
   ]
  },
  {
   "cell_type": "code",
   "execution_count": 60,
   "id": "414b0c7c",
   "metadata": {},
   "outputs": [],
   "source": [
    "def validation(test,pred):\n",
    "    print('confusion matrix:\\n',confusion_matrix(test,pred))\n",
    "    print('accuracy:',accuracy_score(test,pred))\n",
    "    print('recall:',recall_score(test,pred))\n",
    "    print('f1 score:',f1_score(test,pred))\n",
    "    print('Precision score:',precision_score(test,pred))"
   ]
  },
  {
   "cell_type": "code",
   "execution_count": 61,
   "id": "cb10a9c5",
   "metadata": {},
   "outputs": [
    {
     "name": "stdout",
     "output_type": "stream",
     "text": [
      "confusion matrix:\n",
      " [[ 7 26]\n",
      " [ 4 79]]\n",
      "accuracy: 0.7413793103448276\n",
      "recall: 0.9518072289156626\n",
      "f1 score: 0.8404255319148937\n",
      "Precision score: 0.7523809523809524\n"
     ]
    }
   ],
   "source": [
    "validation(y_test,y_pred)"
   ]
  },
  {
   "cell_type": "code",
   "execution_count": 62,
   "id": "faaf3ebd",
   "metadata": {},
   "outputs": [],
   "source": [
    "from sklearn.model_selection import GridSearchCV"
   ]
  },
  {
   "cell_type": "markdown",
   "id": "f00fa0a5",
   "metadata": {},
   "source": [
    "## Risge Lasso"
   ]
  },
  {
   "cell_type": "code",
   "execution_count": null,
   "id": "1daf25d3",
   "metadata": {},
   "outputs": [],
   "source": [
    "from sklearn.model_selection import "
   ]
  },
  {
   "cell_type": "code",
   "execution_count": null,
   "id": "838ee605",
   "metadata": {},
   "outputs": [],
   "source": []
  },
  {
   "cell_type": "code",
   "execution_count": null,
   "id": "7f3e7ae6",
   "metadata": {},
   "outputs": [],
   "source": []
  },
  {
   "cell_type": "code",
   "execution_count": null,
   "id": "65f3405f",
   "metadata": {},
   "outputs": [],
   "source": []
  },
  {
   "cell_type": "code",
   "execution_count": null,
   "id": "f3117969",
   "metadata": {},
   "outputs": [],
   "source": []
  },
  {
   "cell_type": "code",
   "execution_count": null,
   "id": "a8be3180",
   "metadata": {},
   "outputs": [],
   "source": []
  },
  {
   "cell_type": "code",
   "execution_count": null,
   "id": "eae02daf",
   "metadata": {},
   "outputs": [],
   "source": []
  },
  {
   "cell_type": "markdown",
   "id": "33b5c221",
   "metadata": {},
   "source": [
    "## Decision Tree"
   ]
  },
  {
   "cell_type": "code",
   "execution_count": 63,
   "id": "73c99012",
   "metadata": {},
   "outputs": [],
   "source": [
    "from sklearn.tree import DecisionTreeClassifier"
   ]
  },
  {
   "cell_type": "code",
   "execution_count": 72,
   "id": "fe354f73",
   "metadata": {},
   "outputs": [],
   "source": [
    "model_dt = DecisionTreeClassifier()"
   ]
  },
  {
   "cell_type": "code",
   "execution_count": 73,
   "id": "6cd923fd",
   "metadata": {},
   "outputs": [],
   "source": [
    "param = {'criterion':['gini','entropy'],\n",
    "        'max_depth':[4,5,6,7,8]}"
   ]
  },
  {
   "cell_type": "code",
   "execution_count": 74,
   "id": "cd8aca82",
   "metadata": {},
   "outputs": [],
   "source": [
    "gscv = GridSearchCV(estimator=model_dt,\n",
    "                   param_grid=param,\n",
    "                   scoring='accuracy',\n",
    "                   verbose=3)"
   ]
  },
  {
   "cell_type": "code",
   "execution_count": 75,
   "id": "175567a3",
   "metadata": {},
   "outputs": [
    {
     "name": "stdout",
     "output_type": "stream",
     "text": [
      "Fitting 5 folds for each of 10 candidates, totalling 50 fits\n",
      "[CV 1/5] END .......criterion=gini, max_depth=4;, score=0.688 total time=   0.0s\n",
      "[CV 2/5] END .......criterion=gini, max_depth=4;, score=0.667 total time=   0.0s\n",
      "[CV 3/5] END .......criterion=gini, max_depth=4;, score=0.699 total time=   0.0s\n",
      "[CV 4/5] END .......criterion=gini, max_depth=4;, score=0.674 total time=   0.0s\n",
      "[CV 5/5] END .......criterion=gini, max_depth=4;, score=0.641 total time=   0.0s\n",
      "[CV 1/5] END .......criterion=gini, max_depth=5;, score=0.634 total time=   0.0s\n",
      "[CV 2/5] END .......criterion=gini, max_depth=5;, score=0.677 total time=   0.0s\n",
      "[CV 3/5] END .......criterion=gini, max_depth=5;, score=0.699 total time=   0.0s\n",
      "[CV 4/5] END .......criterion=gini, max_depth=5;, score=0.630 total time=   0.0s\n",
      "[CV 5/5] END .......criterion=gini, max_depth=5;, score=0.587 total time=   0.0s\n",
      "[CV 1/5] END .......criterion=gini, max_depth=6;, score=0.667 total time=   0.0s\n",
      "[CV 2/5] END .......criterion=gini, max_depth=6;, score=0.667 total time=   0.0s\n",
      "[CV 3/5] END .......criterion=gini, max_depth=6;, score=0.699 total time=   0.0s\n",
      "[CV 4/5] END .......criterion=gini, max_depth=6;, score=0.674 total time=   0.0s\n",
      "[CV 5/5] END .......criterion=gini, max_depth=6;, score=0.674 total time=   0.0s\n",
      "[CV 1/5] END .......criterion=gini, max_depth=7;, score=0.656 total time=   0.0s\n",
      "[CV 2/5] END .......criterion=gini, max_depth=7;, score=0.742 total time=   0.0s\n",
      "[CV 3/5] END .......criterion=gini, max_depth=7;, score=0.720 total time=   0.0s\n",
      "[CV 4/5] END .......criterion=gini, max_depth=7;, score=0.609 total time=   0.0s\n",
      "[CV 5/5] END .......criterion=gini, max_depth=7;, score=0.674 total time=   0.0s\n",
      "[CV 1/5] END .......criterion=gini, max_depth=8;, score=0.667 total time=   0.0s\n",
      "[CV 2/5] END .......criterion=gini, max_depth=8;, score=0.710 total time=   0.0s\n",
      "[CV 3/5] END .......criterion=gini, max_depth=8;, score=0.763 total time=   0.0s\n",
      "[CV 4/5] END .......criterion=gini, max_depth=8;, score=0.609 total time=   0.0s\n",
      "[CV 5/5] END .......criterion=gini, max_depth=8;, score=0.641 total time=   0.0s\n",
      "[CV 1/5] END ....criterion=entropy, max_depth=4;, score=0.742 total time=   0.0s\n",
      "[CV 2/5] END ....criterion=entropy, max_depth=4;, score=0.634 total time=   0.0s\n",
      "[CV 3/5] END ....criterion=entropy, max_depth=4;, score=0.688 total time=   0.0s\n",
      "[CV 4/5] END ....criterion=entropy, max_depth=4;, score=0.696 total time=   0.0s\n",
      "[CV 5/5] END ....criterion=entropy, max_depth=4;, score=0.630 total time=   0.0s\n",
      "[CV 1/5] END ....criterion=entropy, max_depth=5;, score=0.742 total time=   0.0s\n",
      "[CV 2/5] END ....criterion=entropy, max_depth=5;, score=0.699 total time=   0.0s\n",
      "[CV 3/5] END ....criterion=entropy, max_depth=5;, score=0.688 total time=   0.0s\n",
      "[CV 4/5] END ....criterion=entropy, max_depth=5;, score=0.696 total time=   0.0s\n",
      "[CV 5/5] END ....criterion=entropy, max_depth=5;, score=0.685 total time=   0.0s\n",
      "[CV 1/5] END ....criterion=entropy, max_depth=6;, score=0.688 total time=   0.0s\n",
      "[CV 2/5] END ....criterion=entropy, max_depth=6;, score=0.699 total time=   0.0s\n",
      "[CV 3/5] END ....criterion=entropy, max_depth=6;, score=0.667 total time=   0.0s\n",
      "[CV 4/5] END ....criterion=entropy, max_depth=6;, score=0.641 total time=   0.0s\n",
      "[CV 5/5] END ....criterion=entropy, max_depth=6;, score=0.674 total time=   0.0s\n",
      "[CV 1/5] END ....criterion=entropy, max_depth=7;, score=0.699 total time=   0.0s\n",
      "[CV 2/5] END ....criterion=entropy, max_depth=7;, score=0.731 total time=   0.0s\n",
      "[CV 3/5] END ....criterion=entropy, max_depth=7;, score=0.677 total time=   0.0s\n",
      "[CV 4/5] END ....criterion=entropy, max_depth=7;, score=0.641 total time=   0.0s\n",
      "[CV 5/5] END ....criterion=entropy, max_depth=7;, score=0.641 total time=   0.0s\n",
      "[CV 1/5] END ....criterion=entropy, max_depth=8;, score=0.731 total time=   0.0s\n",
      "[CV 2/5] END ....criterion=entropy, max_depth=8;, score=0.720 total time=   0.0s\n",
      "[CV 3/5] END ....criterion=entropy, max_depth=8;, score=0.710 total time=   0.0s\n",
      "[CV 4/5] END ....criterion=entropy, max_depth=8;, score=0.522 total time=   0.0s\n",
      "[CV 5/5] END ....criterion=entropy, max_depth=8;, score=0.641 total time=   0.0s\n"
     ]
    },
    {
     "data": {
      "text/html": [
       "<style>#sk-container-id-2 {color: black;background-color: white;}#sk-container-id-2 pre{padding: 0;}#sk-container-id-2 div.sk-toggleable {background-color: white;}#sk-container-id-2 label.sk-toggleable__label {cursor: pointer;display: block;width: 100%;margin-bottom: 0;padding: 0.3em;box-sizing: border-box;text-align: center;}#sk-container-id-2 label.sk-toggleable__label-arrow:before {content: \"▸\";float: left;margin-right: 0.25em;color: #696969;}#sk-container-id-2 label.sk-toggleable__label-arrow:hover:before {color: black;}#sk-container-id-2 div.sk-estimator:hover label.sk-toggleable__label-arrow:before {color: black;}#sk-container-id-2 div.sk-toggleable__content {max-height: 0;max-width: 0;overflow: hidden;text-align: left;background-color: #f0f8ff;}#sk-container-id-2 div.sk-toggleable__content pre {margin: 0.2em;color: black;border-radius: 0.25em;background-color: #f0f8ff;}#sk-container-id-2 input.sk-toggleable__control:checked~div.sk-toggleable__content {max-height: 200px;max-width: 100%;overflow: auto;}#sk-container-id-2 input.sk-toggleable__control:checked~label.sk-toggleable__label-arrow:before {content: \"▾\";}#sk-container-id-2 div.sk-estimator input.sk-toggleable__control:checked~label.sk-toggleable__label {background-color: #d4ebff;}#sk-container-id-2 div.sk-label input.sk-toggleable__control:checked~label.sk-toggleable__label {background-color: #d4ebff;}#sk-container-id-2 input.sk-hidden--visually {border: 0;clip: rect(1px 1px 1px 1px);clip: rect(1px, 1px, 1px, 1px);height: 1px;margin: -1px;overflow: hidden;padding: 0;position: absolute;width: 1px;}#sk-container-id-2 div.sk-estimator {font-family: monospace;background-color: #f0f8ff;border: 1px dotted black;border-radius: 0.25em;box-sizing: border-box;margin-bottom: 0.5em;}#sk-container-id-2 div.sk-estimator:hover {background-color: #d4ebff;}#sk-container-id-2 div.sk-parallel-item::after {content: \"\";width: 100%;border-bottom: 1px solid gray;flex-grow: 1;}#sk-container-id-2 div.sk-label:hover label.sk-toggleable__label {background-color: #d4ebff;}#sk-container-id-2 div.sk-serial::before {content: \"\";position: absolute;border-left: 1px solid gray;box-sizing: border-box;top: 0;bottom: 0;left: 50%;z-index: 0;}#sk-container-id-2 div.sk-serial {display: flex;flex-direction: column;align-items: center;background-color: white;padding-right: 0.2em;padding-left: 0.2em;position: relative;}#sk-container-id-2 div.sk-item {position: relative;z-index: 1;}#sk-container-id-2 div.sk-parallel {display: flex;align-items: stretch;justify-content: center;background-color: white;position: relative;}#sk-container-id-2 div.sk-item::before, #sk-container-id-2 div.sk-parallel-item::before {content: \"\";position: absolute;border-left: 1px solid gray;box-sizing: border-box;top: 0;bottom: 0;left: 50%;z-index: -1;}#sk-container-id-2 div.sk-parallel-item {display: flex;flex-direction: column;z-index: 1;position: relative;background-color: white;}#sk-container-id-2 div.sk-parallel-item:first-child::after {align-self: flex-end;width: 50%;}#sk-container-id-2 div.sk-parallel-item:last-child::after {align-self: flex-start;width: 50%;}#sk-container-id-2 div.sk-parallel-item:only-child::after {width: 0;}#sk-container-id-2 div.sk-dashed-wrapped {border: 1px dashed gray;margin: 0 0.4em 0.5em 0.4em;box-sizing: border-box;padding-bottom: 0.4em;background-color: white;}#sk-container-id-2 div.sk-label label {font-family: monospace;font-weight: bold;display: inline-block;line-height: 1.2em;}#sk-container-id-2 div.sk-label-container {text-align: center;}#sk-container-id-2 div.sk-container {/* jupyter's `normalize.less` sets `[hidden] { display: none; }` but bootstrap.min.css set `[hidden] { display: none !important; }` so we also need the `!important` here to be able to override the default hidden behavior on the sphinx rendered scikit-learn.org. See: https://github.com/scikit-learn/scikit-learn/issues/21755 */display: inline-block !important;position: relative;}#sk-container-id-2 div.sk-text-repr-fallback {display: none;}</style><div id=\"sk-container-id-2\" class=\"sk-top-container\"><div class=\"sk-text-repr-fallback\"><pre>GridSearchCV(estimator=DecisionTreeClassifier(),\n",
       "             param_grid={&#x27;criterion&#x27;: [&#x27;gini&#x27;, &#x27;entropy&#x27;],\n",
       "                         &#x27;max_depth&#x27;: [4, 5, 6, 7, 8]},\n",
       "             scoring=&#x27;accuracy&#x27;, verbose=3)</pre><b>In a Jupyter environment, please rerun this cell to show the HTML representation or trust the notebook. <br />On GitHub, the HTML representation is unable to render, please try loading this page with nbviewer.org.</b></div><div class=\"sk-container\" hidden><div class=\"sk-item sk-dashed-wrapped\"><div class=\"sk-label-container\"><div class=\"sk-label sk-toggleable\"><input class=\"sk-toggleable__control sk-hidden--visually\" id=\"sk-estimator-id-2\" type=\"checkbox\" ><label for=\"sk-estimator-id-2\" class=\"sk-toggleable__label sk-toggleable__label-arrow\">GridSearchCV</label><div class=\"sk-toggleable__content\"><pre>GridSearchCV(estimator=DecisionTreeClassifier(),\n",
       "             param_grid={&#x27;criterion&#x27;: [&#x27;gini&#x27;, &#x27;entropy&#x27;],\n",
       "                         &#x27;max_depth&#x27;: [4, 5, 6, 7, 8]},\n",
       "             scoring=&#x27;accuracy&#x27;, verbose=3)</pre></div></div></div><div class=\"sk-parallel\"><div class=\"sk-parallel-item\"><div class=\"sk-item\"><div class=\"sk-label-container\"><div class=\"sk-label sk-toggleable\"><input class=\"sk-toggleable__control sk-hidden--visually\" id=\"sk-estimator-id-3\" type=\"checkbox\" ><label for=\"sk-estimator-id-3\" class=\"sk-toggleable__label sk-toggleable__label-arrow\">estimator: DecisionTreeClassifier</label><div class=\"sk-toggleable__content\"><pre>DecisionTreeClassifier()</pre></div></div></div><div class=\"sk-serial\"><div class=\"sk-item\"><div class=\"sk-estimator sk-toggleable\"><input class=\"sk-toggleable__control sk-hidden--visually\" id=\"sk-estimator-id-4\" type=\"checkbox\" ><label for=\"sk-estimator-id-4\" class=\"sk-toggleable__label sk-toggleable__label-arrow\">DecisionTreeClassifier</label><div class=\"sk-toggleable__content\"><pre>DecisionTreeClassifier()</pre></div></div></div></div></div></div></div></div></div></div>"
      ],
      "text/plain": [
       "GridSearchCV(estimator=DecisionTreeClassifier(),\n",
       "             param_grid={'criterion': ['gini', 'entropy'],\n",
       "                         'max_depth': [4, 5, 6, 7, 8]},\n",
       "             scoring='accuracy', verbose=3)"
      ]
     },
     "execution_count": 75,
     "metadata": {},
     "output_type": "execute_result"
    }
   ],
   "source": [
    "gscv.fit(x_train,y_train)"
   ]
  },
  {
   "cell_type": "code",
   "execution_count": 76,
   "id": "ef37fbc5",
   "metadata": {},
   "outputs": [
    {
     "data": {
      "text/plain": [
       "0.7018934081346424"
      ]
     },
     "execution_count": 76,
     "metadata": {},
     "output_type": "execute_result"
    }
   ],
   "source": [
    "gscv.best_score_"
   ]
  },
  {
   "cell_type": "code",
   "execution_count": 77,
   "id": "0d434dc7",
   "metadata": {},
   "outputs": [
    {
     "data": {
      "text/plain": [
       "{'criterion': 'entropy', 'max_depth': 5}"
      ]
     },
     "execution_count": 77,
     "metadata": {},
     "output_type": "execute_result"
    }
   ],
   "source": [
    "gscv.best_params_"
   ]
  },
  {
   "cell_type": "code",
   "execution_count": 80,
   "id": "ea09f976",
   "metadata": {},
   "outputs": [],
   "source": [
    "model_dt = DecisionTreeClassifier(**gscv.best_params_)"
   ]
  },
  {
   "cell_type": "code",
   "execution_count": 81,
   "id": "3ba5cf86",
   "metadata": {},
   "outputs": [
    {
     "data": {
      "text/html": [
       "<style>#sk-container-id-3 {color: black;background-color: white;}#sk-container-id-3 pre{padding: 0;}#sk-container-id-3 div.sk-toggleable {background-color: white;}#sk-container-id-3 label.sk-toggleable__label {cursor: pointer;display: block;width: 100%;margin-bottom: 0;padding: 0.3em;box-sizing: border-box;text-align: center;}#sk-container-id-3 label.sk-toggleable__label-arrow:before {content: \"▸\";float: left;margin-right: 0.25em;color: #696969;}#sk-container-id-3 label.sk-toggleable__label-arrow:hover:before {color: black;}#sk-container-id-3 div.sk-estimator:hover label.sk-toggleable__label-arrow:before {color: black;}#sk-container-id-3 div.sk-toggleable__content {max-height: 0;max-width: 0;overflow: hidden;text-align: left;background-color: #f0f8ff;}#sk-container-id-3 div.sk-toggleable__content pre {margin: 0.2em;color: black;border-radius: 0.25em;background-color: #f0f8ff;}#sk-container-id-3 input.sk-toggleable__control:checked~div.sk-toggleable__content {max-height: 200px;max-width: 100%;overflow: auto;}#sk-container-id-3 input.sk-toggleable__control:checked~label.sk-toggleable__label-arrow:before {content: \"▾\";}#sk-container-id-3 div.sk-estimator input.sk-toggleable__control:checked~label.sk-toggleable__label {background-color: #d4ebff;}#sk-container-id-3 div.sk-label input.sk-toggleable__control:checked~label.sk-toggleable__label {background-color: #d4ebff;}#sk-container-id-3 input.sk-hidden--visually {border: 0;clip: rect(1px 1px 1px 1px);clip: rect(1px, 1px, 1px, 1px);height: 1px;margin: -1px;overflow: hidden;padding: 0;position: absolute;width: 1px;}#sk-container-id-3 div.sk-estimator {font-family: monospace;background-color: #f0f8ff;border: 1px dotted black;border-radius: 0.25em;box-sizing: border-box;margin-bottom: 0.5em;}#sk-container-id-3 div.sk-estimator:hover {background-color: #d4ebff;}#sk-container-id-3 div.sk-parallel-item::after {content: \"\";width: 100%;border-bottom: 1px solid gray;flex-grow: 1;}#sk-container-id-3 div.sk-label:hover label.sk-toggleable__label {background-color: #d4ebff;}#sk-container-id-3 div.sk-serial::before {content: \"\";position: absolute;border-left: 1px solid gray;box-sizing: border-box;top: 0;bottom: 0;left: 50%;z-index: 0;}#sk-container-id-3 div.sk-serial {display: flex;flex-direction: column;align-items: center;background-color: white;padding-right: 0.2em;padding-left: 0.2em;position: relative;}#sk-container-id-3 div.sk-item {position: relative;z-index: 1;}#sk-container-id-3 div.sk-parallel {display: flex;align-items: stretch;justify-content: center;background-color: white;position: relative;}#sk-container-id-3 div.sk-item::before, #sk-container-id-3 div.sk-parallel-item::before {content: \"\";position: absolute;border-left: 1px solid gray;box-sizing: border-box;top: 0;bottom: 0;left: 50%;z-index: -1;}#sk-container-id-3 div.sk-parallel-item {display: flex;flex-direction: column;z-index: 1;position: relative;background-color: white;}#sk-container-id-3 div.sk-parallel-item:first-child::after {align-self: flex-end;width: 50%;}#sk-container-id-3 div.sk-parallel-item:last-child::after {align-self: flex-start;width: 50%;}#sk-container-id-3 div.sk-parallel-item:only-child::after {width: 0;}#sk-container-id-3 div.sk-dashed-wrapped {border: 1px dashed gray;margin: 0 0.4em 0.5em 0.4em;box-sizing: border-box;padding-bottom: 0.4em;background-color: white;}#sk-container-id-3 div.sk-label label {font-family: monospace;font-weight: bold;display: inline-block;line-height: 1.2em;}#sk-container-id-3 div.sk-label-container {text-align: center;}#sk-container-id-3 div.sk-container {/* jupyter's `normalize.less` sets `[hidden] { display: none; }` but bootstrap.min.css set `[hidden] { display: none !important; }` so we also need the `!important` here to be able to override the default hidden behavior on the sphinx rendered scikit-learn.org. See: https://github.com/scikit-learn/scikit-learn/issues/21755 */display: inline-block !important;position: relative;}#sk-container-id-3 div.sk-text-repr-fallback {display: none;}</style><div id=\"sk-container-id-3\" class=\"sk-top-container\"><div class=\"sk-text-repr-fallback\"><pre>DecisionTreeClassifier(criterion=&#x27;entropy&#x27;, max_depth=5)</pre><b>In a Jupyter environment, please rerun this cell to show the HTML representation or trust the notebook. <br />On GitHub, the HTML representation is unable to render, please try loading this page with nbviewer.org.</b></div><div class=\"sk-container\" hidden><div class=\"sk-item\"><div class=\"sk-estimator sk-toggleable\"><input class=\"sk-toggleable__control sk-hidden--visually\" id=\"sk-estimator-id-5\" type=\"checkbox\" checked><label for=\"sk-estimator-id-5\" class=\"sk-toggleable__label sk-toggleable__label-arrow\">DecisionTreeClassifier</label><div class=\"sk-toggleable__content\"><pre>DecisionTreeClassifier(criterion=&#x27;entropy&#x27;, max_depth=5)</pre></div></div></div></div></div>"
      ],
      "text/plain": [
       "DecisionTreeClassifier(criterion='entropy', max_depth=5)"
      ]
     },
     "execution_count": 81,
     "metadata": {},
     "output_type": "execute_result"
    }
   ],
   "source": [
    "model_dt.fit(x_train,y_train)"
   ]
  },
  {
   "cell_type": "code",
   "execution_count": 82,
   "id": "e8e2029a",
   "metadata": {},
   "outputs": [
    {
     "data": {
      "text/plain": [
       "0.75"
      ]
     },
     "execution_count": 82,
     "metadata": {},
     "output_type": "execute_result"
    }
   ],
   "source": [
    "model_dt.score(x_test,y_test)"
   ]
  },
  {
   "cell_type": "code",
   "execution_count": 85,
   "id": "9ddcceab",
   "metadata": {},
   "outputs": [],
   "source": [
    "y_pred_dt = model_dt.predict(x_test)"
   ]
  },
  {
   "cell_type": "code",
   "execution_count": 86,
   "id": "0d1b9a38",
   "metadata": {},
   "outputs": [
    {
     "name": "stdout",
     "output_type": "stream",
     "text": [
      "confusion matrix:\n",
      " [[12 21]\n",
      " [ 8 75]]\n",
      "accuracy: 0.75\n",
      "recall: 0.9036144578313253\n",
      "f1 score: 0.8379888268156425\n",
      "Precision score: 0.78125\n"
     ]
    }
   ],
   "source": [
    "validation(y_test,y_pred_dt)"
   ]
  },
  {
   "cell_type": "markdown",
   "id": "59c4e51e",
   "metadata": {},
   "source": [
    "## Ensemble Models"
   ]
  },
  {
   "cell_type": "markdown",
   "id": "c6ef071a",
   "metadata": {},
   "source": [
    "## Bagging(Random forest)"
   ]
  },
  {
   "cell_type": "code",
   "execution_count": 87,
   "id": "9bf3d60c",
   "metadata": {},
   "outputs": [],
   "source": [
    "from sklearn.ensemble import RandomForestClassifier"
   ]
  },
  {
   "cell_type": "code",
   "execution_count": 88,
   "id": "43274d62",
   "metadata": {},
   "outputs": [],
   "source": [
    "model_rf = RandomForestClassifier()"
   ]
  },
  {
   "cell_type": "code",
   "execution_count": 89,
   "id": "d9c6b251",
   "metadata": {},
   "outputs": [],
   "source": [
    "param ={'n_estimators':[50,100,150,200],\n",
    "       'max_features':[3,4,5],\n",
    "       'criterion':['gini','entropy']}"
   ]
  },
  {
   "cell_type": "code",
   "execution_count": 90,
   "id": "fca61921",
   "metadata": {},
   "outputs": [],
   "source": [
    "gscv = GridSearchCV(estimator=model_rf,\n",
    "                   param_grid=param,\n",
    "                   scoring='accuracy',\n",
    "                   verbose=3,\n",
    "                   cv=3)"
   ]
  },
  {
   "cell_type": "code",
   "execution_count": 91,
   "id": "d033a794",
   "metadata": {},
   "outputs": [
    {
     "name": "stdout",
     "output_type": "stream",
     "text": [
      "Fitting 3 folds for each of 24 candidates, totalling 72 fits\n",
      "[CV 1/3] END criterion=gini, max_features=3, n_estimators=50;, score=0.703 total time=   0.0s\n",
      "[CV 2/3] END criterion=gini, max_features=3, n_estimators=50;, score=0.701 total time=   0.0s\n",
      "[CV 3/3] END criterion=gini, max_features=3, n_estimators=50;, score=0.636 total time=   0.0s\n",
      "[CV 1/3] END criterion=gini, max_features=3, n_estimators=100;, score=0.697 total time=   0.1s\n",
      "[CV 2/3] END criterion=gini, max_features=3, n_estimators=100;, score=0.675 total time=   0.1s\n",
      "[CV 3/3] END criterion=gini, max_features=3, n_estimators=100;, score=0.662 total time=   0.1s\n",
      "[CV 1/3] END criterion=gini, max_features=3, n_estimators=150;, score=0.690 total time=   0.2s\n",
      "[CV 2/3] END criterion=gini, max_features=3, n_estimators=150;, score=0.688 total time=   0.2s\n",
      "[CV 3/3] END criterion=gini, max_features=3, n_estimators=150;, score=0.675 total time=   0.1s\n",
      "[CV 1/3] END criterion=gini, max_features=3, n_estimators=200;, score=0.690 total time=   0.2s\n",
      "[CV 2/3] END criterion=gini, max_features=3, n_estimators=200;, score=0.682 total time=   0.3s\n",
      "[CV 3/3] END criterion=gini, max_features=3, n_estimators=200;, score=0.662 total time=   0.2s\n",
      "[CV 1/3] END criterion=gini, max_features=4, n_estimators=50;, score=0.697 total time=   0.0s\n",
      "[CV 2/3] END criterion=gini, max_features=4, n_estimators=50;, score=0.688 total time=   0.0s\n",
      "[CV 3/3] END criterion=gini, max_features=4, n_estimators=50;, score=0.617 total time=   0.0s\n",
      "[CV 1/3] END criterion=gini, max_features=4, n_estimators=100;, score=0.703 total time=   0.1s\n",
      "[CV 2/3] END criterion=gini, max_features=4, n_estimators=100;, score=0.656 total time=   0.1s\n",
      "[CV 3/3] END criterion=gini, max_features=4, n_estimators=100;, score=0.662 total time=   0.1s\n",
      "[CV 1/3] END criterion=gini, max_features=4, n_estimators=150;, score=0.703 total time=   0.2s\n",
      "[CV 2/3] END criterion=gini, max_features=4, n_estimators=150;, score=0.682 total time=   0.2s\n",
      "[CV 3/3] END criterion=gini, max_features=4, n_estimators=150;, score=0.636 total time=   0.1s\n",
      "[CV 1/3] END criterion=gini, max_features=4, n_estimators=200;, score=0.690 total time=   0.2s\n",
      "[CV 2/3] END criterion=gini, max_features=4, n_estimators=200;, score=0.701 total time=   0.2s\n",
      "[CV 3/3] END criterion=gini, max_features=4, n_estimators=200;, score=0.636 total time=   0.2s\n",
      "[CV 1/3] END criterion=gini, max_features=5, n_estimators=50;, score=0.697 total time=   0.0s\n",
      "[CV 2/3] END criterion=gini, max_features=5, n_estimators=50;, score=0.701 total time=   0.0s\n",
      "[CV 3/3] END criterion=gini, max_features=5, n_estimators=50;, score=0.623 total time=   0.0s\n",
      "[CV 1/3] END criterion=gini, max_features=5, n_estimators=100;, score=0.665 total time=   0.1s\n",
      "[CV 2/3] END criterion=gini, max_features=5, n_estimators=100;, score=0.662 total time=   0.1s\n",
      "[CV 3/3] END criterion=gini, max_features=5, n_estimators=100;, score=0.636 total time=   0.1s\n",
      "[CV 1/3] END criterion=gini, max_features=5, n_estimators=150;, score=0.703 total time=   0.2s\n",
      "[CV 2/3] END criterion=gini, max_features=5, n_estimators=150;, score=0.682 total time=   0.2s\n",
      "[CV 3/3] END criterion=gini, max_features=5, n_estimators=150;, score=0.643 total time=   0.2s\n",
      "[CV 1/3] END criterion=gini, max_features=5, n_estimators=200;, score=0.677 total time=   0.2s\n",
      "[CV 2/3] END criterion=gini, max_features=5, n_estimators=200;, score=0.669 total time=   0.3s\n",
      "[CV 3/3] END criterion=gini, max_features=5, n_estimators=200;, score=0.643 total time=   0.3s\n",
      "[CV 1/3] END criterion=entropy, max_features=3, n_estimators=50;, score=0.690 total time=   0.0s\n",
      "[CV 2/3] END criterion=entropy, max_features=3, n_estimators=50;, score=0.688 total time=   0.0s\n",
      "[CV 3/3] END criterion=entropy, max_features=3, n_estimators=50;, score=0.669 total time=   0.0s\n",
      "[CV 1/3] END criterion=entropy, max_features=3, n_estimators=100;, score=0.684 total time=   0.1s\n",
      "[CV 2/3] END criterion=entropy, max_features=3, n_estimators=100;, score=0.662 total time=   0.1s\n",
      "[CV 3/3] END criterion=entropy, max_features=3, n_estimators=100;, score=0.649 total time=   0.1s\n",
      "[CV 1/3] END criterion=entropy, max_features=3, n_estimators=150;, score=0.697 total time=   0.1s\n",
      "[CV 2/3] END criterion=entropy, max_features=3, n_estimators=150;, score=0.682 total time=   0.2s\n",
      "[CV 3/3] END criterion=entropy, max_features=3, n_estimators=150;, score=0.649 total time=   0.2s\n",
      "[CV 1/3] END criterion=entropy, max_features=3, n_estimators=200;, score=0.684 total time=   0.2s\n",
      "[CV 2/3] END criterion=entropy, max_features=3, n_estimators=200;, score=0.649 total time=   0.2s\n",
      "[CV 3/3] END criterion=entropy, max_features=3, n_estimators=200;, score=0.649 total time=   0.2s\n",
      "[CV 1/3] END criterion=entropy, max_features=4, n_estimators=50;, score=0.684 total time=   0.0s\n",
      "[CV 2/3] END criterion=entropy, max_features=4, n_estimators=50;, score=0.695 total time=   0.0s\n",
      "[CV 3/3] END criterion=entropy, max_features=4, n_estimators=50;, score=0.662 total time=   0.0s\n",
      "[CV 1/3] END criterion=entropy, max_features=4, n_estimators=100;, score=0.703 total time=   0.0s\n",
      "[CV 2/3] END criterion=entropy, max_features=4, n_estimators=100;, score=0.675 total time=   0.1s\n",
      "[CV 3/3] END criterion=entropy, max_features=4, n_estimators=100;, score=0.643 total time=   0.0s\n",
      "[CV 1/3] END criterion=entropy, max_features=4, n_estimators=150;, score=0.690 total time=   0.1s\n",
      "[CV 2/3] END criterion=entropy, max_features=4, n_estimators=150;, score=0.669 total time=   0.1s\n",
      "[CV 3/3] END criterion=entropy, max_features=4, n_estimators=150;, score=0.669 total time=   0.1s\n",
      "[CV 1/3] END criterion=entropy, max_features=4, n_estimators=200;, score=0.690 total time=   0.2s\n",
      "[CV 2/3] END criterion=entropy, max_features=4, n_estimators=200;, score=0.669 total time=   0.2s\n",
      "[CV 3/3] END criterion=entropy, max_features=4, n_estimators=200;, score=0.649 total time=   0.2s\n",
      "[CV 1/3] END criterion=entropy, max_features=5, n_estimators=50;, score=0.671 total time=   0.0s\n",
      "[CV 2/3] END criterion=entropy, max_features=5, n_estimators=50;, score=0.682 total time=   0.0s\n",
      "[CV 3/3] END criterion=entropy, max_features=5, n_estimators=50;, score=0.649 total time=   0.0s\n",
      "[CV 1/3] END criterion=entropy, max_features=5, n_estimators=100;, score=0.684 total time=   0.1s\n",
      "[CV 2/3] END criterion=entropy, max_features=5, n_estimators=100;, score=0.662 total time=   0.0s\n",
      "[CV 3/3] END criterion=entropy, max_features=5, n_estimators=100;, score=0.630 total time=   0.0s\n",
      "[CV 1/3] END criterion=entropy, max_features=5, n_estimators=150;, score=0.684 total time=   0.1s\n",
      "[CV 2/3] END criterion=entropy, max_features=5, n_estimators=150;, score=0.695 total time=   0.1s\n",
      "[CV 3/3] END criterion=entropy, max_features=5, n_estimators=150;, score=0.643 total time=   0.1s\n",
      "[CV 1/3] END criterion=entropy, max_features=5, n_estimators=200;, score=0.677 total time=   0.2s\n",
      "[CV 2/3] END criterion=entropy, max_features=5, n_estimators=200;, score=0.669 total time=   0.2s\n",
      "[CV 3/3] END criterion=entropy, max_features=5, n_estimators=200;, score=0.630 total time=   0.2s\n"
     ]
    },
    {
     "data": {
      "text/html": [
       "<style>#sk-container-id-4 {color: black;background-color: white;}#sk-container-id-4 pre{padding: 0;}#sk-container-id-4 div.sk-toggleable {background-color: white;}#sk-container-id-4 label.sk-toggleable__label {cursor: pointer;display: block;width: 100%;margin-bottom: 0;padding: 0.3em;box-sizing: border-box;text-align: center;}#sk-container-id-4 label.sk-toggleable__label-arrow:before {content: \"▸\";float: left;margin-right: 0.25em;color: #696969;}#sk-container-id-4 label.sk-toggleable__label-arrow:hover:before {color: black;}#sk-container-id-4 div.sk-estimator:hover label.sk-toggleable__label-arrow:before {color: black;}#sk-container-id-4 div.sk-toggleable__content {max-height: 0;max-width: 0;overflow: hidden;text-align: left;background-color: #f0f8ff;}#sk-container-id-4 div.sk-toggleable__content pre {margin: 0.2em;color: black;border-radius: 0.25em;background-color: #f0f8ff;}#sk-container-id-4 input.sk-toggleable__control:checked~div.sk-toggleable__content {max-height: 200px;max-width: 100%;overflow: auto;}#sk-container-id-4 input.sk-toggleable__control:checked~label.sk-toggleable__label-arrow:before {content: \"▾\";}#sk-container-id-4 div.sk-estimator input.sk-toggleable__control:checked~label.sk-toggleable__label {background-color: #d4ebff;}#sk-container-id-4 div.sk-label input.sk-toggleable__control:checked~label.sk-toggleable__label {background-color: #d4ebff;}#sk-container-id-4 input.sk-hidden--visually {border: 0;clip: rect(1px 1px 1px 1px);clip: rect(1px, 1px, 1px, 1px);height: 1px;margin: -1px;overflow: hidden;padding: 0;position: absolute;width: 1px;}#sk-container-id-4 div.sk-estimator {font-family: monospace;background-color: #f0f8ff;border: 1px dotted black;border-radius: 0.25em;box-sizing: border-box;margin-bottom: 0.5em;}#sk-container-id-4 div.sk-estimator:hover {background-color: #d4ebff;}#sk-container-id-4 div.sk-parallel-item::after {content: \"\";width: 100%;border-bottom: 1px solid gray;flex-grow: 1;}#sk-container-id-4 div.sk-label:hover label.sk-toggleable__label {background-color: #d4ebff;}#sk-container-id-4 div.sk-serial::before {content: \"\";position: absolute;border-left: 1px solid gray;box-sizing: border-box;top: 0;bottom: 0;left: 50%;z-index: 0;}#sk-container-id-4 div.sk-serial {display: flex;flex-direction: column;align-items: center;background-color: white;padding-right: 0.2em;padding-left: 0.2em;position: relative;}#sk-container-id-4 div.sk-item {position: relative;z-index: 1;}#sk-container-id-4 div.sk-parallel {display: flex;align-items: stretch;justify-content: center;background-color: white;position: relative;}#sk-container-id-4 div.sk-item::before, #sk-container-id-4 div.sk-parallel-item::before {content: \"\";position: absolute;border-left: 1px solid gray;box-sizing: border-box;top: 0;bottom: 0;left: 50%;z-index: -1;}#sk-container-id-4 div.sk-parallel-item {display: flex;flex-direction: column;z-index: 1;position: relative;background-color: white;}#sk-container-id-4 div.sk-parallel-item:first-child::after {align-self: flex-end;width: 50%;}#sk-container-id-4 div.sk-parallel-item:last-child::after {align-self: flex-start;width: 50%;}#sk-container-id-4 div.sk-parallel-item:only-child::after {width: 0;}#sk-container-id-4 div.sk-dashed-wrapped {border: 1px dashed gray;margin: 0 0.4em 0.5em 0.4em;box-sizing: border-box;padding-bottom: 0.4em;background-color: white;}#sk-container-id-4 div.sk-label label {font-family: monospace;font-weight: bold;display: inline-block;line-height: 1.2em;}#sk-container-id-4 div.sk-label-container {text-align: center;}#sk-container-id-4 div.sk-container {/* jupyter's `normalize.less` sets `[hidden] { display: none; }` but bootstrap.min.css set `[hidden] { display: none !important; }` so we also need the `!important` here to be able to override the default hidden behavior on the sphinx rendered scikit-learn.org. See: https://github.com/scikit-learn/scikit-learn/issues/21755 */display: inline-block !important;position: relative;}#sk-container-id-4 div.sk-text-repr-fallback {display: none;}</style><div id=\"sk-container-id-4\" class=\"sk-top-container\"><div class=\"sk-text-repr-fallback\"><pre>GridSearchCV(cv=3, estimator=RandomForestClassifier(),\n",
       "             param_grid={&#x27;criterion&#x27;: [&#x27;gini&#x27;, &#x27;entropy&#x27;],\n",
       "                         &#x27;max_features&#x27;: [3, 4, 5],\n",
       "                         &#x27;n_estimators&#x27;: [50, 100, 150, 200]},\n",
       "             scoring=&#x27;accuracy&#x27;, verbose=3)</pre><b>In a Jupyter environment, please rerun this cell to show the HTML representation or trust the notebook. <br />On GitHub, the HTML representation is unable to render, please try loading this page with nbviewer.org.</b></div><div class=\"sk-container\" hidden><div class=\"sk-item sk-dashed-wrapped\"><div class=\"sk-label-container\"><div class=\"sk-label sk-toggleable\"><input class=\"sk-toggleable__control sk-hidden--visually\" id=\"sk-estimator-id-6\" type=\"checkbox\" ><label for=\"sk-estimator-id-6\" class=\"sk-toggleable__label sk-toggleable__label-arrow\">GridSearchCV</label><div class=\"sk-toggleable__content\"><pre>GridSearchCV(cv=3, estimator=RandomForestClassifier(),\n",
       "             param_grid={&#x27;criterion&#x27;: [&#x27;gini&#x27;, &#x27;entropy&#x27;],\n",
       "                         &#x27;max_features&#x27;: [3, 4, 5],\n",
       "                         &#x27;n_estimators&#x27;: [50, 100, 150, 200]},\n",
       "             scoring=&#x27;accuracy&#x27;, verbose=3)</pre></div></div></div><div class=\"sk-parallel\"><div class=\"sk-parallel-item\"><div class=\"sk-item\"><div class=\"sk-label-container\"><div class=\"sk-label sk-toggleable\"><input class=\"sk-toggleable__control sk-hidden--visually\" id=\"sk-estimator-id-7\" type=\"checkbox\" ><label for=\"sk-estimator-id-7\" class=\"sk-toggleable__label sk-toggleable__label-arrow\">estimator: RandomForestClassifier</label><div class=\"sk-toggleable__content\"><pre>RandomForestClassifier()</pre></div></div></div><div class=\"sk-serial\"><div class=\"sk-item\"><div class=\"sk-estimator sk-toggleable\"><input class=\"sk-toggleable__control sk-hidden--visually\" id=\"sk-estimator-id-8\" type=\"checkbox\" ><label for=\"sk-estimator-id-8\" class=\"sk-toggleable__label sk-toggleable__label-arrow\">RandomForestClassifier</label><div class=\"sk-toggleable__content\"><pre>RandomForestClassifier()</pre></div></div></div></div></div></div></div></div></div></div>"
      ],
      "text/plain": [
       "GridSearchCV(cv=3, estimator=RandomForestClassifier(),\n",
       "             param_grid={'criterion': ['gini', 'entropy'],\n",
       "                         'max_features': [3, 4, 5],\n",
       "                         'n_estimators': [50, 100, 150, 200]},\n",
       "             scoring='accuracy', verbose=3)"
      ]
     },
     "execution_count": 91,
     "metadata": {},
     "output_type": "execute_result"
    }
   ],
   "source": [
    "gscv.fit(x_train,y_train)"
   ]
  },
  {
   "cell_type": "code",
   "execution_count": 96,
   "id": "f6dce517",
   "metadata": {},
   "outputs": [
    {
     "data": {
      "text/plain": [
       "0.6846529814271749"
      ]
     },
     "execution_count": 96,
     "metadata": {},
     "output_type": "execute_result"
    }
   ],
   "source": [
    "gscv.best_score_"
   ]
  },
  {
   "cell_type": "code",
   "execution_count": 97,
   "id": "e8aec55b",
   "metadata": {},
   "outputs": [
    {
     "data": {
      "text/plain": [
       "{'criterion': 'gini', 'max_features': 3, 'n_estimators': 150}"
      ]
     },
     "execution_count": 97,
     "metadata": {},
     "output_type": "execute_result"
    }
   ],
   "source": [
    "gscv.best_params_"
   ]
  },
  {
   "cell_type": "code",
   "execution_count": 99,
   "id": "02f69b21",
   "metadata": {},
   "outputs": [],
   "source": [
    "model_rf = RandomForestClassifier(**gscv.best_params_)"
   ]
  },
  {
   "cell_type": "code",
   "execution_count": 102,
   "id": "76d0477b",
   "metadata": {},
   "outputs": [
    {
     "data": {
      "text/html": [
       "<style>#sk-container-id-5 {color: black;background-color: white;}#sk-container-id-5 pre{padding: 0;}#sk-container-id-5 div.sk-toggleable {background-color: white;}#sk-container-id-5 label.sk-toggleable__label {cursor: pointer;display: block;width: 100%;margin-bottom: 0;padding: 0.3em;box-sizing: border-box;text-align: center;}#sk-container-id-5 label.sk-toggleable__label-arrow:before {content: \"▸\";float: left;margin-right: 0.25em;color: #696969;}#sk-container-id-5 label.sk-toggleable__label-arrow:hover:before {color: black;}#sk-container-id-5 div.sk-estimator:hover label.sk-toggleable__label-arrow:before {color: black;}#sk-container-id-5 div.sk-toggleable__content {max-height: 0;max-width: 0;overflow: hidden;text-align: left;background-color: #f0f8ff;}#sk-container-id-5 div.sk-toggleable__content pre {margin: 0.2em;color: black;border-radius: 0.25em;background-color: #f0f8ff;}#sk-container-id-5 input.sk-toggleable__control:checked~div.sk-toggleable__content {max-height: 200px;max-width: 100%;overflow: auto;}#sk-container-id-5 input.sk-toggleable__control:checked~label.sk-toggleable__label-arrow:before {content: \"▾\";}#sk-container-id-5 div.sk-estimator input.sk-toggleable__control:checked~label.sk-toggleable__label {background-color: #d4ebff;}#sk-container-id-5 div.sk-label input.sk-toggleable__control:checked~label.sk-toggleable__label {background-color: #d4ebff;}#sk-container-id-5 input.sk-hidden--visually {border: 0;clip: rect(1px 1px 1px 1px);clip: rect(1px, 1px, 1px, 1px);height: 1px;margin: -1px;overflow: hidden;padding: 0;position: absolute;width: 1px;}#sk-container-id-5 div.sk-estimator {font-family: monospace;background-color: #f0f8ff;border: 1px dotted black;border-radius: 0.25em;box-sizing: border-box;margin-bottom: 0.5em;}#sk-container-id-5 div.sk-estimator:hover {background-color: #d4ebff;}#sk-container-id-5 div.sk-parallel-item::after {content: \"\";width: 100%;border-bottom: 1px solid gray;flex-grow: 1;}#sk-container-id-5 div.sk-label:hover label.sk-toggleable__label {background-color: #d4ebff;}#sk-container-id-5 div.sk-serial::before {content: \"\";position: absolute;border-left: 1px solid gray;box-sizing: border-box;top: 0;bottom: 0;left: 50%;z-index: 0;}#sk-container-id-5 div.sk-serial {display: flex;flex-direction: column;align-items: center;background-color: white;padding-right: 0.2em;padding-left: 0.2em;position: relative;}#sk-container-id-5 div.sk-item {position: relative;z-index: 1;}#sk-container-id-5 div.sk-parallel {display: flex;align-items: stretch;justify-content: center;background-color: white;position: relative;}#sk-container-id-5 div.sk-item::before, #sk-container-id-5 div.sk-parallel-item::before {content: \"\";position: absolute;border-left: 1px solid gray;box-sizing: border-box;top: 0;bottom: 0;left: 50%;z-index: -1;}#sk-container-id-5 div.sk-parallel-item {display: flex;flex-direction: column;z-index: 1;position: relative;background-color: white;}#sk-container-id-5 div.sk-parallel-item:first-child::after {align-self: flex-end;width: 50%;}#sk-container-id-5 div.sk-parallel-item:last-child::after {align-self: flex-start;width: 50%;}#sk-container-id-5 div.sk-parallel-item:only-child::after {width: 0;}#sk-container-id-5 div.sk-dashed-wrapped {border: 1px dashed gray;margin: 0 0.4em 0.5em 0.4em;box-sizing: border-box;padding-bottom: 0.4em;background-color: white;}#sk-container-id-5 div.sk-label label {font-family: monospace;font-weight: bold;display: inline-block;line-height: 1.2em;}#sk-container-id-5 div.sk-label-container {text-align: center;}#sk-container-id-5 div.sk-container {/* jupyter's `normalize.less` sets `[hidden] { display: none; }` but bootstrap.min.css set `[hidden] { display: none !important; }` so we also need the `!important` here to be able to override the default hidden behavior on the sphinx rendered scikit-learn.org. See: https://github.com/scikit-learn/scikit-learn/issues/21755 */display: inline-block !important;position: relative;}#sk-container-id-5 div.sk-text-repr-fallback {display: none;}</style><div id=\"sk-container-id-5\" class=\"sk-top-container\"><div class=\"sk-text-repr-fallback\"><pre>RandomForestClassifier(max_features=3, n_estimators=150)</pre><b>In a Jupyter environment, please rerun this cell to show the HTML representation or trust the notebook. <br />On GitHub, the HTML representation is unable to render, please try loading this page with nbviewer.org.</b></div><div class=\"sk-container\" hidden><div class=\"sk-item\"><div class=\"sk-estimator sk-toggleable\"><input class=\"sk-toggleable__control sk-hidden--visually\" id=\"sk-estimator-id-9\" type=\"checkbox\" checked><label for=\"sk-estimator-id-9\" class=\"sk-toggleable__label sk-toggleable__label-arrow\">RandomForestClassifier</label><div class=\"sk-toggleable__content\"><pre>RandomForestClassifier(max_features=3, n_estimators=150)</pre></div></div></div></div></div>"
      ],
      "text/plain": [
       "RandomForestClassifier(max_features=3, n_estimators=150)"
      ]
     },
     "execution_count": 102,
     "metadata": {},
     "output_type": "execute_result"
    }
   ],
   "source": [
    "model_rf.fit(x_train,y_train)"
   ]
  },
  {
   "cell_type": "code",
   "execution_count": 103,
   "id": "78f76cee",
   "metadata": {},
   "outputs": [],
   "source": [
    "y_pred_rf = model_rf.predict(x_test)"
   ]
  },
  {
   "cell_type": "code",
   "execution_count": 104,
   "id": "0f93420a",
   "metadata": {},
   "outputs": [
    {
     "name": "stdout",
     "output_type": "stream",
     "text": [
      "confusion matrix:\n",
      " [[11 22]\n",
      " [ 7 76]]\n",
      "accuracy: 0.75\n",
      "recall: 0.9156626506024096\n",
      "f1 score: 0.839779005524862\n",
      "Precision score: 0.7755102040816326\n"
     ]
    }
   ],
   "source": [
    "validation(y_test,y_pred_rf)"
   ]
  },
  {
   "cell_type": "code",
   "execution_count": 105,
   "id": "3e2abb61",
   "metadata": {},
   "outputs": [
    {
     "data": {
      "text/plain": [
       "1.0"
      ]
     },
     "execution_count": 105,
     "metadata": {},
     "output_type": "execute_result"
    }
   ],
   "source": [
    "model_rf.score(x_train,y_train)"
   ]
  },
  {
   "cell_type": "markdown",
   "id": "8ac00bd3",
   "metadata": {},
   "source": [
    "## Boosting(ADA Boost)"
   ]
  },
  {
   "cell_type": "code",
   "execution_count": 106,
   "id": "8b7dc85a",
   "metadata": {},
   "outputs": [],
   "source": [
    "from sklearn.ensemble import AdaBoostClassifier"
   ]
  },
  {
   "cell_type": "code",
   "execution_count": 107,
   "id": "45ffe6f2",
   "metadata": {},
   "outputs": [],
   "source": [
    "model_ada = AdaBoostClassifier()"
   ]
  },
  {
   "cell_type": "code",
   "execution_count": 108,
   "id": "8fe78905",
   "metadata": {},
   "outputs": [],
   "source": [
    "param = {'n_estimators':[50,100,150,200],\n",
    "        'learning_rate':[0.001,0.01,0,1,1]}"
   ]
  },
  {
   "cell_type": "code",
   "execution_count": 109,
   "id": "2846f930",
   "metadata": {},
   "outputs": [],
   "source": [
    "gscv = GridSearchCV(estimator=model_ada,\n",
    "                   param_grid=param,\n",
    "                   scoring='f1',\n",
    "                   verbose=3,\n",
    "                   cv=3)"
   ]
  },
  {
   "cell_type": "code",
   "execution_count": 110,
   "id": "49df7420",
   "metadata": {},
   "outputs": [
    {
     "name": "stdout",
     "output_type": "stream",
     "text": [
      "Fitting 3 folds for each of 20 candidates, totalling 60 fits\n",
      "[CV 1/3] END learning_rate=0.001, n_estimators=50;, score=0.835 total time=   0.0s\n",
      "[CV 2/3] END learning_rate=0.001, n_estimators=50;, score=0.833 total time=   0.0s\n",
      "[CV 3/3] END learning_rate=0.001, n_estimators=50;, score=0.833 total time=   0.0s\n",
      "[CV 1/3] END learning_rate=0.001, n_estimators=100;, score=0.835 total time=   0.1s\n",
      "[CV 2/3] END learning_rate=0.001, n_estimators=100;, score=0.833 total time=   0.1s\n",
      "[CV 3/3] END learning_rate=0.001, n_estimators=100;, score=0.833 total time=   0.1s\n",
      "[CV 1/3] END learning_rate=0.001, n_estimators=150;, score=0.835 total time=   0.1s\n",
      "[CV 2/3] END learning_rate=0.001, n_estimators=150;, score=0.833 total time=   0.2s\n",
      "[CV 3/3] END learning_rate=0.001, n_estimators=150;, score=0.833 total time=   0.2s\n",
      "[CV 1/3] END learning_rate=0.001, n_estimators=200;, score=0.835 total time=   0.2s\n",
      "[CV 2/3] END learning_rate=0.001, n_estimators=200;, score=0.833 total time=   0.2s\n",
      "[CV 3/3] END learning_rate=0.001, n_estimators=200;, score=0.833 total time=   0.2s\n",
      "[CV 1/3] END learning_rate=0.01, n_estimators=50;, score=0.835 total time=   0.0s\n",
      "[CV 2/3] END learning_rate=0.01, n_estimators=50;, score=0.833 total time=   0.0s\n",
      "[CV 3/3] END learning_rate=0.01, n_estimators=50;, score=0.833 total time=   0.0s\n",
      "[CV 1/3] END learning_rate=0.01, n_estimators=100;, score=0.835 total time=   0.0s\n",
      "[CV 2/3] END learning_rate=0.01, n_estimators=100;, score=0.833 total time=   0.1s\n",
      "[CV 3/3] END learning_rate=0.01, n_estimators=100;, score=0.833 total time=   0.0s\n",
      "[CV 1/3] END learning_rate=0.01, n_estimators=150;, score=0.835 total time=   0.1s\n",
      "[CV 2/3] END learning_rate=0.01, n_estimators=150;, score=0.833 total time=   0.1s\n",
      "[CV 3/3] END learning_rate=0.01, n_estimators=150;, score=0.833 total time=   0.2s\n",
      "[CV 1/3] END learning_rate=0.01, n_estimators=200;, score=0.817 total time=   0.2s\n",
      "[CV 2/3] END learning_rate=0.01, n_estimators=200;, score=0.833 total time=   0.2s\n",
      "[CV 3/3] END learning_rate=0.01, n_estimators=200;, score=0.832 total time=   0.2s\n",
      "[CV 1/3] END ....learning_rate=0, n_estimators=50;, score=nan total time=   0.0s\n",
      "[CV 2/3] END ....learning_rate=0, n_estimators=50;, score=nan total time=   0.0s\n",
      "[CV 3/3] END ....learning_rate=0, n_estimators=50;, score=nan total time=   0.0s\n",
      "[CV 1/3] END ...learning_rate=0, n_estimators=100;, score=nan total time=   0.0s\n",
      "[CV 2/3] END ...learning_rate=0, n_estimators=100;, score=nan total time=   0.0s\n",
      "[CV 3/3] END ...learning_rate=0, n_estimators=100;, score=nan total time=   0.0s\n",
      "[CV 1/3] END ...learning_rate=0, n_estimators=150;, score=nan total time=   0.0s\n",
      "[CV 2/3] END ...learning_rate=0, n_estimators=150;, score=nan total time=   0.0s\n",
      "[CV 3/3] END ...learning_rate=0, n_estimators=150;, score=nan total time=   0.0s\n",
      "[CV 1/3] END ...learning_rate=0, n_estimators=200;, score=nan total time=   0.0s\n",
      "[CV 2/3] END ...learning_rate=0, n_estimators=200;, score=nan total time=   0.0s\n",
      "[CV 3/3] END ...learning_rate=0, n_estimators=200;, score=nan total time=   0.0s\n",
      "[CV 1/3] END ..learning_rate=1, n_estimators=50;, score=0.777 total time=   0.0s\n",
      "[CV 2/3] END ..learning_rate=1, n_estimators=50;, score=0.807 total time=   0.0s\n",
      "[CV 3/3] END ..learning_rate=1, n_estimators=50;, score=0.788 total time=   0.0s\n",
      "[CV 1/3] END .learning_rate=1, n_estimators=100;, score=0.777 total time=   0.1s\n",
      "[CV 2/3] END .learning_rate=1, n_estimators=100;, score=0.814 total time=   0.1s\n",
      "[CV 3/3] END .learning_rate=1, n_estimators=100;, score=0.800 total time=   0.1s\n",
      "[CV 1/3] END .learning_rate=1, n_estimators=150;, score=0.795 total time=   0.1s\n",
      "[CV 2/3] END .learning_rate=1, n_estimators=150;, score=0.786 total time=   0.1s\n",
      "[CV 3/3] END .learning_rate=1, n_estimators=150;, score=0.800 total time=   0.2s\n",
      "[CV 1/3] END .learning_rate=1, n_estimators=200;, score=0.790 total time=   0.2s\n",
      "[CV 2/3] END .learning_rate=1, n_estimators=200;, score=0.791 total time=   0.2s\n",
      "[CV 3/3] END .learning_rate=1, n_estimators=200;, score=0.800 total time=   0.2s\n",
      "[CV 1/3] END ..learning_rate=1, n_estimators=50;, score=0.777 total time=   0.0s\n",
      "[CV 2/3] END ..learning_rate=1, n_estimators=50;, score=0.807 total time=   0.0s\n",
      "[CV 3/3] END ..learning_rate=1, n_estimators=50;, score=0.788 total time=   0.0s\n",
      "[CV 1/3] END .learning_rate=1, n_estimators=100;, score=0.777 total time=   0.1s\n",
      "[CV 2/3] END .learning_rate=1, n_estimators=100;, score=0.814 total time=   0.1s\n",
      "[CV 3/3] END .learning_rate=1, n_estimators=100;, score=0.800 total time=   0.1s\n",
      "[CV 1/3] END .learning_rate=1, n_estimators=150;, score=0.795 total time=   0.1s\n",
      "[CV 2/3] END .learning_rate=1, n_estimators=150;, score=0.786 total time=   0.1s\n",
      "[CV 3/3] END .learning_rate=1, n_estimators=150;, score=0.800 total time=   0.1s\n",
      "[CV 1/3] END .learning_rate=1, n_estimators=200;, score=0.790 total time=   0.2s\n",
      "[CV 2/3] END .learning_rate=1, n_estimators=200;, score=0.791 total time=   0.2s\n",
      "[CV 3/3] END .learning_rate=1, n_estimators=200;, score=0.800 total time=   0.2s\n"
     ]
    },
    {
     "data": {
      "text/html": [
       "<style>#sk-container-id-6 {color: black;background-color: white;}#sk-container-id-6 pre{padding: 0;}#sk-container-id-6 div.sk-toggleable {background-color: white;}#sk-container-id-6 label.sk-toggleable__label {cursor: pointer;display: block;width: 100%;margin-bottom: 0;padding: 0.3em;box-sizing: border-box;text-align: center;}#sk-container-id-6 label.sk-toggleable__label-arrow:before {content: \"▸\";float: left;margin-right: 0.25em;color: #696969;}#sk-container-id-6 label.sk-toggleable__label-arrow:hover:before {color: black;}#sk-container-id-6 div.sk-estimator:hover label.sk-toggleable__label-arrow:before {color: black;}#sk-container-id-6 div.sk-toggleable__content {max-height: 0;max-width: 0;overflow: hidden;text-align: left;background-color: #f0f8ff;}#sk-container-id-6 div.sk-toggleable__content pre {margin: 0.2em;color: black;border-radius: 0.25em;background-color: #f0f8ff;}#sk-container-id-6 input.sk-toggleable__control:checked~div.sk-toggleable__content {max-height: 200px;max-width: 100%;overflow: auto;}#sk-container-id-6 input.sk-toggleable__control:checked~label.sk-toggleable__label-arrow:before {content: \"▾\";}#sk-container-id-6 div.sk-estimator input.sk-toggleable__control:checked~label.sk-toggleable__label {background-color: #d4ebff;}#sk-container-id-6 div.sk-label input.sk-toggleable__control:checked~label.sk-toggleable__label {background-color: #d4ebff;}#sk-container-id-6 input.sk-hidden--visually {border: 0;clip: rect(1px 1px 1px 1px);clip: rect(1px, 1px, 1px, 1px);height: 1px;margin: -1px;overflow: hidden;padding: 0;position: absolute;width: 1px;}#sk-container-id-6 div.sk-estimator {font-family: monospace;background-color: #f0f8ff;border: 1px dotted black;border-radius: 0.25em;box-sizing: border-box;margin-bottom: 0.5em;}#sk-container-id-6 div.sk-estimator:hover {background-color: #d4ebff;}#sk-container-id-6 div.sk-parallel-item::after {content: \"\";width: 100%;border-bottom: 1px solid gray;flex-grow: 1;}#sk-container-id-6 div.sk-label:hover label.sk-toggleable__label {background-color: #d4ebff;}#sk-container-id-6 div.sk-serial::before {content: \"\";position: absolute;border-left: 1px solid gray;box-sizing: border-box;top: 0;bottom: 0;left: 50%;z-index: 0;}#sk-container-id-6 div.sk-serial {display: flex;flex-direction: column;align-items: center;background-color: white;padding-right: 0.2em;padding-left: 0.2em;position: relative;}#sk-container-id-6 div.sk-item {position: relative;z-index: 1;}#sk-container-id-6 div.sk-parallel {display: flex;align-items: stretch;justify-content: center;background-color: white;position: relative;}#sk-container-id-6 div.sk-item::before, #sk-container-id-6 div.sk-parallel-item::before {content: \"\";position: absolute;border-left: 1px solid gray;box-sizing: border-box;top: 0;bottom: 0;left: 50%;z-index: -1;}#sk-container-id-6 div.sk-parallel-item {display: flex;flex-direction: column;z-index: 1;position: relative;background-color: white;}#sk-container-id-6 div.sk-parallel-item:first-child::after {align-self: flex-end;width: 50%;}#sk-container-id-6 div.sk-parallel-item:last-child::after {align-self: flex-start;width: 50%;}#sk-container-id-6 div.sk-parallel-item:only-child::after {width: 0;}#sk-container-id-6 div.sk-dashed-wrapped {border: 1px dashed gray;margin: 0 0.4em 0.5em 0.4em;box-sizing: border-box;padding-bottom: 0.4em;background-color: white;}#sk-container-id-6 div.sk-label label {font-family: monospace;font-weight: bold;display: inline-block;line-height: 1.2em;}#sk-container-id-6 div.sk-label-container {text-align: center;}#sk-container-id-6 div.sk-container {/* jupyter's `normalize.less` sets `[hidden] { display: none; }` but bootstrap.min.css set `[hidden] { display: none !important; }` so we also need the `!important` here to be able to override the default hidden behavior on the sphinx rendered scikit-learn.org. See: https://github.com/scikit-learn/scikit-learn/issues/21755 */display: inline-block !important;position: relative;}#sk-container-id-6 div.sk-text-repr-fallback {display: none;}</style><div id=\"sk-container-id-6\" class=\"sk-top-container\"><div class=\"sk-text-repr-fallback\"><pre>GridSearchCV(cv=3, estimator=AdaBoostClassifier(),\n",
       "             param_grid={&#x27;learning_rate&#x27;: [0.001, 0.01, 0, 1, 1],\n",
       "                         &#x27;n_estimators&#x27;: [50, 100, 150, 200]},\n",
       "             scoring=&#x27;f1&#x27;, verbose=3)</pre><b>In a Jupyter environment, please rerun this cell to show the HTML representation or trust the notebook. <br />On GitHub, the HTML representation is unable to render, please try loading this page with nbviewer.org.</b></div><div class=\"sk-container\" hidden><div class=\"sk-item sk-dashed-wrapped\"><div class=\"sk-label-container\"><div class=\"sk-label sk-toggleable\"><input class=\"sk-toggleable__control sk-hidden--visually\" id=\"sk-estimator-id-10\" type=\"checkbox\" ><label for=\"sk-estimator-id-10\" class=\"sk-toggleable__label sk-toggleable__label-arrow\">GridSearchCV</label><div class=\"sk-toggleable__content\"><pre>GridSearchCV(cv=3, estimator=AdaBoostClassifier(),\n",
       "             param_grid={&#x27;learning_rate&#x27;: [0.001, 0.01, 0, 1, 1],\n",
       "                         &#x27;n_estimators&#x27;: [50, 100, 150, 200]},\n",
       "             scoring=&#x27;f1&#x27;, verbose=3)</pre></div></div></div><div class=\"sk-parallel\"><div class=\"sk-parallel-item\"><div class=\"sk-item\"><div class=\"sk-label-container\"><div class=\"sk-label sk-toggleable\"><input class=\"sk-toggleable__control sk-hidden--visually\" id=\"sk-estimator-id-11\" type=\"checkbox\" ><label for=\"sk-estimator-id-11\" class=\"sk-toggleable__label sk-toggleable__label-arrow\">estimator: AdaBoostClassifier</label><div class=\"sk-toggleable__content\"><pre>AdaBoostClassifier()</pre></div></div></div><div class=\"sk-serial\"><div class=\"sk-item\"><div class=\"sk-estimator sk-toggleable\"><input class=\"sk-toggleable__control sk-hidden--visually\" id=\"sk-estimator-id-12\" type=\"checkbox\" ><label for=\"sk-estimator-id-12\" class=\"sk-toggleable__label sk-toggleable__label-arrow\">AdaBoostClassifier</label><div class=\"sk-toggleable__content\"><pre>AdaBoostClassifier()</pre></div></div></div></div></div></div></div></div></div></div>"
      ],
      "text/plain": [
       "GridSearchCV(cv=3, estimator=AdaBoostClassifier(),\n",
       "             param_grid={'learning_rate': [0.001, 0.01, 0, 1, 1],\n",
       "                         'n_estimators': [50, 100, 150, 200]},\n",
       "             scoring='f1', verbose=3)"
      ]
     },
     "execution_count": 110,
     "metadata": {},
     "output_type": "execute_result"
    }
   ],
   "source": [
    "gscv.fit(x_train,y_train)"
   ]
  },
  {
   "cell_type": "code",
   "execution_count": 111,
   "id": "72f2071b",
   "metadata": {},
   "outputs": [
    {
     "data": {
      "text/plain": [
       "0.8337510442773599"
      ]
     },
     "execution_count": 111,
     "metadata": {},
     "output_type": "execute_result"
    }
   ],
   "source": [
    "gscv.best_score_"
   ]
  },
  {
   "cell_type": "code",
   "execution_count": 112,
   "id": "4e759650",
   "metadata": {},
   "outputs": [
    {
     "data": {
      "text/plain": [
       "{'learning_rate': 0.001, 'n_estimators': 50}"
      ]
     },
     "execution_count": 112,
     "metadata": {},
     "output_type": "execute_result"
    }
   ],
   "source": [
    "gscv.best_params_"
   ]
  },
  {
   "cell_type": "code",
   "execution_count": 113,
   "id": "6fcefea8",
   "metadata": {},
   "outputs": [
    {
     "data": {
      "text/plain": [
       "['accuracy',\n",
       " 'adjusted_mutual_info_score',\n",
       " 'adjusted_rand_score',\n",
       " 'average_precision',\n",
       " 'balanced_accuracy',\n",
       " 'completeness_score',\n",
       " 'explained_variance',\n",
       " 'f1',\n",
       " 'f1_macro',\n",
       " 'f1_micro',\n",
       " 'f1_samples',\n",
       " 'f1_weighted',\n",
       " 'fowlkes_mallows_score',\n",
       " 'homogeneity_score',\n",
       " 'jaccard',\n",
       " 'jaccard_macro',\n",
       " 'jaccard_micro',\n",
       " 'jaccard_samples',\n",
       " 'jaccard_weighted',\n",
       " 'matthews_corrcoef',\n",
       " 'max_error',\n",
       " 'mutual_info_score',\n",
       " 'neg_brier_score',\n",
       " 'neg_log_loss',\n",
       " 'neg_mean_absolute_error',\n",
       " 'neg_mean_absolute_percentage_error',\n",
       " 'neg_mean_gamma_deviance',\n",
       " 'neg_mean_poisson_deviance',\n",
       " 'neg_mean_squared_error',\n",
       " 'neg_mean_squared_log_error',\n",
       " 'neg_median_absolute_error',\n",
       " 'neg_root_mean_squared_error',\n",
       " 'normalized_mutual_info_score',\n",
       " 'precision',\n",
       " 'precision_macro',\n",
       " 'precision_micro',\n",
       " 'precision_samples',\n",
       " 'precision_weighted',\n",
       " 'r2',\n",
       " 'rand_score',\n",
       " 'recall',\n",
       " 'recall_macro',\n",
       " 'recall_micro',\n",
       " 'recall_samples',\n",
       " 'recall_weighted',\n",
       " 'roc_auc',\n",
       " 'roc_auc_ovo',\n",
       " 'roc_auc_ovo_weighted',\n",
       " 'roc_auc_ovr',\n",
       " 'roc_auc_ovr_weighted',\n",
       " 'top_k_accuracy',\n",
       " 'v_measure_score']"
      ]
     },
     "execution_count": 113,
     "metadata": {},
     "output_type": "execute_result"
    }
   ],
   "source": [
    "import sklearn\n",
    "sorted((sklearn.metrics.SCORERS.keys()))"
   ]
  },
  {
   "cell_type": "code",
   "execution_count": 115,
   "id": "94ca89ee",
   "metadata": {},
   "outputs": [],
   "source": [
    "model_ada = AdaBoostClassifier(**gscv.best_params_)"
   ]
  },
  {
   "cell_type": "code",
   "execution_count": 116,
   "id": "292094ff",
   "metadata": {},
   "outputs": [
    {
     "data": {
      "text/html": [
       "<style>#sk-container-id-7 {color: black;background-color: white;}#sk-container-id-7 pre{padding: 0;}#sk-container-id-7 div.sk-toggleable {background-color: white;}#sk-container-id-7 label.sk-toggleable__label {cursor: pointer;display: block;width: 100%;margin-bottom: 0;padding: 0.3em;box-sizing: border-box;text-align: center;}#sk-container-id-7 label.sk-toggleable__label-arrow:before {content: \"▸\";float: left;margin-right: 0.25em;color: #696969;}#sk-container-id-7 label.sk-toggleable__label-arrow:hover:before {color: black;}#sk-container-id-7 div.sk-estimator:hover label.sk-toggleable__label-arrow:before {color: black;}#sk-container-id-7 div.sk-toggleable__content {max-height: 0;max-width: 0;overflow: hidden;text-align: left;background-color: #f0f8ff;}#sk-container-id-7 div.sk-toggleable__content pre {margin: 0.2em;color: black;border-radius: 0.25em;background-color: #f0f8ff;}#sk-container-id-7 input.sk-toggleable__control:checked~div.sk-toggleable__content {max-height: 200px;max-width: 100%;overflow: auto;}#sk-container-id-7 input.sk-toggleable__control:checked~label.sk-toggleable__label-arrow:before {content: \"▾\";}#sk-container-id-7 div.sk-estimator input.sk-toggleable__control:checked~label.sk-toggleable__label {background-color: #d4ebff;}#sk-container-id-7 div.sk-label input.sk-toggleable__control:checked~label.sk-toggleable__label {background-color: #d4ebff;}#sk-container-id-7 input.sk-hidden--visually {border: 0;clip: rect(1px 1px 1px 1px);clip: rect(1px, 1px, 1px, 1px);height: 1px;margin: -1px;overflow: hidden;padding: 0;position: absolute;width: 1px;}#sk-container-id-7 div.sk-estimator {font-family: monospace;background-color: #f0f8ff;border: 1px dotted black;border-radius: 0.25em;box-sizing: border-box;margin-bottom: 0.5em;}#sk-container-id-7 div.sk-estimator:hover {background-color: #d4ebff;}#sk-container-id-7 div.sk-parallel-item::after {content: \"\";width: 100%;border-bottom: 1px solid gray;flex-grow: 1;}#sk-container-id-7 div.sk-label:hover label.sk-toggleable__label {background-color: #d4ebff;}#sk-container-id-7 div.sk-serial::before {content: \"\";position: absolute;border-left: 1px solid gray;box-sizing: border-box;top: 0;bottom: 0;left: 50%;z-index: 0;}#sk-container-id-7 div.sk-serial {display: flex;flex-direction: column;align-items: center;background-color: white;padding-right: 0.2em;padding-left: 0.2em;position: relative;}#sk-container-id-7 div.sk-item {position: relative;z-index: 1;}#sk-container-id-7 div.sk-parallel {display: flex;align-items: stretch;justify-content: center;background-color: white;position: relative;}#sk-container-id-7 div.sk-item::before, #sk-container-id-7 div.sk-parallel-item::before {content: \"\";position: absolute;border-left: 1px solid gray;box-sizing: border-box;top: 0;bottom: 0;left: 50%;z-index: -1;}#sk-container-id-7 div.sk-parallel-item {display: flex;flex-direction: column;z-index: 1;position: relative;background-color: white;}#sk-container-id-7 div.sk-parallel-item:first-child::after {align-self: flex-end;width: 50%;}#sk-container-id-7 div.sk-parallel-item:last-child::after {align-self: flex-start;width: 50%;}#sk-container-id-7 div.sk-parallel-item:only-child::after {width: 0;}#sk-container-id-7 div.sk-dashed-wrapped {border: 1px dashed gray;margin: 0 0.4em 0.5em 0.4em;box-sizing: border-box;padding-bottom: 0.4em;background-color: white;}#sk-container-id-7 div.sk-label label {font-family: monospace;font-weight: bold;display: inline-block;line-height: 1.2em;}#sk-container-id-7 div.sk-label-container {text-align: center;}#sk-container-id-7 div.sk-container {/* jupyter's `normalize.less` sets `[hidden] { display: none; }` but bootstrap.min.css set `[hidden] { display: none !important; }` so we also need the `!important` here to be able to override the default hidden behavior on the sphinx rendered scikit-learn.org. See: https://github.com/scikit-learn/scikit-learn/issues/21755 */display: inline-block !important;position: relative;}#sk-container-id-7 div.sk-text-repr-fallback {display: none;}</style><div id=\"sk-container-id-7\" class=\"sk-top-container\"><div class=\"sk-text-repr-fallback\"><pre>AdaBoostClassifier(learning_rate=0.001)</pre><b>In a Jupyter environment, please rerun this cell to show the HTML representation or trust the notebook. <br />On GitHub, the HTML representation is unable to render, please try loading this page with nbviewer.org.</b></div><div class=\"sk-container\" hidden><div class=\"sk-item\"><div class=\"sk-estimator sk-toggleable\"><input class=\"sk-toggleable__control sk-hidden--visually\" id=\"sk-estimator-id-13\" type=\"checkbox\" checked><label for=\"sk-estimator-id-13\" class=\"sk-toggleable__label sk-toggleable__label-arrow\">AdaBoostClassifier</label><div class=\"sk-toggleable__content\"><pre>AdaBoostClassifier(learning_rate=0.001)</pre></div></div></div></div></div>"
      ],
      "text/plain": [
       "AdaBoostClassifier(learning_rate=0.001)"
      ]
     },
     "execution_count": 116,
     "metadata": {},
     "output_type": "execute_result"
    }
   ],
   "source": [
    "model_ada.fit(x_train,y_train)"
   ]
  },
  {
   "cell_type": "code",
   "execution_count": 117,
   "id": "6e076efa",
   "metadata": {},
   "outputs": [],
   "source": [
    "y_pred_ada = model_ada.predict(x_test)"
   ]
  },
  {
   "cell_type": "code",
   "execution_count": 118,
   "id": "11f18402",
   "metadata": {},
   "outputs": [
    {
     "name": "stdout",
     "output_type": "stream",
     "text": [
      "confusion matrix:\n",
      " [[ 0 33]\n",
      " [ 0 83]]\n",
      "accuracy: 0.7155172413793104\n",
      "recall: 1.0\n",
      "f1 score: 0.8341708542713567\n",
      "Precision score: 0.7155172413793104\n"
     ]
    }
   ],
   "source": [
    "validation(y_test,y_pred_ada)"
   ]
  },
  {
   "cell_type": "code",
   "execution_count": 121,
   "id": "ea37bfe8",
   "metadata": {},
   "outputs": [
    {
     "data": {
      "text/plain": [
       "0.714902807775378"
      ]
     },
     "execution_count": 121,
     "metadata": {},
     "output_type": "execute_result"
    }
   ],
   "source": [
    "model_ada.score(x_train,y_train)"
   ]
  },
  {
   "cell_type": "markdown",
   "id": "dc8960f8",
   "metadata": {},
   "source": [
    "## Gradient Boosting"
   ]
  },
  {
   "cell_type": "code",
   "execution_count": 122,
   "id": "13bef879",
   "metadata": {},
   "outputs": [],
   "source": [
    "from sklearn.ensemble import GradientBoostingClassifier"
   ]
  },
  {
   "cell_type": "code",
   "execution_count": 123,
   "id": "60b0e30e",
   "metadata": {},
   "outputs": [],
   "source": [
    "model_gb = GradientBoostingClassifier()"
   ]
  },
  {
   "cell_type": "code",
   "execution_count": 124,
   "id": "10396b3d",
   "metadata": {},
   "outputs": [],
   "source": [
    "param ={'n_estimators':[50,100,150,200],\n",
    "       'learning_rate':[0.01,0.1,1,10],\n",
    "       'max_features':[3,4,5]}"
   ]
  },
  {
   "cell_type": "code",
   "execution_count": 125,
   "id": "b85a564a",
   "metadata": {},
   "outputs": [],
   "source": [
    "gscv = GridSearchCV(estimator=model_gb,\n",
    "                   param_grid=param,\n",
    "                   verbose=3,\n",
    "                   cv=3,\n",
    "                   scoring='accuracy')"
   ]
  },
  {
   "cell_type": "code",
   "execution_count": 126,
   "id": "8791c2c7",
   "metadata": {},
   "outputs": [
    {
     "name": "stdout",
     "output_type": "stream",
     "text": [
      "Fitting 3 folds for each of 48 candidates, totalling 144 fits\n",
      "[CV 1/3] END learning_rate=0.01, max_features=3, n_estimators=50;, score=0.716 total time=   0.0s\n",
      "[CV 2/3] END learning_rate=0.01, max_features=3, n_estimators=50;, score=0.714 total time=   0.0s\n",
      "[CV 3/3] END learning_rate=0.01, max_features=3, n_estimators=50;, score=0.714 total time=   0.0s\n",
      "[CV 1/3] END learning_rate=0.01, max_features=3, n_estimators=100;, score=0.716 total time=   0.0s\n",
      "[CV 2/3] END learning_rate=0.01, max_features=3, n_estimators=100;, score=0.721 total time=   0.0s\n",
      "[CV 3/3] END learning_rate=0.01, max_features=3, n_estimators=100;, score=0.708 total time=   0.0s\n",
      "[CV 1/3] END learning_rate=0.01, max_features=3, n_estimators=150;, score=0.697 total time=   0.0s\n",
      "[CV 2/3] END learning_rate=0.01, max_features=3, n_estimators=150;, score=0.695 total time=   0.0s\n",
      "[CV 3/3] END learning_rate=0.01, max_features=3, n_estimators=150;, score=0.682 total time=   0.0s\n",
      "[CV 1/3] END learning_rate=0.01, max_features=3, n_estimators=200;, score=0.697 total time=   0.0s\n",
      "[CV 2/3] END learning_rate=0.01, max_features=3, n_estimators=200;, score=0.682 total time=   0.1s\n",
      "[CV 3/3] END learning_rate=0.01, max_features=3, n_estimators=200;, score=0.656 total time=   0.0s\n",
      "[CV 1/3] END learning_rate=0.01, max_features=4, n_estimators=50;, score=0.716 total time=   0.0s\n",
      "[CV 2/3] END learning_rate=0.01, max_features=4, n_estimators=50;, score=0.714 total time=   0.0s\n",
      "[CV 3/3] END learning_rate=0.01, max_features=4, n_estimators=50;, score=0.714 total time=   0.0s\n",
      "[CV 1/3] END learning_rate=0.01, max_features=4, n_estimators=100;, score=0.723 total time=   0.0s\n",
      "[CV 2/3] END learning_rate=0.01, max_features=4, n_estimators=100;, score=0.727 total time=   0.0s\n",
      "[CV 3/3] END learning_rate=0.01, max_features=4, n_estimators=100;, score=0.701 total time=   0.0s\n",
      "[CV 1/3] END learning_rate=0.01, max_features=4, n_estimators=150;, score=0.697 total time=   0.0s\n",
      "[CV 2/3] END learning_rate=0.01, max_features=4, n_estimators=150;, score=0.701 total time=   0.0s\n",
      "[CV 3/3] END learning_rate=0.01, max_features=4, n_estimators=150;, score=0.682 total time=   0.0s\n",
      "[CV 1/3] END learning_rate=0.01, max_features=4, n_estimators=200;, score=0.697 total time=   0.1s\n",
      "[CV 2/3] END learning_rate=0.01, max_features=4, n_estimators=200;, score=0.682 total time=   0.1s\n",
      "[CV 3/3] END learning_rate=0.01, max_features=4, n_estimators=200;, score=0.656 total time=   0.1s\n",
      "[CV 1/3] END learning_rate=0.01, max_features=5, n_estimators=50;, score=0.716 total time=   0.0s\n",
      "[CV 2/3] END learning_rate=0.01, max_features=5, n_estimators=50;, score=0.714 total time=   0.0s\n",
      "[CV 3/3] END learning_rate=0.01, max_features=5, n_estimators=50;, score=0.714 total time=   0.0s\n",
      "[CV 1/3] END learning_rate=0.01, max_features=5, n_estimators=100;, score=0.710 total time=   0.0s\n",
      "[CV 2/3] END learning_rate=0.01, max_features=5, n_estimators=100;, score=0.721 total time=   0.0s\n",
      "[CV 3/3] END learning_rate=0.01, max_features=5, n_estimators=100;, score=0.695 total time=   0.0s\n",
      "[CV 1/3] END learning_rate=0.01, max_features=5, n_estimators=150;, score=0.703 total time=   0.0s\n",
      "[CV 2/3] END learning_rate=0.01, max_features=5, n_estimators=150;, score=0.701 total time=   0.0s\n",
      "[CV 3/3] END learning_rate=0.01, max_features=5, n_estimators=150;, score=0.675 total time=   0.0s\n",
      "[CV 1/3] END learning_rate=0.01, max_features=5, n_estimators=200;, score=0.697 total time=   0.1s\n",
      "[CV 2/3] END learning_rate=0.01, max_features=5, n_estimators=200;, score=0.701 total time=   0.1s\n",
      "[CV 3/3] END learning_rate=0.01, max_features=5, n_estimators=200;, score=0.669 total time=   0.1s\n",
      "[CV 1/3] END learning_rate=0.1, max_features=3, n_estimators=50;, score=0.710 total time=   0.0s\n",
      "[CV 2/3] END learning_rate=0.1, max_features=3, n_estimators=50;, score=0.675 total time=   0.0s\n",
      "[CV 3/3] END learning_rate=0.1, max_features=3, n_estimators=50;, score=0.675 total time=   0.0s\n",
      "[CV 1/3] END learning_rate=0.1, max_features=3, n_estimators=100;, score=0.703 total time=   0.0s\n",
      "[CV 2/3] END learning_rate=0.1, max_features=3, n_estimators=100;, score=0.682 total time=   0.0s\n",
      "[CV 3/3] END learning_rate=0.1, max_features=3, n_estimators=100;, score=0.701 total time=   0.0s\n",
      "[CV 1/3] END learning_rate=0.1, max_features=3, n_estimators=150;, score=0.710 total time=   0.0s\n",
      "[CV 2/3] END learning_rate=0.1, max_features=3, n_estimators=150;, score=0.701 total time=   0.0s\n",
      "[CV 3/3] END learning_rate=0.1, max_features=3, n_estimators=150;, score=0.675 total time=   0.0s\n",
      "[CV 1/3] END learning_rate=0.1, max_features=3, n_estimators=200;, score=0.684 total time=   0.0s\n",
      "[CV 2/3] END learning_rate=0.1, max_features=3, n_estimators=200;, score=0.708 total time=   0.0s\n",
      "[CV 3/3] END learning_rate=0.1, max_features=3, n_estimators=200;, score=0.675 total time=   0.0s\n",
      "[CV 1/3] END learning_rate=0.1, max_features=4, n_estimators=50;, score=0.716 total time=   0.0s\n",
      "[CV 2/3] END learning_rate=0.1, max_features=4, n_estimators=50;, score=0.701 total time=   0.0s\n",
      "[CV 3/3] END learning_rate=0.1, max_features=4, n_estimators=50;, score=0.643 total time=   0.0s\n",
      "[CV 1/3] END learning_rate=0.1, max_features=4, n_estimators=100;, score=0.716 total time=   0.0s\n",
      "[CV 2/3] END learning_rate=0.1, max_features=4, n_estimators=100;, score=0.708 total time=   0.0s\n",
      "[CV 3/3] END learning_rate=0.1, max_features=4, n_estimators=100;, score=0.682 total time=   0.0s\n",
      "[CV 1/3] END learning_rate=0.1, max_features=4, n_estimators=150;, score=0.710 total time=   0.0s\n",
      "[CV 2/3] END learning_rate=0.1, max_features=4, n_estimators=150;, score=0.688 total time=   0.0s\n",
      "[CV 3/3] END learning_rate=0.1, max_features=4, n_estimators=150;, score=0.682 total time=   0.0s\n",
      "[CV 1/3] END learning_rate=0.1, max_features=4, n_estimators=200;, score=0.710 total time=   0.1s\n",
      "[CV 2/3] END learning_rate=0.1, max_features=4, n_estimators=200;, score=0.669 total time=   0.0s\n",
      "[CV 3/3] END learning_rate=0.1, max_features=4, n_estimators=200;, score=0.695 total time=   0.1s\n",
      "[CV 1/3] END learning_rate=0.1, max_features=5, n_estimators=50;, score=0.710 total time=   0.0s\n",
      "[CV 2/3] END learning_rate=0.1, max_features=5, n_estimators=50;, score=0.688 total time=   0.0s\n",
      "[CV 3/3] END learning_rate=0.1, max_features=5, n_estimators=50;, score=0.662 total time=   0.0s\n",
      "[CV 1/3] END learning_rate=0.1, max_features=5, n_estimators=100;, score=0.703 total time=   0.0s\n",
      "[CV 2/3] END learning_rate=0.1, max_features=5, n_estimators=100;, score=0.701 total time=   0.0s\n",
      "[CV 3/3] END learning_rate=0.1, max_features=5, n_estimators=100;, score=0.662 total time=   0.0s\n",
      "[CV 1/3] END learning_rate=0.1, max_features=5, n_estimators=150;, score=0.710 total time=   0.0s\n",
      "[CV 2/3] END learning_rate=0.1, max_features=5, n_estimators=150;, score=0.688 total time=   0.0s\n",
      "[CV 3/3] END learning_rate=0.1, max_features=5, n_estimators=150;, score=0.662 total time=   0.0s\n",
      "[CV 1/3] END learning_rate=0.1, max_features=5, n_estimators=200;, score=0.690 total time=   0.1s\n",
      "[CV 2/3] END learning_rate=0.1, max_features=5, n_estimators=200;, score=0.682 total time=   0.1s\n",
      "[CV 3/3] END learning_rate=0.1, max_features=5, n_estimators=200;, score=0.656 total time=   0.0s\n",
      "[CV 1/3] END learning_rate=1, max_features=3, n_estimators=50;, score=0.690 total time=   0.0s\n",
      "[CV 2/3] END learning_rate=1, max_features=3, n_estimators=50;, score=0.649 total time=   0.0s\n",
      "[CV 3/3] END learning_rate=1, max_features=3, n_estimators=50;, score=0.662 total time=   0.0s\n",
      "[CV 1/3] END learning_rate=1, max_features=3, n_estimators=100;, score=0.697 total time=   0.0s\n",
      "[CV 2/3] END learning_rate=1, max_features=3, n_estimators=100;, score=0.714 total time=   0.0s\n",
      "[CV 3/3] END learning_rate=1, max_features=3, n_estimators=100;, score=0.688 total time=   0.0s\n",
      "[CV 1/3] END learning_rate=1, max_features=3, n_estimators=150;, score=0.697 total time=   0.0s\n",
      "[CV 2/3] END learning_rate=1, max_features=3, n_estimators=150;, score=0.708 total time=   0.0s\n",
      "[CV 3/3] END learning_rate=1, max_features=3, n_estimators=150;, score=0.675 total time=   0.0s\n",
      "[CV 1/3] END learning_rate=1, max_features=3, n_estimators=200;, score=0.677 total time=   0.0s\n",
      "[CV 2/3] END learning_rate=1, max_features=3, n_estimators=200;, score=0.688 total time=   0.0s\n",
      "[CV 3/3] END learning_rate=1, max_features=3, n_estimators=200;, score=0.708 total time=   0.0s\n",
      "[CV 1/3] END learning_rate=1, max_features=4, n_estimators=50;, score=0.723 total time=   0.0s\n",
      "[CV 2/3] END learning_rate=1, max_features=4, n_estimators=50;, score=0.682 total time=   0.0s\n",
      "[CV 3/3] END learning_rate=1, max_features=4, n_estimators=50;, score=0.688 total time=   0.0s\n",
      "[CV 1/3] END learning_rate=1, max_features=4, n_estimators=100;, score=0.697 total time=   0.0s\n"
     ]
    },
    {
     "name": "stdout",
     "output_type": "stream",
     "text": [
      "[CV 2/3] END learning_rate=1, max_features=4, n_estimators=100;, score=0.695 total time=   0.0s\n",
      "[CV 3/3] END learning_rate=1, max_features=4, n_estimators=100;, score=0.701 total time=   0.0s\n",
      "[CV 1/3] END learning_rate=1, max_features=4, n_estimators=150;, score=0.697 total time=   0.0s\n",
      "[CV 2/3] END learning_rate=1, max_features=4, n_estimators=150;, score=0.721 total time=   0.0s\n",
      "[CV 3/3] END learning_rate=1, max_features=4, n_estimators=150;, score=0.701 total time=   0.0s\n",
      "[CV 1/3] END learning_rate=1, max_features=4, n_estimators=200;, score=0.684 total time=   0.0s\n",
      "[CV 2/3] END learning_rate=1, max_features=4, n_estimators=200;, score=0.688 total time=   0.1s\n",
      "[CV 3/3] END learning_rate=1, max_features=4, n_estimators=200;, score=0.688 total time=   0.0s\n",
      "[CV 1/3] END learning_rate=1, max_features=5, n_estimators=50;, score=0.697 total time=   0.0s\n",
      "[CV 2/3] END learning_rate=1, max_features=5, n_estimators=50;, score=0.682 total time=   0.0s\n",
      "[CV 3/3] END learning_rate=1, max_features=5, n_estimators=50;, score=0.662 total time=   0.0s\n",
      "[CV 1/3] END learning_rate=1, max_features=5, n_estimators=100;, score=0.697 total time=   0.0s\n",
      "[CV 2/3] END learning_rate=1, max_features=5, n_estimators=100;, score=0.662 total time=   0.0s\n",
      "[CV 3/3] END learning_rate=1, max_features=5, n_estimators=100;, score=0.662 total time=   0.0s\n",
      "[CV 1/3] END learning_rate=1, max_features=5, n_estimators=150;, score=0.690 total time=   0.0s\n",
      "[CV 2/3] END learning_rate=1, max_features=5, n_estimators=150;, score=0.675 total time=   0.0s\n",
      "[CV 3/3] END learning_rate=1, max_features=5, n_estimators=150;, score=0.675 total time=   0.0s\n",
      "[CV 1/3] END learning_rate=1, max_features=5, n_estimators=200;, score=0.703 total time=   0.1s\n",
      "[CV 2/3] END learning_rate=1, max_features=5, n_estimators=200;, score=0.675 total time=   0.0s\n",
      "[CV 3/3] END learning_rate=1, max_features=5, n_estimators=200;, score=0.669 total time=   0.0s\n",
      "[CV 1/3] END learning_rate=10, max_features=3, n_estimators=50;, score=0.413 total time=   0.0s\n",
      "[CV 2/3] END learning_rate=10, max_features=3, n_estimators=50;, score=0.695 total time=   0.0s\n",
      "[CV 3/3] END learning_rate=10, max_features=3, n_estimators=50;, score=0.623 total time=   0.0s\n",
      "[CV 1/3] END learning_rate=10, max_features=3, n_estimators=100;, score=0.690 total time=   0.0s\n",
      "[CV 2/3] END learning_rate=10, max_features=3, n_estimators=100;, score=0.643 total time=   0.0s\n",
      "[CV 3/3] END learning_rate=10, max_features=3, n_estimators=100;, score=0.545 total time=   0.0s\n",
      "[CV 1/3] END learning_rate=10, max_features=3, n_estimators=150;, score=0.619 total time=   0.0s\n",
      "[CV 2/3] END learning_rate=10, max_features=3, n_estimators=150;, score=0.513 total time=   0.0s\n",
      "[CV 3/3] END learning_rate=10, max_features=3, n_estimators=150;, score=0.662 total time=   0.0s\n",
      "[CV 1/3] END learning_rate=10, max_features=3, n_estimators=200;, score=0.645 total time=   0.0s\n",
      "[CV 2/3] END learning_rate=10, max_features=3, n_estimators=200;, score=0.390 total time=   0.0s\n",
      "[CV 3/3] END learning_rate=10, max_features=3, n_estimators=200;, score=0.481 total time=   0.0s\n",
      "[CV 1/3] END learning_rate=10, max_features=4, n_estimators=50;, score=0.568 total time=   0.0s\n",
      "[CV 2/3] END learning_rate=10, max_features=4, n_estimators=50;, score=0.390 total time=   0.0s\n",
      "[CV 3/3] END learning_rate=10, max_features=4, n_estimators=50;, score=0.604 total time=   0.0s\n",
      "[CV 1/3] END learning_rate=10, max_features=4, n_estimators=100;, score=0.652 total time=   0.0s\n",
      "[CV 2/3] END learning_rate=10, max_features=4, n_estimators=100;, score=0.331 total time=   0.0s\n",
      "[CV 3/3] END learning_rate=10, max_features=4, n_estimators=100;, score=0.318 total time=   0.0s\n",
      "[CV 1/3] END learning_rate=10, max_features=4, n_estimators=150;, score=0.310 total time=   0.0s\n",
      "[CV 2/3] END learning_rate=10, max_features=4, n_estimators=150;, score=0.565 total time=   0.0s\n",
      "[CV 3/3] END learning_rate=10, max_features=4, n_estimators=150;, score=0.513 total time=   0.0s\n",
      "[CV 1/3] END learning_rate=10, max_features=4, n_estimators=200;, score=0.413 total time=   0.0s\n",
      "[CV 2/3] END learning_rate=10, max_features=4, n_estimators=200;, score=0.286 total time=   0.0s\n",
      "[CV 3/3] END learning_rate=10, max_features=4, n_estimators=200;, score=0.474 total time=   0.0s\n",
      "[CV 1/3] END learning_rate=10, max_features=5, n_estimators=50;, score=0.284 total time=   0.0s\n",
      "[CV 2/3] END learning_rate=10, max_features=5, n_estimators=50;, score=0.364 total time=   0.0s\n",
      "[CV 3/3] END learning_rate=10, max_features=5, n_estimators=50;, score=0.532 total time=   0.0s\n",
      "[CV 1/3] END learning_rate=10, max_features=5, n_estimators=100;, score=0.619 total time=   0.0s\n",
      "[CV 2/3] END learning_rate=10, max_features=5, n_estimators=100;, score=0.364 total time=   0.0s\n",
      "[CV 3/3] END learning_rate=10, max_features=5, n_estimators=100;, score=0.532 total time=   0.0s\n",
      "[CV 1/3] END learning_rate=10, max_features=5, n_estimators=150;, score=0.619 total time=   0.0s\n",
      "[CV 2/3] END learning_rate=10, max_features=5, n_estimators=150;, score=0.364 total time=   0.0s\n",
      "[CV 3/3] END learning_rate=10, max_features=5, n_estimators=150;, score=0.532 total time=   0.0s\n",
      "[CV 1/3] END learning_rate=10, max_features=5, n_estimators=200;, score=0.619 total time=   0.0s\n",
      "[CV 2/3] END learning_rate=10, max_features=5, n_estimators=200;, score=0.364 total time=   0.0s\n",
      "[CV 3/3] END learning_rate=10, max_features=5, n_estimators=200;, score=0.532 total time=   0.0s\n"
     ]
    },
    {
     "data": {
      "text/html": [
       "<style>#sk-container-id-8 {color: black;background-color: white;}#sk-container-id-8 pre{padding: 0;}#sk-container-id-8 div.sk-toggleable {background-color: white;}#sk-container-id-8 label.sk-toggleable__label {cursor: pointer;display: block;width: 100%;margin-bottom: 0;padding: 0.3em;box-sizing: border-box;text-align: center;}#sk-container-id-8 label.sk-toggleable__label-arrow:before {content: \"▸\";float: left;margin-right: 0.25em;color: #696969;}#sk-container-id-8 label.sk-toggleable__label-arrow:hover:before {color: black;}#sk-container-id-8 div.sk-estimator:hover label.sk-toggleable__label-arrow:before {color: black;}#sk-container-id-8 div.sk-toggleable__content {max-height: 0;max-width: 0;overflow: hidden;text-align: left;background-color: #f0f8ff;}#sk-container-id-8 div.sk-toggleable__content pre {margin: 0.2em;color: black;border-radius: 0.25em;background-color: #f0f8ff;}#sk-container-id-8 input.sk-toggleable__control:checked~div.sk-toggleable__content {max-height: 200px;max-width: 100%;overflow: auto;}#sk-container-id-8 input.sk-toggleable__control:checked~label.sk-toggleable__label-arrow:before {content: \"▾\";}#sk-container-id-8 div.sk-estimator input.sk-toggleable__control:checked~label.sk-toggleable__label {background-color: #d4ebff;}#sk-container-id-8 div.sk-label input.sk-toggleable__control:checked~label.sk-toggleable__label {background-color: #d4ebff;}#sk-container-id-8 input.sk-hidden--visually {border: 0;clip: rect(1px 1px 1px 1px);clip: rect(1px, 1px, 1px, 1px);height: 1px;margin: -1px;overflow: hidden;padding: 0;position: absolute;width: 1px;}#sk-container-id-8 div.sk-estimator {font-family: monospace;background-color: #f0f8ff;border: 1px dotted black;border-radius: 0.25em;box-sizing: border-box;margin-bottom: 0.5em;}#sk-container-id-8 div.sk-estimator:hover {background-color: #d4ebff;}#sk-container-id-8 div.sk-parallel-item::after {content: \"\";width: 100%;border-bottom: 1px solid gray;flex-grow: 1;}#sk-container-id-8 div.sk-label:hover label.sk-toggleable__label {background-color: #d4ebff;}#sk-container-id-8 div.sk-serial::before {content: \"\";position: absolute;border-left: 1px solid gray;box-sizing: border-box;top: 0;bottom: 0;left: 50%;z-index: 0;}#sk-container-id-8 div.sk-serial {display: flex;flex-direction: column;align-items: center;background-color: white;padding-right: 0.2em;padding-left: 0.2em;position: relative;}#sk-container-id-8 div.sk-item {position: relative;z-index: 1;}#sk-container-id-8 div.sk-parallel {display: flex;align-items: stretch;justify-content: center;background-color: white;position: relative;}#sk-container-id-8 div.sk-item::before, #sk-container-id-8 div.sk-parallel-item::before {content: \"\";position: absolute;border-left: 1px solid gray;box-sizing: border-box;top: 0;bottom: 0;left: 50%;z-index: -1;}#sk-container-id-8 div.sk-parallel-item {display: flex;flex-direction: column;z-index: 1;position: relative;background-color: white;}#sk-container-id-8 div.sk-parallel-item:first-child::after {align-self: flex-end;width: 50%;}#sk-container-id-8 div.sk-parallel-item:last-child::after {align-self: flex-start;width: 50%;}#sk-container-id-8 div.sk-parallel-item:only-child::after {width: 0;}#sk-container-id-8 div.sk-dashed-wrapped {border: 1px dashed gray;margin: 0 0.4em 0.5em 0.4em;box-sizing: border-box;padding-bottom: 0.4em;background-color: white;}#sk-container-id-8 div.sk-label label {font-family: monospace;font-weight: bold;display: inline-block;line-height: 1.2em;}#sk-container-id-8 div.sk-label-container {text-align: center;}#sk-container-id-8 div.sk-container {/* jupyter's `normalize.less` sets `[hidden] { display: none; }` but bootstrap.min.css set `[hidden] { display: none !important; }` so we also need the `!important` here to be able to override the default hidden behavior on the sphinx rendered scikit-learn.org. See: https://github.com/scikit-learn/scikit-learn/issues/21755 */display: inline-block !important;position: relative;}#sk-container-id-8 div.sk-text-repr-fallback {display: none;}</style><div id=\"sk-container-id-8\" class=\"sk-top-container\"><div class=\"sk-text-repr-fallback\"><pre>GridSearchCV(cv=3, estimator=GradientBoostingClassifier(),\n",
       "             param_grid={&#x27;learning_rate&#x27;: [0.01, 0.1, 1, 10],\n",
       "                         &#x27;max_features&#x27;: [3, 4, 5],\n",
       "                         &#x27;n_estimators&#x27;: [50, 100, 150, 200]},\n",
       "             scoring=&#x27;accuracy&#x27;, verbose=3)</pre><b>In a Jupyter environment, please rerun this cell to show the HTML representation or trust the notebook. <br />On GitHub, the HTML representation is unable to render, please try loading this page with nbviewer.org.</b></div><div class=\"sk-container\" hidden><div class=\"sk-item sk-dashed-wrapped\"><div class=\"sk-label-container\"><div class=\"sk-label sk-toggleable\"><input class=\"sk-toggleable__control sk-hidden--visually\" id=\"sk-estimator-id-14\" type=\"checkbox\" ><label for=\"sk-estimator-id-14\" class=\"sk-toggleable__label sk-toggleable__label-arrow\">GridSearchCV</label><div class=\"sk-toggleable__content\"><pre>GridSearchCV(cv=3, estimator=GradientBoostingClassifier(),\n",
       "             param_grid={&#x27;learning_rate&#x27;: [0.01, 0.1, 1, 10],\n",
       "                         &#x27;max_features&#x27;: [3, 4, 5],\n",
       "                         &#x27;n_estimators&#x27;: [50, 100, 150, 200]},\n",
       "             scoring=&#x27;accuracy&#x27;, verbose=3)</pre></div></div></div><div class=\"sk-parallel\"><div class=\"sk-parallel-item\"><div class=\"sk-item\"><div class=\"sk-label-container\"><div class=\"sk-label sk-toggleable\"><input class=\"sk-toggleable__control sk-hidden--visually\" id=\"sk-estimator-id-15\" type=\"checkbox\" ><label for=\"sk-estimator-id-15\" class=\"sk-toggleable__label sk-toggleable__label-arrow\">estimator: GradientBoostingClassifier</label><div class=\"sk-toggleable__content\"><pre>GradientBoostingClassifier()</pre></div></div></div><div class=\"sk-serial\"><div class=\"sk-item\"><div class=\"sk-estimator sk-toggleable\"><input class=\"sk-toggleable__control sk-hidden--visually\" id=\"sk-estimator-id-16\" type=\"checkbox\" ><label for=\"sk-estimator-id-16\" class=\"sk-toggleable__label sk-toggleable__label-arrow\">GradientBoostingClassifier</label><div class=\"sk-toggleable__content\"><pre>GradientBoostingClassifier()</pre></div></div></div></div></div></div></div></div></div></div>"
      ],
      "text/plain": [
       "GridSearchCV(cv=3, estimator=GradientBoostingClassifier(),\n",
       "             param_grid={'learning_rate': [0.01, 0.1, 1, 10],\n",
       "                         'max_features': [3, 4, 5],\n",
       "                         'n_estimators': [50, 100, 150, 200]},\n",
       "             scoring='accuracy', verbose=3)"
      ]
     },
     "execution_count": 126,
     "metadata": {},
     "output_type": "execute_result"
    }
   ],
   "source": [
    "gscv.fit(x_train,y_train)"
   ]
  },
  {
   "cell_type": "code",
   "execution_count": 127,
   "id": "26ee7e07",
   "metadata": {},
   "outputs": [
    {
     "data": {
      "text/plain": [
       "0.7170506912442396"
      ]
     },
     "execution_count": 127,
     "metadata": {},
     "output_type": "execute_result"
    }
   ],
   "source": [
    "gscv.best_score_"
   ]
  },
  {
   "cell_type": "code",
   "execution_count": 128,
   "id": "ea71bf55",
   "metadata": {},
   "outputs": [
    {
     "data": {
      "text/plain": [
       "{'learning_rate': 0.01, 'max_features': 4, 'n_estimators': 100}"
      ]
     },
     "execution_count": 128,
     "metadata": {},
     "output_type": "execute_result"
    }
   ],
   "source": [
    "gscv.best_params_"
   ]
  },
  {
   "cell_type": "code",
   "execution_count": 134,
   "id": "c20d31d3",
   "metadata": {},
   "outputs": [],
   "source": [
    "model_gb =GradientBoostingClassifier(**gscv.best_params_)"
   ]
  },
  {
   "cell_type": "code",
   "execution_count": 135,
   "id": "717f86e3",
   "metadata": {},
   "outputs": [
    {
     "data": {
      "text/html": [
       "<style>#sk-container-id-10 {color: black;background-color: white;}#sk-container-id-10 pre{padding: 0;}#sk-container-id-10 div.sk-toggleable {background-color: white;}#sk-container-id-10 label.sk-toggleable__label {cursor: pointer;display: block;width: 100%;margin-bottom: 0;padding: 0.3em;box-sizing: border-box;text-align: center;}#sk-container-id-10 label.sk-toggleable__label-arrow:before {content: \"▸\";float: left;margin-right: 0.25em;color: #696969;}#sk-container-id-10 label.sk-toggleable__label-arrow:hover:before {color: black;}#sk-container-id-10 div.sk-estimator:hover label.sk-toggleable__label-arrow:before {color: black;}#sk-container-id-10 div.sk-toggleable__content {max-height: 0;max-width: 0;overflow: hidden;text-align: left;background-color: #f0f8ff;}#sk-container-id-10 div.sk-toggleable__content pre {margin: 0.2em;color: black;border-radius: 0.25em;background-color: #f0f8ff;}#sk-container-id-10 input.sk-toggleable__control:checked~div.sk-toggleable__content {max-height: 200px;max-width: 100%;overflow: auto;}#sk-container-id-10 input.sk-toggleable__control:checked~label.sk-toggleable__label-arrow:before {content: \"▾\";}#sk-container-id-10 div.sk-estimator input.sk-toggleable__control:checked~label.sk-toggleable__label {background-color: #d4ebff;}#sk-container-id-10 div.sk-label input.sk-toggleable__control:checked~label.sk-toggleable__label {background-color: #d4ebff;}#sk-container-id-10 input.sk-hidden--visually {border: 0;clip: rect(1px 1px 1px 1px);clip: rect(1px, 1px, 1px, 1px);height: 1px;margin: -1px;overflow: hidden;padding: 0;position: absolute;width: 1px;}#sk-container-id-10 div.sk-estimator {font-family: monospace;background-color: #f0f8ff;border: 1px dotted black;border-radius: 0.25em;box-sizing: border-box;margin-bottom: 0.5em;}#sk-container-id-10 div.sk-estimator:hover {background-color: #d4ebff;}#sk-container-id-10 div.sk-parallel-item::after {content: \"\";width: 100%;border-bottom: 1px solid gray;flex-grow: 1;}#sk-container-id-10 div.sk-label:hover label.sk-toggleable__label {background-color: #d4ebff;}#sk-container-id-10 div.sk-serial::before {content: \"\";position: absolute;border-left: 1px solid gray;box-sizing: border-box;top: 0;bottom: 0;left: 50%;z-index: 0;}#sk-container-id-10 div.sk-serial {display: flex;flex-direction: column;align-items: center;background-color: white;padding-right: 0.2em;padding-left: 0.2em;position: relative;}#sk-container-id-10 div.sk-item {position: relative;z-index: 1;}#sk-container-id-10 div.sk-parallel {display: flex;align-items: stretch;justify-content: center;background-color: white;position: relative;}#sk-container-id-10 div.sk-item::before, #sk-container-id-10 div.sk-parallel-item::before {content: \"\";position: absolute;border-left: 1px solid gray;box-sizing: border-box;top: 0;bottom: 0;left: 50%;z-index: -1;}#sk-container-id-10 div.sk-parallel-item {display: flex;flex-direction: column;z-index: 1;position: relative;background-color: white;}#sk-container-id-10 div.sk-parallel-item:first-child::after {align-self: flex-end;width: 50%;}#sk-container-id-10 div.sk-parallel-item:last-child::after {align-self: flex-start;width: 50%;}#sk-container-id-10 div.sk-parallel-item:only-child::after {width: 0;}#sk-container-id-10 div.sk-dashed-wrapped {border: 1px dashed gray;margin: 0 0.4em 0.5em 0.4em;box-sizing: border-box;padding-bottom: 0.4em;background-color: white;}#sk-container-id-10 div.sk-label label {font-family: monospace;font-weight: bold;display: inline-block;line-height: 1.2em;}#sk-container-id-10 div.sk-label-container {text-align: center;}#sk-container-id-10 div.sk-container {/* jupyter's `normalize.less` sets `[hidden] { display: none; }` but bootstrap.min.css set `[hidden] { display: none !important; }` so we also need the `!important` here to be able to override the default hidden behavior on the sphinx rendered scikit-learn.org. See: https://github.com/scikit-learn/scikit-learn/issues/21755 */display: inline-block !important;position: relative;}#sk-container-id-10 div.sk-text-repr-fallback {display: none;}</style><div id=\"sk-container-id-10\" class=\"sk-top-container\"><div class=\"sk-text-repr-fallback\"><pre>GradientBoostingClassifier(learning_rate=0.01, max_features=4)</pre><b>In a Jupyter environment, please rerun this cell to show the HTML representation or trust the notebook. <br />On GitHub, the HTML representation is unable to render, please try loading this page with nbviewer.org.</b></div><div class=\"sk-container\" hidden><div class=\"sk-item\"><div class=\"sk-estimator sk-toggleable\"><input class=\"sk-toggleable__control sk-hidden--visually\" id=\"sk-estimator-id-18\" type=\"checkbox\" checked><label for=\"sk-estimator-id-18\" class=\"sk-toggleable__label sk-toggleable__label-arrow\">GradientBoostingClassifier</label><div class=\"sk-toggleable__content\"><pre>GradientBoostingClassifier(learning_rate=0.01, max_features=4)</pre></div></div></div></div></div>"
      ],
      "text/plain": [
       "GradientBoostingClassifier(learning_rate=0.01, max_features=4)"
      ]
     },
     "execution_count": 135,
     "metadata": {},
     "output_type": "execute_result"
    }
   ],
   "source": [
    "model_gb.fit(x_train,y_train)"
   ]
  },
  {
   "cell_type": "code",
   "execution_count": 137,
   "id": "37ae10ae",
   "metadata": {},
   "outputs": [],
   "source": [
    "y_pred_gb= model_gb.predict(x_test)"
   ]
  },
  {
   "cell_type": "code",
   "execution_count": 138,
   "id": "a5e4b6d3",
   "metadata": {},
   "outputs": [
    {
     "name": "stdout",
     "output_type": "stream",
     "text": [
      "confusion matrix:\n",
      " [[ 1 32]\n",
      " [ 1 82]]\n",
      "accuracy: 0.7155172413793104\n",
      "recall: 0.9879518072289156\n",
      "f1 score: 0.8324873096446701\n",
      "Precision score: 0.7192982456140351\n"
     ]
    }
   ],
   "source": [
    "validation(y_test,y_pred_gb)"
   ]
  },
  {
   "cell_type": "markdown",
   "id": "96262e86",
   "metadata": {},
   "source": [
    "## XG Boost"
   ]
  },
  {
   "cell_type": "code",
   "execution_count": 139,
   "id": "cef9431b",
   "metadata": {},
   "outputs": [],
   "source": [
    "from xgboost import XGBClassifier"
   ]
  },
  {
   "cell_type": "code",
   "execution_count": 140,
   "id": "a47e28f5",
   "metadata": {},
   "outputs": [],
   "source": [
    "model_xgb = XGBClassifier(eval_metric='logloss')"
   ]
  },
  {
   "cell_type": "code",
   "execution_count": 145,
   "id": "0883081f",
   "metadata": {},
   "outputs": [],
   "source": [
    "params = {'n_estimators':[50,100,150,200],\n",
    "         'learning_rate':[0.01,0.1,1,10],\n",
    "         'max_depth':[3,4,5]}"
   ]
  },
  {
   "cell_type": "code",
   "execution_count": 149,
   "id": "bf10b07a",
   "metadata": {},
   "outputs": [],
   "source": [
    "gscv = GridSearchCV(estimator=model_xgb,\n",
    "                                 param_grid=params,\n",
    "                                 verbose=3,\n",
    "                                 cv=3,\n",
    "                                 scoring='accuracy')"
   ]
  },
  {
   "cell_type": "code",
   "execution_count": 150,
   "id": "27b34a4a",
   "metadata": {},
   "outputs": [
    {
     "name": "stdout",
     "output_type": "stream",
     "text": [
      "Fitting 3 folds for each of 48 candidates, totalling 144 fits\n",
      "[CV 1/3] END learning_rate=0.01, max_depth=3, n_estimators=50;, score=0.671 total time=   0.1s\n",
      "[CV 2/3] END learning_rate=0.01, max_depth=3, n_estimators=50;, score=0.649 total time=   0.0s\n",
      "[CV 3/3] END learning_rate=0.01, max_depth=3, n_estimators=50;, score=0.597 total time=   0.0s\n",
      "[CV 1/3] END learning_rate=0.01, max_depth=3, n_estimators=100;, score=0.677 total time=   0.0s\n",
      "[CV 2/3] END learning_rate=0.01, max_depth=3, n_estimators=100;, score=0.675 total time=   0.0s\n",
      "[CV 3/3] END learning_rate=0.01, max_depth=3, n_estimators=100;, score=0.649 total time=   0.0s\n",
      "[CV 1/3] END learning_rate=0.01, max_depth=3, n_estimators=150;, score=0.703 total time=   0.0s\n",
      "[CV 2/3] END learning_rate=0.01, max_depth=3, n_estimators=150;, score=0.669 total time=   0.0s\n",
      "[CV 3/3] END learning_rate=0.01, max_depth=3, n_estimators=150;, score=0.636 total time=   0.0s\n",
      "[CV 1/3] END learning_rate=0.01, max_depth=3, n_estimators=200;, score=0.716 total time=   0.0s\n",
      "[CV 2/3] END learning_rate=0.01, max_depth=3, n_estimators=200;, score=0.669 total time=   0.0s\n",
      "[CV 3/3] END learning_rate=0.01, max_depth=3, n_estimators=200;, score=0.636 total time=   0.0s\n",
      "[CV 1/3] END learning_rate=0.01, max_depth=4, n_estimators=50;, score=0.697 total time=   0.0s\n",
      "[CV 2/3] END learning_rate=0.01, max_depth=4, n_estimators=50;, score=0.649 total time=   0.0s\n",
      "[CV 3/3] END learning_rate=0.01, max_depth=4, n_estimators=50;, score=0.636 total time=   0.0s\n",
      "[CV 1/3] END learning_rate=0.01, max_depth=4, n_estimators=100;, score=0.703 total time=   0.0s\n",
      "[CV 2/3] END learning_rate=0.01, max_depth=4, n_estimators=100;, score=0.649 total time=   0.0s\n",
      "[CV 3/3] END learning_rate=0.01, max_depth=4, n_estimators=100;, score=0.617 total time=   0.0s\n",
      "[CV 1/3] END learning_rate=0.01, max_depth=4, n_estimators=150;, score=0.710 total time=   0.0s\n",
      "[CV 2/3] END learning_rate=0.01, max_depth=4, n_estimators=150;, score=0.649 total time=   0.0s\n",
      "[CV 3/3] END learning_rate=0.01, max_depth=4, n_estimators=150;, score=0.604 total time=   0.0s\n",
      "[CV 1/3] END learning_rate=0.01, max_depth=4, n_estimators=200;, score=0.710 total time=   0.0s\n",
      "[CV 2/3] END learning_rate=0.01, max_depth=4, n_estimators=200;, score=0.649 total time=   0.0s\n",
      "[CV 3/3] END learning_rate=0.01, max_depth=4, n_estimators=200;, score=0.610 total time=   0.0s\n",
      "[CV 1/3] END learning_rate=0.01, max_depth=5, n_estimators=50;, score=0.671 total time=   0.0s\n",
      "[CV 2/3] END learning_rate=0.01, max_depth=5, n_estimators=50;, score=0.649 total time=   0.0s\n",
      "[CV 3/3] END learning_rate=0.01, max_depth=5, n_estimators=50;, score=0.617 total time=   0.0s\n",
      "[CV 1/3] END learning_rate=0.01, max_depth=5, n_estimators=100;, score=0.697 total time=   0.0s\n",
      "[CV 2/3] END learning_rate=0.01, max_depth=5, n_estimators=100;, score=0.662 total time=   0.0s\n",
      "[CV 3/3] END learning_rate=0.01, max_depth=5, n_estimators=100;, score=0.630 total time=   0.0s\n",
      "[CV 1/3] END learning_rate=0.01, max_depth=5, n_estimators=150;, score=0.690 total time=   0.0s\n",
      "[CV 2/3] END learning_rate=0.01, max_depth=5, n_estimators=150;, score=0.662 total time=   0.0s\n",
      "[CV 3/3] END learning_rate=0.01, max_depth=5, n_estimators=150;, score=0.636 total time=   0.0s\n",
      "[CV 1/3] END learning_rate=0.01, max_depth=5, n_estimators=200;, score=0.671 total time=   0.0s\n",
      "[CV 2/3] END learning_rate=0.01, max_depth=5, n_estimators=200;, score=0.649 total time=   0.0s\n",
      "[CV 3/3] END learning_rate=0.01, max_depth=5, n_estimators=200;, score=0.643 total time=   0.0s\n",
      "[CV 1/3] END learning_rate=0.1, max_depth=3, n_estimators=50;, score=0.690 total time=   0.0s\n",
      "[CV 2/3] END learning_rate=0.1, max_depth=3, n_estimators=50;, score=0.656 total time=   0.0s\n",
      "[CV 3/3] END learning_rate=0.1, max_depth=3, n_estimators=50;, score=0.643 total time=   0.0s\n",
      "[CV 1/3] END learning_rate=0.1, max_depth=3, n_estimators=100;, score=0.703 total time=   0.0s\n",
      "[CV 2/3] END learning_rate=0.1, max_depth=3, n_estimators=100;, score=0.701 total time=   0.0s\n",
      "[CV 3/3] END learning_rate=0.1, max_depth=3, n_estimators=100;, score=0.636 total time=   0.0s\n",
      "[CV 1/3] END learning_rate=0.1, max_depth=3, n_estimators=150;, score=0.684 total time=   0.0s\n",
      "[CV 2/3] END learning_rate=0.1, max_depth=3, n_estimators=150;, score=0.708 total time=   0.0s\n",
      "[CV 3/3] END learning_rate=0.1, max_depth=3, n_estimators=150;, score=0.662 total time=   0.0s\n",
      "[CV 1/3] END learning_rate=0.1, max_depth=3, n_estimators=200;, score=0.684 total time=   0.0s\n",
      "[CV 2/3] END learning_rate=0.1, max_depth=3, n_estimators=200;, score=0.695 total time=   0.0s\n",
      "[CV 3/3] END learning_rate=0.1, max_depth=3, n_estimators=200;, score=0.662 total time=   0.0s\n",
      "[CV 1/3] END learning_rate=0.1, max_depth=4, n_estimators=50;, score=0.710 total time=   0.0s\n",
      "[CV 2/3] END learning_rate=0.1, max_depth=4, n_estimators=50;, score=0.669 total time=   0.0s\n",
      "[CV 3/3] END learning_rate=0.1, max_depth=4, n_estimators=50;, score=0.643 total time=   0.0s\n",
      "[CV 1/3] END learning_rate=0.1, max_depth=4, n_estimators=100;, score=0.710 total time=   0.0s\n",
      "[CV 2/3] END learning_rate=0.1, max_depth=4, n_estimators=100;, score=0.682 total time=   0.0s\n",
      "[CV 3/3] END learning_rate=0.1, max_depth=4, n_estimators=100;, score=0.643 total time=   0.0s\n",
      "[CV 1/3] END learning_rate=0.1, max_depth=4, n_estimators=150;, score=0.690 total time=   0.0s\n",
      "[CV 2/3] END learning_rate=0.1, max_depth=4, n_estimators=150;, score=0.688 total time=   0.0s\n",
      "[CV 3/3] END learning_rate=0.1, max_depth=4, n_estimators=150;, score=0.636 total time=   0.0s\n",
      "[CV 1/3] END learning_rate=0.1, max_depth=4, n_estimators=200;, score=0.690 total time=   0.0s\n",
      "[CV 2/3] END learning_rate=0.1, max_depth=4, n_estimators=200;, score=0.708 total time=   0.0s\n",
      "[CV 3/3] END learning_rate=0.1, max_depth=4, n_estimators=200;, score=0.630 total time=   0.0s\n",
      "[CV 1/3] END learning_rate=0.1, max_depth=5, n_estimators=50;, score=0.703 total time=   0.0s\n",
      "[CV 2/3] END learning_rate=0.1, max_depth=5, n_estimators=50;, score=0.682 total time=   0.0s\n",
      "[CV 3/3] END learning_rate=0.1, max_depth=5, n_estimators=50;, score=0.662 total time=   0.0s\n",
      "[CV 1/3] END learning_rate=0.1, max_depth=5, n_estimators=100;, score=0.703 total time=   0.0s\n",
      "[CV 2/3] END learning_rate=0.1, max_depth=5, n_estimators=100;, score=0.682 total time=   0.0s\n",
      "[CV 3/3] END learning_rate=0.1, max_depth=5, n_estimators=100;, score=0.662 total time=   0.0s\n",
      "[CV 1/3] END learning_rate=0.1, max_depth=5, n_estimators=150;, score=0.735 total time=   0.0s\n",
      "[CV 2/3] END learning_rate=0.1, max_depth=5, n_estimators=150;, score=0.662 total time=   0.0s\n",
      "[CV 3/3] END learning_rate=0.1, max_depth=5, n_estimators=150;, score=0.662 total time=   0.0s\n",
      "[CV 1/3] END learning_rate=0.1, max_depth=5, n_estimators=200;, score=0.703 total time=   0.0s\n",
      "[CV 2/3] END learning_rate=0.1, max_depth=5, n_estimators=200;, score=0.682 total time=   0.0s\n",
      "[CV 3/3] END learning_rate=0.1, max_depth=5, n_estimators=200;, score=0.649 total time=   0.0s\n",
      "[CV 1/3] END learning_rate=1, max_depth=3, n_estimators=50;, score=0.703 total time=   0.0s\n",
      "[CV 2/3] END learning_rate=1, max_depth=3, n_estimators=50;, score=0.682 total time=   0.0s\n",
      "[CV 3/3] END learning_rate=1, max_depth=3, n_estimators=50;, score=0.701 total time=   0.0s\n",
      "[CV 1/3] END learning_rate=1, max_depth=3, n_estimators=100;, score=0.723 total time=   0.0s\n",
      "[CV 2/3] END learning_rate=1, max_depth=3, n_estimators=100;, score=0.669 total time=   0.0s\n",
      "[CV 3/3] END learning_rate=1, max_depth=3, n_estimators=100;, score=0.688 total time=   0.0s\n",
      "[CV 1/3] END learning_rate=1, max_depth=3, n_estimators=150;, score=0.735 total time=   0.0s\n",
      "[CV 2/3] END learning_rate=1, max_depth=3, n_estimators=150;, score=0.695 total time=   0.0s\n",
      "[CV 3/3] END learning_rate=1, max_depth=3, n_estimators=150;, score=0.688 total time=   0.0s\n",
      "[CV 1/3] END learning_rate=1, max_depth=3, n_estimators=200;, score=0.735 total time=   0.0s\n",
      "[CV 2/3] END learning_rate=1, max_depth=3, n_estimators=200;, score=0.688 total time=   0.0s\n",
      "[CV 3/3] END learning_rate=1, max_depth=3, n_estimators=200;, score=0.701 total time=   0.0s\n",
      "[CV 1/3] END learning_rate=1, max_depth=4, n_estimators=50;, score=0.729 total time=   0.0s\n",
      "[CV 2/3] END learning_rate=1, max_depth=4, n_estimators=50;, score=0.688 total time=   0.0s\n"
     ]
    },
    {
     "name": "stdout",
     "output_type": "stream",
     "text": [
      "[CV 3/3] END learning_rate=1, max_depth=4, n_estimators=50;, score=0.662 total time=   0.0s\n",
      "[CV 1/3] END learning_rate=1, max_depth=4, n_estimators=100;, score=0.716 total time=   0.0s\n",
      "[CV 2/3] END learning_rate=1, max_depth=4, n_estimators=100;, score=0.662 total time=   0.0s\n",
      "[CV 3/3] END learning_rate=1, max_depth=4, n_estimators=100;, score=0.662 total time=   0.0s\n",
      "[CV 1/3] END learning_rate=1, max_depth=4, n_estimators=150;, score=0.729 total time=   0.0s\n",
      "[CV 2/3] END learning_rate=1, max_depth=4, n_estimators=150;, score=0.675 total time=   0.0s\n",
      "[CV 3/3] END learning_rate=1, max_depth=4, n_estimators=150;, score=0.669 total time=   0.0s\n",
      "[CV 1/3] END learning_rate=1, max_depth=4, n_estimators=200;, score=0.723 total time=   0.0s\n",
      "[CV 2/3] END learning_rate=1, max_depth=4, n_estimators=200;, score=0.682 total time=   0.0s\n",
      "[CV 3/3] END learning_rate=1, max_depth=4, n_estimators=200;, score=0.675 total time=   0.0s\n",
      "[CV 1/3] END learning_rate=1, max_depth=5, n_estimators=50;, score=0.677 total time=   0.0s\n",
      "[CV 2/3] END learning_rate=1, max_depth=5, n_estimators=50;, score=0.656 total time=   0.0s\n",
      "[CV 3/3] END learning_rate=1, max_depth=5, n_estimators=50;, score=0.662 total time=   0.0s\n",
      "[CV 1/3] END learning_rate=1, max_depth=5, n_estimators=100;, score=0.677 total time=   0.0s\n",
      "[CV 2/3] END learning_rate=1, max_depth=5, n_estimators=100;, score=0.662 total time=   0.0s\n",
      "[CV 3/3] END learning_rate=1, max_depth=5, n_estimators=100;, score=0.656 total time=   0.0s\n",
      "[CV 1/3] END learning_rate=1, max_depth=5, n_estimators=150;, score=0.671 total time=   0.0s\n",
      "[CV 2/3] END learning_rate=1, max_depth=5, n_estimators=150;, score=0.669 total time=   0.0s\n",
      "[CV 3/3] END learning_rate=1, max_depth=5, n_estimators=150;, score=0.649 total time=   0.0s\n",
      "[CV 1/3] END learning_rate=1, max_depth=5, n_estimators=200;, score=0.671 total time=   0.0s\n",
      "[CV 2/3] END learning_rate=1, max_depth=5, n_estimators=200;, score=0.675 total time=   0.0s\n",
      "[CV 3/3] END learning_rate=1, max_depth=5, n_estimators=200;, score=0.656 total time=   0.0s\n",
      "[CV 1/3] END learning_rate=10, max_depth=3, n_estimators=50;, score=0.716 total time=   0.0s\n",
      "[CV 2/3] END learning_rate=10, max_depth=3, n_estimators=50;, score=0.714 total time=   0.0s\n",
      "[CV 3/3] END learning_rate=10, max_depth=3, n_estimators=50;, score=0.656 total time=   0.0s\n",
      "[CV 1/3] END learning_rate=10, max_depth=3, n_estimators=100;, score=0.716 total time=   0.0s\n",
      "[CV 2/3] END learning_rate=10, max_depth=3, n_estimators=100;, score=0.714 total time=   0.0s\n",
      "[CV 3/3] END learning_rate=10, max_depth=3, n_estimators=100;, score=0.656 total time=   0.0s\n",
      "[CV 1/3] END learning_rate=10, max_depth=3, n_estimators=150;, score=0.716 total time=   0.0s\n",
      "[CV 2/3] END learning_rate=10, max_depth=3, n_estimators=150;, score=0.714 total time=   0.0s\n",
      "[CV 3/3] END learning_rate=10, max_depth=3, n_estimators=150;, score=0.656 total time=   0.0s\n",
      "[CV 1/3] END learning_rate=10, max_depth=3, n_estimators=200;, score=0.716 total time=   0.0s\n",
      "[CV 2/3] END learning_rate=10, max_depth=3, n_estimators=200;, score=0.714 total time=   0.0s\n",
      "[CV 3/3] END learning_rate=10, max_depth=3, n_estimators=200;, score=0.656 total time=   0.0s\n",
      "[CV 1/3] END learning_rate=10, max_depth=4, n_estimators=50;, score=0.684 total time=   0.0s\n",
      "[CV 2/3] END learning_rate=10, max_depth=4, n_estimators=50;, score=0.714 total time=   0.0s\n",
      "[CV 3/3] END learning_rate=10, max_depth=4, n_estimators=50;, score=0.305 total time=   0.0s\n",
      "[CV 1/3] END learning_rate=10, max_depth=4, n_estimators=100;, score=0.684 total time=   0.0s\n",
      "[CV 2/3] END learning_rate=10, max_depth=4, n_estimators=100;, score=0.714 total time=   0.0s\n",
      "[CV 3/3] END learning_rate=10, max_depth=4, n_estimators=100;, score=0.305 total time=   0.0s\n",
      "[CV 1/3] END learning_rate=10, max_depth=4, n_estimators=150;, score=0.684 total time=   0.0s\n",
      "[CV 2/3] END learning_rate=10, max_depth=4, n_estimators=150;, score=0.714 total time=   0.0s\n",
      "[CV 3/3] END learning_rate=10, max_depth=4, n_estimators=150;, score=0.305 total time=   0.0s\n",
      "[CV 1/3] END learning_rate=10, max_depth=4, n_estimators=200;, score=0.684 total time=   0.0s\n",
      "[CV 2/3] END learning_rate=10, max_depth=4, n_estimators=200;, score=0.714 total time=   0.0s\n",
      "[CV 3/3] END learning_rate=10, max_depth=4, n_estimators=200;, score=0.305 total time=   0.0s\n",
      "[CV 1/3] END learning_rate=10, max_depth=5, n_estimators=50;, score=0.619 total time=   0.0s\n",
      "[CV 2/3] END learning_rate=10, max_depth=5, n_estimators=50;, score=0.682 total time=   0.0s\n",
      "[CV 3/3] END learning_rate=10, max_depth=5, n_estimators=50;, score=0.714 total time=   0.0s\n",
      "[CV 1/3] END learning_rate=10, max_depth=5, n_estimators=100;, score=0.619 total time=   0.0s\n",
      "[CV 2/3] END learning_rate=10, max_depth=5, n_estimators=100;, score=0.682 total time=   0.0s\n",
      "[CV 3/3] END learning_rate=10, max_depth=5, n_estimators=100;, score=0.714 total time=   0.0s\n",
      "[CV 1/3] END learning_rate=10, max_depth=5, n_estimators=150;, score=0.619 total time=   0.0s\n",
      "[CV 2/3] END learning_rate=10, max_depth=5, n_estimators=150;, score=0.682 total time=   0.0s\n",
      "[CV 3/3] END learning_rate=10, max_depth=5, n_estimators=150;, score=0.714 total time=   0.0s\n",
      "[CV 1/3] END learning_rate=10, max_depth=5, n_estimators=200;, score=0.619 total time=   0.0s\n",
      "[CV 2/3] END learning_rate=10, max_depth=5, n_estimators=200;, score=0.682 total time=   0.0s\n",
      "[CV 3/3] END learning_rate=10, max_depth=5, n_estimators=200;, score=0.714 total time=   0.0s\n"
     ]
    },
    {
     "data": {
      "text/html": [
       "<style>#sk-container-id-11 {color: black;background-color: white;}#sk-container-id-11 pre{padding: 0;}#sk-container-id-11 div.sk-toggleable {background-color: white;}#sk-container-id-11 label.sk-toggleable__label {cursor: pointer;display: block;width: 100%;margin-bottom: 0;padding: 0.3em;box-sizing: border-box;text-align: center;}#sk-container-id-11 label.sk-toggleable__label-arrow:before {content: \"▸\";float: left;margin-right: 0.25em;color: #696969;}#sk-container-id-11 label.sk-toggleable__label-arrow:hover:before {color: black;}#sk-container-id-11 div.sk-estimator:hover label.sk-toggleable__label-arrow:before {color: black;}#sk-container-id-11 div.sk-toggleable__content {max-height: 0;max-width: 0;overflow: hidden;text-align: left;background-color: #f0f8ff;}#sk-container-id-11 div.sk-toggleable__content pre {margin: 0.2em;color: black;border-radius: 0.25em;background-color: #f0f8ff;}#sk-container-id-11 input.sk-toggleable__control:checked~div.sk-toggleable__content {max-height: 200px;max-width: 100%;overflow: auto;}#sk-container-id-11 input.sk-toggleable__control:checked~label.sk-toggleable__label-arrow:before {content: \"▾\";}#sk-container-id-11 div.sk-estimator input.sk-toggleable__control:checked~label.sk-toggleable__label {background-color: #d4ebff;}#sk-container-id-11 div.sk-label input.sk-toggleable__control:checked~label.sk-toggleable__label {background-color: #d4ebff;}#sk-container-id-11 input.sk-hidden--visually {border: 0;clip: rect(1px 1px 1px 1px);clip: rect(1px, 1px, 1px, 1px);height: 1px;margin: -1px;overflow: hidden;padding: 0;position: absolute;width: 1px;}#sk-container-id-11 div.sk-estimator {font-family: monospace;background-color: #f0f8ff;border: 1px dotted black;border-radius: 0.25em;box-sizing: border-box;margin-bottom: 0.5em;}#sk-container-id-11 div.sk-estimator:hover {background-color: #d4ebff;}#sk-container-id-11 div.sk-parallel-item::after {content: \"\";width: 100%;border-bottom: 1px solid gray;flex-grow: 1;}#sk-container-id-11 div.sk-label:hover label.sk-toggleable__label {background-color: #d4ebff;}#sk-container-id-11 div.sk-serial::before {content: \"\";position: absolute;border-left: 1px solid gray;box-sizing: border-box;top: 0;bottom: 0;left: 50%;z-index: 0;}#sk-container-id-11 div.sk-serial {display: flex;flex-direction: column;align-items: center;background-color: white;padding-right: 0.2em;padding-left: 0.2em;position: relative;}#sk-container-id-11 div.sk-item {position: relative;z-index: 1;}#sk-container-id-11 div.sk-parallel {display: flex;align-items: stretch;justify-content: center;background-color: white;position: relative;}#sk-container-id-11 div.sk-item::before, #sk-container-id-11 div.sk-parallel-item::before {content: \"\";position: absolute;border-left: 1px solid gray;box-sizing: border-box;top: 0;bottom: 0;left: 50%;z-index: -1;}#sk-container-id-11 div.sk-parallel-item {display: flex;flex-direction: column;z-index: 1;position: relative;background-color: white;}#sk-container-id-11 div.sk-parallel-item:first-child::after {align-self: flex-end;width: 50%;}#sk-container-id-11 div.sk-parallel-item:last-child::after {align-self: flex-start;width: 50%;}#sk-container-id-11 div.sk-parallel-item:only-child::after {width: 0;}#sk-container-id-11 div.sk-dashed-wrapped {border: 1px dashed gray;margin: 0 0.4em 0.5em 0.4em;box-sizing: border-box;padding-bottom: 0.4em;background-color: white;}#sk-container-id-11 div.sk-label label {font-family: monospace;font-weight: bold;display: inline-block;line-height: 1.2em;}#sk-container-id-11 div.sk-label-container {text-align: center;}#sk-container-id-11 div.sk-container {/* jupyter's `normalize.less` sets `[hidden] { display: none; }` but bootstrap.min.css set `[hidden] { display: none !important; }` so we also need the `!important` here to be able to override the default hidden behavior on the sphinx rendered scikit-learn.org. See: https://github.com/scikit-learn/scikit-learn/issues/21755 */display: inline-block !important;position: relative;}#sk-container-id-11 div.sk-text-repr-fallback {display: none;}</style><div id=\"sk-container-id-11\" class=\"sk-top-container\"><div class=\"sk-text-repr-fallback\"><pre>GridSearchCV(cv=3,\n",
       "             estimator=XGBClassifier(base_score=None, booster=None,\n",
       "                                     callbacks=None, colsample_bylevel=None,\n",
       "                                     colsample_bynode=None,\n",
       "                                     colsample_bytree=None,\n",
       "                                     early_stopping_rounds=None,\n",
       "                                     enable_categorical=False,\n",
       "                                     eval_metric=&#x27;logloss&#x27;, gamma=None,\n",
       "                                     gpu_id=None, grow_policy=None,\n",
       "                                     importance_type=None,\n",
       "                                     interaction_constraints=None,\n",
       "                                     learning_rate=None, max_bin=None,\n",
       "                                     m...\n",
       "                                     max_delta_step=None, max_depth=None,\n",
       "                                     max_leaves=None, min_child_weight=None,\n",
       "                                     missing=nan, monotone_constraints=None,\n",
       "                                     n_estimators=100, n_jobs=None,\n",
       "                                     num_parallel_tree=None, predictor=None,\n",
       "                                     random_state=None, reg_alpha=None,\n",
       "                                     reg_lambda=None, ...),\n",
       "             param_grid={&#x27;learning_rate&#x27;: [0.01, 0.1, 1, 10],\n",
       "                         &#x27;max_depth&#x27;: [3, 4, 5],\n",
       "                         &#x27;n_estimators&#x27;: [50, 100, 150, 200]},\n",
       "             scoring=&#x27;accuracy&#x27;, verbose=3)</pre><b>In a Jupyter environment, please rerun this cell to show the HTML representation or trust the notebook. <br />On GitHub, the HTML representation is unable to render, please try loading this page with nbviewer.org.</b></div><div class=\"sk-container\" hidden><div class=\"sk-item sk-dashed-wrapped\"><div class=\"sk-label-container\"><div class=\"sk-label sk-toggleable\"><input class=\"sk-toggleable__control sk-hidden--visually\" id=\"sk-estimator-id-19\" type=\"checkbox\" ><label for=\"sk-estimator-id-19\" class=\"sk-toggleable__label sk-toggleable__label-arrow\">GridSearchCV</label><div class=\"sk-toggleable__content\"><pre>GridSearchCV(cv=3,\n",
       "             estimator=XGBClassifier(base_score=None, booster=None,\n",
       "                                     callbacks=None, colsample_bylevel=None,\n",
       "                                     colsample_bynode=None,\n",
       "                                     colsample_bytree=None,\n",
       "                                     early_stopping_rounds=None,\n",
       "                                     enable_categorical=False,\n",
       "                                     eval_metric=&#x27;logloss&#x27;, gamma=None,\n",
       "                                     gpu_id=None, grow_policy=None,\n",
       "                                     importance_type=None,\n",
       "                                     interaction_constraints=None,\n",
       "                                     learning_rate=None, max_bin=None,\n",
       "                                     m...\n",
       "                                     max_delta_step=None, max_depth=None,\n",
       "                                     max_leaves=None, min_child_weight=None,\n",
       "                                     missing=nan, monotone_constraints=None,\n",
       "                                     n_estimators=100, n_jobs=None,\n",
       "                                     num_parallel_tree=None, predictor=None,\n",
       "                                     random_state=None, reg_alpha=None,\n",
       "                                     reg_lambda=None, ...),\n",
       "             param_grid={&#x27;learning_rate&#x27;: [0.01, 0.1, 1, 10],\n",
       "                         &#x27;max_depth&#x27;: [3, 4, 5],\n",
       "                         &#x27;n_estimators&#x27;: [50, 100, 150, 200]},\n",
       "             scoring=&#x27;accuracy&#x27;, verbose=3)</pre></div></div></div><div class=\"sk-parallel\"><div class=\"sk-parallel-item\"><div class=\"sk-item\"><div class=\"sk-label-container\"><div class=\"sk-label sk-toggleable\"><input class=\"sk-toggleable__control sk-hidden--visually\" id=\"sk-estimator-id-20\" type=\"checkbox\" ><label for=\"sk-estimator-id-20\" class=\"sk-toggleable__label sk-toggleable__label-arrow\">estimator: XGBClassifier</label><div class=\"sk-toggleable__content\"><pre>XGBClassifier(base_score=None, booster=None, callbacks=None,\n",
       "              colsample_bylevel=None, colsample_bynode=None,\n",
       "              colsample_bytree=None, early_stopping_rounds=None,\n",
       "              enable_categorical=False, eval_metric=&#x27;logloss&#x27;, gamma=None,\n",
       "              gpu_id=None, grow_policy=None, importance_type=None,\n",
       "              interaction_constraints=None, learning_rate=None, max_bin=None,\n",
       "              max_cat_to_onehot=None, max_delta_step=None, max_depth=None,\n",
       "              max_leaves=None, min_child_weight=None, missing=nan,\n",
       "              monotone_constraints=None, n_estimators=100, n_jobs=None,\n",
       "              num_parallel_tree=None, predictor=None, random_state=None,\n",
       "              reg_alpha=None, reg_lambda=None, ...)</pre></div></div></div><div class=\"sk-serial\"><div class=\"sk-item\"><div class=\"sk-estimator sk-toggleable\"><input class=\"sk-toggleable__control sk-hidden--visually\" id=\"sk-estimator-id-21\" type=\"checkbox\" ><label for=\"sk-estimator-id-21\" class=\"sk-toggleable__label sk-toggleable__label-arrow\">XGBClassifier</label><div class=\"sk-toggleable__content\"><pre>XGBClassifier(base_score=None, booster=None, callbacks=None,\n",
       "              colsample_bylevel=None, colsample_bynode=None,\n",
       "              colsample_bytree=None, early_stopping_rounds=None,\n",
       "              enable_categorical=False, eval_metric=&#x27;logloss&#x27;, gamma=None,\n",
       "              gpu_id=None, grow_policy=None, importance_type=None,\n",
       "              interaction_constraints=None, learning_rate=None, max_bin=None,\n",
       "              max_cat_to_onehot=None, max_delta_step=None, max_depth=None,\n",
       "              max_leaves=None, min_child_weight=None, missing=nan,\n",
       "              monotone_constraints=None, n_estimators=100, n_jobs=None,\n",
       "              num_parallel_tree=None, predictor=None, random_state=None,\n",
       "              reg_alpha=None, reg_lambda=None, ...)</pre></div></div></div></div></div></div></div></div></div></div>"
      ],
      "text/plain": [
       "GridSearchCV(cv=3,\n",
       "             estimator=XGBClassifier(base_score=None, booster=None,\n",
       "                                     callbacks=None, colsample_bylevel=None,\n",
       "                                     colsample_bynode=None,\n",
       "                                     colsample_bytree=None,\n",
       "                                     early_stopping_rounds=None,\n",
       "                                     enable_categorical=False,\n",
       "                                     eval_metric='logloss', gamma=None,\n",
       "                                     gpu_id=None, grow_policy=None,\n",
       "                                     importance_type=None,\n",
       "                                     interaction_constraints=None,\n",
       "                                     learning_rate=None, max_bin=None,\n",
       "                                     m...\n",
       "                                     max_delta_step=None, max_depth=None,\n",
       "                                     max_leaves=None, min_child_weight=None,\n",
       "                                     missing=nan, monotone_constraints=None,\n",
       "                                     n_estimators=100, n_jobs=None,\n",
       "                                     num_parallel_tree=None, predictor=None,\n",
       "                                     random_state=None, reg_alpha=None,\n",
       "                                     reg_lambda=None, ...),\n",
       "             param_grid={'learning_rate': [0.01, 0.1, 1, 10],\n",
       "                         'max_depth': [3, 4, 5],\n",
       "                         'n_estimators': [50, 100, 150, 200]},\n",
       "             scoring='accuracy', verbose=3)"
      ]
     },
     "execution_count": 150,
     "metadata": {},
     "output_type": "execute_result"
    }
   ],
   "source": [
    "gscv.fit(x_train,y_train)"
   ]
  },
  {
   "cell_type": "code",
   "execution_count": 151,
   "id": "353b079f",
   "metadata": {},
   "outputs": [
    {
     "data": {
      "text/plain": [
       "0.7083647535260438"
      ]
     },
     "execution_count": 151,
     "metadata": {},
     "output_type": "execute_result"
    }
   ],
   "source": [
    "gscv.best_score_"
   ]
  },
  {
   "cell_type": "code",
   "execution_count": 152,
   "id": "cb5eef18",
   "metadata": {},
   "outputs": [
    {
     "data": {
      "text/plain": [
       "{'learning_rate': 1, 'max_depth': 3, 'n_estimators': 200}"
      ]
     },
     "execution_count": 152,
     "metadata": {},
     "output_type": "execute_result"
    }
   ],
   "source": [
    "gscv.best_params_"
   ]
  },
  {
   "cell_type": "code",
   "execution_count": 154,
   "id": "9fed6c9c",
   "metadata": {},
   "outputs": [],
   "source": [
    "model_xgb = XGBClassifier(**gscv.best_params_)"
   ]
  },
  {
   "cell_type": "code",
   "execution_count": 155,
   "id": "512e8aab",
   "metadata": {},
   "outputs": [
    {
     "data": {
      "text/html": [
       "<style>#sk-container-id-13 {color: black;background-color: white;}#sk-container-id-13 pre{padding: 0;}#sk-container-id-13 div.sk-toggleable {background-color: white;}#sk-container-id-13 label.sk-toggleable__label {cursor: pointer;display: block;width: 100%;margin-bottom: 0;padding: 0.3em;box-sizing: border-box;text-align: center;}#sk-container-id-13 label.sk-toggleable__label-arrow:before {content: \"▸\";float: left;margin-right: 0.25em;color: #696969;}#sk-container-id-13 label.sk-toggleable__label-arrow:hover:before {color: black;}#sk-container-id-13 div.sk-estimator:hover label.sk-toggleable__label-arrow:before {color: black;}#sk-container-id-13 div.sk-toggleable__content {max-height: 0;max-width: 0;overflow: hidden;text-align: left;background-color: #f0f8ff;}#sk-container-id-13 div.sk-toggleable__content pre {margin: 0.2em;color: black;border-radius: 0.25em;background-color: #f0f8ff;}#sk-container-id-13 input.sk-toggleable__control:checked~div.sk-toggleable__content {max-height: 200px;max-width: 100%;overflow: auto;}#sk-container-id-13 input.sk-toggleable__control:checked~label.sk-toggleable__label-arrow:before {content: \"▾\";}#sk-container-id-13 div.sk-estimator input.sk-toggleable__control:checked~label.sk-toggleable__label {background-color: #d4ebff;}#sk-container-id-13 div.sk-label input.sk-toggleable__control:checked~label.sk-toggleable__label {background-color: #d4ebff;}#sk-container-id-13 input.sk-hidden--visually {border: 0;clip: rect(1px 1px 1px 1px);clip: rect(1px, 1px, 1px, 1px);height: 1px;margin: -1px;overflow: hidden;padding: 0;position: absolute;width: 1px;}#sk-container-id-13 div.sk-estimator {font-family: monospace;background-color: #f0f8ff;border: 1px dotted black;border-radius: 0.25em;box-sizing: border-box;margin-bottom: 0.5em;}#sk-container-id-13 div.sk-estimator:hover {background-color: #d4ebff;}#sk-container-id-13 div.sk-parallel-item::after {content: \"\";width: 100%;border-bottom: 1px solid gray;flex-grow: 1;}#sk-container-id-13 div.sk-label:hover label.sk-toggleable__label {background-color: #d4ebff;}#sk-container-id-13 div.sk-serial::before {content: \"\";position: absolute;border-left: 1px solid gray;box-sizing: border-box;top: 0;bottom: 0;left: 50%;z-index: 0;}#sk-container-id-13 div.sk-serial {display: flex;flex-direction: column;align-items: center;background-color: white;padding-right: 0.2em;padding-left: 0.2em;position: relative;}#sk-container-id-13 div.sk-item {position: relative;z-index: 1;}#sk-container-id-13 div.sk-parallel {display: flex;align-items: stretch;justify-content: center;background-color: white;position: relative;}#sk-container-id-13 div.sk-item::before, #sk-container-id-13 div.sk-parallel-item::before {content: \"\";position: absolute;border-left: 1px solid gray;box-sizing: border-box;top: 0;bottom: 0;left: 50%;z-index: -1;}#sk-container-id-13 div.sk-parallel-item {display: flex;flex-direction: column;z-index: 1;position: relative;background-color: white;}#sk-container-id-13 div.sk-parallel-item:first-child::after {align-self: flex-end;width: 50%;}#sk-container-id-13 div.sk-parallel-item:last-child::after {align-self: flex-start;width: 50%;}#sk-container-id-13 div.sk-parallel-item:only-child::after {width: 0;}#sk-container-id-13 div.sk-dashed-wrapped {border: 1px dashed gray;margin: 0 0.4em 0.5em 0.4em;box-sizing: border-box;padding-bottom: 0.4em;background-color: white;}#sk-container-id-13 div.sk-label label {font-family: monospace;font-weight: bold;display: inline-block;line-height: 1.2em;}#sk-container-id-13 div.sk-label-container {text-align: center;}#sk-container-id-13 div.sk-container {/* jupyter's `normalize.less` sets `[hidden] { display: none; }` but bootstrap.min.css set `[hidden] { display: none !important; }` so we also need the `!important` here to be able to override the default hidden behavior on the sphinx rendered scikit-learn.org. See: https://github.com/scikit-learn/scikit-learn/issues/21755 */display: inline-block !important;position: relative;}#sk-container-id-13 div.sk-text-repr-fallback {display: none;}</style><div id=\"sk-container-id-13\" class=\"sk-top-container\"><div class=\"sk-text-repr-fallback\"><pre>XGBClassifier(base_score=0.5, booster=&#x27;gbtree&#x27;, callbacks=None,\n",
       "              colsample_bylevel=1, colsample_bynode=1, colsample_bytree=1,\n",
       "              early_stopping_rounds=None, enable_categorical=False,\n",
       "              eval_metric=None, gamma=0, gpu_id=-1, grow_policy=&#x27;depthwise&#x27;,\n",
       "              importance_type=None, interaction_constraints=&#x27;&#x27;, learning_rate=1,\n",
       "              max_bin=256, max_cat_to_onehot=4, max_delta_step=0, max_depth=3,\n",
       "              max_leaves=0, min_child_weight=1, missing=nan,\n",
       "              monotone_constraints=&#x27;()&#x27;, n_estimators=200, n_jobs=0,\n",
       "              num_parallel_tree=1, predictor=&#x27;auto&#x27;, random_state=0,\n",
       "              reg_alpha=0, reg_lambda=1, ...)</pre><b>In a Jupyter environment, please rerun this cell to show the HTML representation or trust the notebook. <br />On GitHub, the HTML representation is unable to render, please try loading this page with nbviewer.org.</b></div><div class=\"sk-container\" hidden><div class=\"sk-item\"><div class=\"sk-estimator sk-toggleable\"><input class=\"sk-toggleable__control sk-hidden--visually\" id=\"sk-estimator-id-23\" type=\"checkbox\" checked><label for=\"sk-estimator-id-23\" class=\"sk-toggleable__label sk-toggleable__label-arrow\">XGBClassifier</label><div class=\"sk-toggleable__content\"><pre>XGBClassifier(base_score=0.5, booster=&#x27;gbtree&#x27;, callbacks=None,\n",
       "              colsample_bylevel=1, colsample_bynode=1, colsample_bytree=1,\n",
       "              early_stopping_rounds=None, enable_categorical=False,\n",
       "              eval_metric=None, gamma=0, gpu_id=-1, grow_policy=&#x27;depthwise&#x27;,\n",
       "              importance_type=None, interaction_constraints=&#x27;&#x27;, learning_rate=1,\n",
       "              max_bin=256, max_cat_to_onehot=4, max_delta_step=0, max_depth=3,\n",
       "              max_leaves=0, min_child_weight=1, missing=nan,\n",
       "              monotone_constraints=&#x27;()&#x27;, n_estimators=200, n_jobs=0,\n",
       "              num_parallel_tree=1, predictor=&#x27;auto&#x27;, random_state=0,\n",
       "              reg_alpha=0, reg_lambda=1, ...)</pre></div></div></div></div></div>"
      ],
      "text/plain": [
       "XGBClassifier(base_score=0.5, booster='gbtree', callbacks=None,\n",
       "              colsample_bylevel=1, colsample_bynode=1, colsample_bytree=1,\n",
       "              early_stopping_rounds=None, enable_categorical=False,\n",
       "              eval_metric=None, gamma=0, gpu_id=-1, grow_policy='depthwise',\n",
       "              importance_type=None, interaction_constraints='', learning_rate=1,\n",
       "              max_bin=256, max_cat_to_onehot=4, max_delta_step=0, max_depth=3,\n",
       "              max_leaves=0, min_child_weight=1, missing=nan,\n",
       "              monotone_constraints='()', n_estimators=200, n_jobs=0,\n",
       "              num_parallel_tree=1, predictor='auto', random_state=0,\n",
       "              reg_alpha=0, reg_lambda=1, ...)"
      ]
     },
     "execution_count": 155,
     "metadata": {},
     "output_type": "execute_result"
    }
   ],
   "source": [
    "model_xgb.fit(x_train,y_train)"
   ]
  },
  {
   "cell_type": "code",
   "execution_count": 156,
   "id": "62da5a07",
   "metadata": {},
   "outputs": [],
   "source": [
    "y_pred_xgb = model_xgb.predict(x_test)"
   ]
  },
  {
   "cell_type": "code",
   "execution_count": 157,
   "id": "ea2ad521",
   "metadata": {},
   "outputs": [
    {
     "name": "stdout",
     "output_type": "stream",
     "text": [
      "confusion matrix:\n",
      " [[12 21]\n",
      " [13 70]]\n",
      "accuracy: 0.7068965517241379\n",
      "recall: 0.8433734939759037\n",
      "f1 score: 0.8045977011494253\n",
      "Precision score: 0.7692307692307693\n"
     ]
    }
   ],
   "source": [
    "validation(y_test,y_pred_xgb)"
   ]
  },
  {
   "cell_type": "markdown",
   "id": "345ef5db",
   "metadata": {},
   "source": [
    "## KNN"
   ]
  },
  {
   "cell_type": "code",
   "execution_count": 158,
   "id": "e877dc8a",
   "metadata": {},
   "outputs": [],
   "source": [
    "from sklearn.neighbors import KNeighborsClassifier\n"
   ]
  },
  {
   "cell_type": "code",
   "execution_count": 159,
   "id": "1a5398f8",
   "metadata": {},
   "outputs": [],
   "source": [
    "model_knn = KNeighborsClassifier(n_neighbors=7)"
   ]
  },
  {
   "cell_type": "code",
   "execution_count": 160,
   "id": "d7ed4f02",
   "metadata": {},
   "outputs": [],
   "source": [
    "from sklearn.preprocessing import StandardScaler"
   ]
  },
  {
   "cell_type": "code",
   "execution_count": 161,
   "id": "6fd8e9b3",
   "metadata": {},
   "outputs": [],
   "source": [
    "sc = StandardScaler()"
   ]
  },
  {
   "cell_type": "code",
   "execution_count": 167,
   "id": "c2150117",
   "metadata": {},
   "outputs": [],
   "source": [
    "x_train_s = sc.fit_transform(x_train)\n",
    "x_test_s = sc.fit_transform(x_test)"
   ]
  },
  {
   "cell_type": "code",
   "execution_count": 168,
   "id": "dad630f5",
   "metadata": {},
   "outputs": [
    {
     "data": {
      "text/html": [
       "<div>\n",
       "<style scoped>\n",
       "    .dataframe tbody tr th:only-of-type {\n",
       "        vertical-align: middle;\n",
       "    }\n",
       "\n",
       "    .dataframe tbody tr th {\n",
       "        vertical-align: top;\n",
       "    }\n",
       "\n",
       "    .dataframe thead th {\n",
       "        text-align: right;\n",
       "    }\n",
       "</style>\n",
       "<table border=\"1\" class=\"dataframe\">\n",
       "  <thead>\n",
       "    <tr style=\"text-align: right;\">\n",
       "      <th></th>\n",
       "      <th>age</th>\n",
       "      <th>gender</th>\n",
       "      <th>tot_proteins</th>\n",
       "      <th>albumin</th>\n",
       "      <th>ag_ratio</th>\n",
       "    </tr>\n",
       "  </thead>\n",
       "  <tbody>\n",
       "    <tr>\n",
       "      <th>83</th>\n",
       "      <td>33</td>\n",
       "      <td>1</td>\n",
       "      <td>258.0</td>\n",
       "      <td>194.0</td>\n",
       "      <td>152.0</td>\n",
       "    </tr>\n",
       "    <tr>\n",
       "      <th>89</th>\n",
       "      <td>60</td>\n",
       "      <td>1</td>\n",
       "      <td>238.0</td>\n",
       "      <td>119.0</td>\n",
       "      <td>350.0</td>\n",
       "    </tr>\n",
       "    <tr>\n",
       "      <th>447</th>\n",
       "      <td>45</td>\n",
       "      <td>0</td>\n",
       "      <td>701.0</td>\n",
       "      <td>232.1</td>\n",
       "      <td>401.4</td>\n",
       "    </tr>\n",
       "    <tr>\n",
       "      <th>278</th>\n",
       "      <td>45</td>\n",
       "      <td>1</td>\n",
       "      <td>209.0</td>\n",
       "      <td>25.0</td>\n",
       "      <td>20.0</td>\n",
       "    </tr>\n",
       "    <tr>\n",
       "      <th>122</th>\n",
       "      <td>58</td>\n",
       "      <td>1</td>\n",
       "      <td>188.0</td>\n",
       "      <td>60.0</td>\n",
       "      <td>84.0</td>\n",
       "    </tr>\n",
       "    <tr>\n",
       "      <th>...</th>\n",
       "      <td>...</td>\n",
       "      <td>...</td>\n",
       "      <td>...</td>\n",
       "      <td>...</td>\n",
       "      <td>...</td>\n",
       "    </tr>\n",
       "    <tr>\n",
       "      <th>132</th>\n",
       "      <td>18</td>\n",
       "      <td>0</td>\n",
       "      <td>199.0</td>\n",
       "      <td>34.0</td>\n",
       "      <td>31.0</td>\n",
       "    </tr>\n",
       "    <tr>\n",
       "      <th>41</th>\n",
       "      <td>62</td>\n",
       "      <td>1</td>\n",
       "      <td>160.0</td>\n",
       "      <td>42.0</td>\n",
       "      <td>110.0</td>\n",
       "    </tr>\n",
       "    <tr>\n",
       "      <th>295</th>\n",
       "      <td>22</td>\n",
       "      <td>1</td>\n",
       "      <td>202.0</td>\n",
       "      <td>78.0</td>\n",
       "      <td>41.0</td>\n",
       "    </tr>\n",
       "    <tr>\n",
       "      <th>57</th>\n",
       "      <td>48</td>\n",
       "      <td>0</td>\n",
       "      <td>175.0</td>\n",
       "      <td>24.0</td>\n",
       "      <td>54.0</td>\n",
       "    </tr>\n",
       "    <tr>\n",
       "      <th>29</th>\n",
       "      <td>84</td>\n",
       "      <td>0</td>\n",
       "      <td>188.0</td>\n",
       "      <td>13.0</td>\n",
       "      <td>21.0</td>\n",
       "    </tr>\n",
       "  </tbody>\n",
       "</table>\n",
       "<p>463 rows × 5 columns</p>\n",
       "</div>"
      ],
      "text/plain": [
       "     age  gender  tot_proteins  albumin  ag_ratio\n",
       "83    33       1         258.0    194.0     152.0\n",
       "89    60       1         238.0    119.0     350.0\n",
       "447   45       0         701.0    232.1     401.4\n",
       "278   45       1         209.0     25.0      20.0\n",
       "122   58       1         188.0     60.0      84.0\n",
       "..   ...     ...           ...      ...       ...\n",
       "132   18       0         199.0     34.0      31.0\n",
       "41    62       1         160.0     42.0     110.0\n",
       "295   22       1         202.0     78.0      41.0\n",
       "57    48       0         175.0     24.0      54.0\n",
       "29    84       0         188.0     13.0      21.0\n",
       "\n",
       "[463 rows x 5 columns]"
      ]
     },
     "execution_count": 168,
     "metadata": {},
     "output_type": "execute_result"
    }
   ],
   "source": [
    "pd.DataFrame(x_train,columns=x_train.columns)"
   ]
  },
  {
   "cell_type": "code",
   "execution_count": 169,
   "id": "53975d69",
   "metadata": {},
   "outputs": [
    {
     "data": {
      "text/html": [
       "<style>#sk-container-id-14 {color: black;background-color: white;}#sk-container-id-14 pre{padding: 0;}#sk-container-id-14 div.sk-toggleable {background-color: white;}#sk-container-id-14 label.sk-toggleable__label {cursor: pointer;display: block;width: 100%;margin-bottom: 0;padding: 0.3em;box-sizing: border-box;text-align: center;}#sk-container-id-14 label.sk-toggleable__label-arrow:before {content: \"▸\";float: left;margin-right: 0.25em;color: #696969;}#sk-container-id-14 label.sk-toggleable__label-arrow:hover:before {color: black;}#sk-container-id-14 div.sk-estimator:hover label.sk-toggleable__label-arrow:before {color: black;}#sk-container-id-14 div.sk-toggleable__content {max-height: 0;max-width: 0;overflow: hidden;text-align: left;background-color: #f0f8ff;}#sk-container-id-14 div.sk-toggleable__content pre {margin: 0.2em;color: black;border-radius: 0.25em;background-color: #f0f8ff;}#sk-container-id-14 input.sk-toggleable__control:checked~div.sk-toggleable__content {max-height: 200px;max-width: 100%;overflow: auto;}#sk-container-id-14 input.sk-toggleable__control:checked~label.sk-toggleable__label-arrow:before {content: \"▾\";}#sk-container-id-14 div.sk-estimator input.sk-toggleable__control:checked~label.sk-toggleable__label {background-color: #d4ebff;}#sk-container-id-14 div.sk-label input.sk-toggleable__control:checked~label.sk-toggleable__label {background-color: #d4ebff;}#sk-container-id-14 input.sk-hidden--visually {border: 0;clip: rect(1px 1px 1px 1px);clip: rect(1px, 1px, 1px, 1px);height: 1px;margin: -1px;overflow: hidden;padding: 0;position: absolute;width: 1px;}#sk-container-id-14 div.sk-estimator {font-family: monospace;background-color: #f0f8ff;border: 1px dotted black;border-radius: 0.25em;box-sizing: border-box;margin-bottom: 0.5em;}#sk-container-id-14 div.sk-estimator:hover {background-color: #d4ebff;}#sk-container-id-14 div.sk-parallel-item::after {content: \"\";width: 100%;border-bottom: 1px solid gray;flex-grow: 1;}#sk-container-id-14 div.sk-label:hover label.sk-toggleable__label {background-color: #d4ebff;}#sk-container-id-14 div.sk-serial::before {content: \"\";position: absolute;border-left: 1px solid gray;box-sizing: border-box;top: 0;bottom: 0;left: 50%;z-index: 0;}#sk-container-id-14 div.sk-serial {display: flex;flex-direction: column;align-items: center;background-color: white;padding-right: 0.2em;padding-left: 0.2em;position: relative;}#sk-container-id-14 div.sk-item {position: relative;z-index: 1;}#sk-container-id-14 div.sk-parallel {display: flex;align-items: stretch;justify-content: center;background-color: white;position: relative;}#sk-container-id-14 div.sk-item::before, #sk-container-id-14 div.sk-parallel-item::before {content: \"\";position: absolute;border-left: 1px solid gray;box-sizing: border-box;top: 0;bottom: 0;left: 50%;z-index: -1;}#sk-container-id-14 div.sk-parallel-item {display: flex;flex-direction: column;z-index: 1;position: relative;background-color: white;}#sk-container-id-14 div.sk-parallel-item:first-child::after {align-self: flex-end;width: 50%;}#sk-container-id-14 div.sk-parallel-item:last-child::after {align-self: flex-start;width: 50%;}#sk-container-id-14 div.sk-parallel-item:only-child::after {width: 0;}#sk-container-id-14 div.sk-dashed-wrapped {border: 1px dashed gray;margin: 0 0.4em 0.5em 0.4em;box-sizing: border-box;padding-bottom: 0.4em;background-color: white;}#sk-container-id-14 div.sk-label label {font-family: monospace;font-weight: bold;display: inline-block;line-height: 1.2em;}#sk-container-id-14 div.sk-label-container {text-align: center;}#sk-container-id-14 div.sk-container {/* jupyter's `normalize.less` sets `[hidden] { display: none; }` but bootstrap.min.css set `[hidden] { display: none !important; }` so we also need the `!important` here to be able to override the default hidden behavior on the sphinx rendered scikit-learn.org. See: https://github.com/scikit-learn/scikit-learn/issues/21755 */display: inline-block !important;position: relative;}#sk-container-id-14 div.sk-text-repr-fallback {display: none;}</style><div id=\"sk-container-id-14\" class=\"sk-top-container\"><div class=\"sk-text-repr-fallback\"><pre>KNeighborsClassifier(n_neighbors=7)</pre><b>In a Jupyter environment, please rerun this cell to show the HTML representation or trust the notebook. <br />On GitHub, the HTML representation is unable to render, please try loading this page with nbviewer.org.</b></div><div class=\"sk-container\" hidden><div class=\"sk-item\"><div class=\"sk-estimator sk-toggleable\"><input class=\"sk-toggleable__control sk-hidden--visually\" id=\"sk-estimator-id-24\" type=\"checkbox\" checked><label for=\"sk-estimator-id-24\" class=\"sk-toggleable__label sk-toggleable__label-arrow\">KNeighborsClassifier</label><div class=\"sk-toggleable__content\"><pre>KNeighborsClassifier(n_neighbors=7)</pre></div></div></div></div></div>"
      ],
      "text/plain": [
       "KNeighborsClassifier(n_neighbors=7)"
      ]
     },
     "execution_count": 169,
     "metadata": {},
     "output_type": "execute_result"
    }
   ],
   "source": [
    "model_knn.fit(x_train_s,y_train)"
   ]
  },
  {
   "cell_type": "code",
   "execution_count": 171,
   "id": "e7332d5c",
   "metadata": {},
   "outputs": [],
   "source": [
    "y_pred_knn= model_knn.predict(x_test_s)"
   ]
  },
  {
   "cell_type": "code",
   "execution_count": 172,
   "id": "283bb80d",
   "metadata": {},
   "outputs": [
    {
     "name": "stdout",
     "output_type": "stream",
     "text": [
      "confusion matrix:\n",
      " [[16 17]\n",
      " [10 73]]\n",
      "accuracy: 0.7672413793103449\n",
      "recall: 0.8795180722891566\n",
      "f1 score: 0.8439306358381503\n",
      "Precision score: 0.8111111111111111\n"
     ]
    }
   ],
   "source": [
    "validation(y_test,y_pred_knn)"
   ]
  },
  {
   "cell_type": "code",
   "execution_count": null,
   "id": "5b80723b",
   "metadata": {},
   "outputs": [],
   "source": []
  }
 ],
 "metadata": {
  "kernelspec": {
   "display_name": "Python 3 (ipykernel)",
   "language": "python",
   "name": "python3"
  },
  "language_info": {
   "codemirror_mode": {
    "name": "ipython",
    "version": 3
   },
   "file_extension": ".py",
   "mimetype": "text/x-python",
   "name": "python",
   "nbconvert_exporter": "python",
   "pygments_lexer": "ipython3",
   "version": "3.9.7"
  }
 },
 "nbformat": 4,
 "nbformat_minor": 5
}
